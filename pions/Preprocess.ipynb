{
 "cells": [
  {
   "cell_type": "code",
   "execution_count": 2,
   "metadata": {},
   "outputs": [
    {
     "name": "stderr",
     "output_type": "stream",
     "text": [
      "Using TensorFlow backend.\n"
     ]
    },
    {
     "name": "stdout",
     "output_type": "stream",
     "text": [
      "Welcome to JupyROOT 6.11/03\n"
     ]
    }
   ],
   "source": [
    "import numpy as np\n",
    "from matplotlib import pyplot as plt\n",
    "import numpy\n",
    "import pandas\n",
    "from keras.models import Sequential\n",
    "from keras.layers import Dense\n",
    "from keras.wrappers.scikit_learn import KerasRegressor\n",
    "from keras.optimizers import Adam\n",
    "from keras.initializers import TruncatedNormal\n",
    "from keras.layers import Input, Dense, Dropout, Flatten, Conv2D, MaxPooling2D\n",
    "from sklearn.model_selection import cross_val_score\n",
    "from sklearn.model_selection import KFold\n",
    "from sklearn.preprocessing import StandardScaler\n",
    "from sklearn.pipeline import Pipeline\n",
    "import ROOT\n",
    "from ROOT import TH1F, TCanvas"
   ]
  },
  {
   "cell_type": "markdown",
   "metadata": {},
   "source": [
    "## Info\n",
    "20>high 20<low"
   ]
  },
  {
   "cell_type": "code",
   "execution_count": 2,
   "metadata": {},
   "outputs": [],
   "source": [
    "files=[\"pi-30GeV.txt\"]\n",
    "#\"pi-300GeV.txt\",\n",
    "#\"pi-200GeV.txt\",\n",
    "#\"pi-150GeV.txt\",\n",
    "#\"pi-100GeV.txt\"\n",
    "#\"pi-50GeV.txt\",\n",
    "#\"pi-30GeV.txt\",\n",
    "#\"pi-20GeV.txt\",\n",
    "#\"pi-9GeV.txt\",\n",
    "#\"pi-8GeV.txt\",\n",
    "#\"pi-7GeV.txt\",\n",
    "#\"pi-6GeV.txt\",\n",
    "#\"pi-5GeV.txt\",\n",
    "#\"pi-4GeV.txt\",\n",
    "#\"pi-3GeV.txt\",\n",
    "#\"pi-2GeV.txt\"]\n"
   ]
  },
  {
   "cell_type": "code",
   "execution_count": 3,
   "metadata": {},
   "outputs": [],
   "source": [
    "prefix=\"pi-txt/\"\n",
    "lines9x9={}\n",
    "lines9x9buffer=[]\n",
    "lines3x4={}\n",
    "lines3x4buffer=[]"
   ]
  },
  {
   "cell_type": "markdown",
   "metadata": {},
   "source": [
    "#### Getting lines of length 9 and 4\n",
    "the result is a map with the file"
   ]
  },
  {
   "cell_type": "code",
   "execution_count": 4,
   "metadata": {},
   "outputs": [],
   "source": [
    "for i in files:\n",
    "    file = open(prefix+i)\n",
    "    data=file.readlines()\n",
    "    for l in data:\n",
    "        line=np.fromstring(l.strip(),sep=\" \")\n",
    "        if len(line) == 9 :\n",
    "            lines9x9buffer.append(line)\n",
    "        if len(line) == 4 :\n",
    "            lines3x4buffer.append(line)\n",
    "    lines9x9[i]=lines9x9buffer\n",
    "    lines3x4[i]=lines3x4buffer"
   ]
  },
  {
   "cell_type": "code",
   "execution_count": 5,
   "metadata": {},
   "outputs": [],
   "source": [
    "def shapeimages9x9(lines):\n",
    "    img9x9={}\n",
    "    for key in lines.keys():\n",
    "        counter=1\n",
    "        imgs=[]\n",
    "        img=[]\n",
    "        for line in lines[key]:\n",
    "            if counter%9==0:\n",
    "                img.extend(line)\n",
    "                imgs.append(img)\n",
    "                img=[]\n",
    "            else:\n",
    "                img.extend(line)\n",
    "            counter=counter+1\n",
    "        img9x9[key]=imgs \n",
    "    return img9x9\n",
    "\n",
    "def shapeimages3x4(lines):\n",
    "    img3x4={}\n",
    "    for key in lines.keys():\n",
    "        counter=1\n",
    "        imgs=[]\n",
    "        img=[]\n",
    "        for line in lines[key]:\n",
    "            if counter%3==0:\n",
    "                img.extend(line)\n",
    "                imgs.append(img)\n",
    "                img=[]\n",
    "            else:\n",
    "                img.extend(line)\n",
    "            counter=counter+1\n",
    "        img3x4[key]=imgs \n",
    "    return img3x4\n"
   ]
  },
  {
   "cell_type": "code",
   "execution_count": 6,
   "metadata": {},
   "outputs": [
    {
     "name": "stdout",
     "output_type": "stream",
     "text": [
      "(7374, 81)\n",
      "(7374, 12)\n"
     ]
    }
   ],
   "source": [
    "img9x9 = shapeimages9x9(lines9x9)\n",
    "img100GeVChannel1 = img9x9['pi-30GeV.txt']\n",
    "print(np.array(img9x9['pi-30GeV.txt']).shape)\n",
    "img3x4 = shapeimages3x4(lines3x4)\n",
    "print(np.array(img3x4['pi-30GeV.txt']).shape)\n"
   ]
  },
  {
   "cell_type": "markdown",
   "metadata": {},
   "source": [
    "#### Plotting img"
   ]
  },
  {
   "cell_type": "code",
   "execution_count": 7,
   "metadata": {},
   "outputs": [
    {
     "data": {
      "image/png": "[encoded data removed]",
      "text/plain": [
       "<matplotlib.figure.Figure at 0x7f30012d4a10>"
      ]
     },
     "metadata": {},
     "output_type": "display_data"
    }
   ],
   "source": [
    "plt.imshow(np.array(img9x9['pi-100GeV.txt'][0]).reshape((9,9)))\n",
    "plt.show()"
   ]
  },
  {
   "cell_type": "code",
   "execution_count": 8,
   "metadata": {},
   "outputs": [],
   "source": [
    "#image A must be 3x4 flattened\n",
    "def ImgMask3x3To9x9(A):\n",
    "    B=np.zeros(81)\n",
    "    #row 1\n",
    "    B[0]=A[0]/6.0\n",
    "    B[1]=A[0]/6.0\n",
    "    B[2]=A[1]/9.0\n",
    "    B[3]=A[1]/9.0\n",
    "    B[4]=A[1]/9.0\n",
    "    B[5]=A[2]/9.0\n",
    "    B[6]=A[2]/9.0\n",
    "    B[7]=A[2]/9.0\n",
    "    B[8]=A[3]/3.0\n",
    "    \n",
    "    #row 2\n",
    "    B[9] =A[0]/6.0\n",
    "    B[10]=A[0]/6.0\n",
    "    B[11]=A[1]/9.0\n",
    "    B[12]=A[1]/9.0\n",
    "    B[13]=A[1]/9.0\n",
    "    B[14]=A[2]/9.0\n",
    "    B[15]=A[2]/9.0\n",
    "    B[16]=A[2]/9.0\n",
    "    B[17]=A[3]/3.0\n",
    "\n",
    "    #row 3\n",
    "    B[18]=A[0]/6.0\n",
    "    B[19]=A[0]/6.0\n",
    "    B[20]=A[1]/9.0\n",
    "    B[21]=A[1]/9.0\n",
    "    B[22]=A[1]/9.0\n",
    "    B[23]=A[2]/9.0\n",
    "    B[24]=A[2]/9.0\n",
    "    B[25]=A[2]/9.0\n",
    "    B[26]=A[3]/3.0\n",
    "\n",
    "    #row 4\n",
    "    B[27]=A[4]/6.0\n",
    "    B[28]=A[4]/6.0\n",
    "    B[29]=A[5]/9.0\n",
    "    B[30]=A[5]/9.0\n",
    "    B[31]=A[5]/9.0\n",
    "    B[32]=A[6]/9.0\n",
    "    B[33]=A[6]/9.0\n",
    "    B[34]=A[6]/9.0\n",
    "    B[35]=A[7]/3.0\n",
    "\n",
    "    #row 5\n",
    "    B[36]=A[4]/6.0\n",
    "    B[37]=A[4]/6.0\n",
    "    B[38]=A[5]/9.0\n",
    "    B[39]=A[5]/9.0\n",
    "    B[40]=A[5]/9.0\n",
    "    B[41]=A[6]/9.0\n",
    "    B[42]=A[6]/9.0\n",
    "    B[43]=A[6]/9.0\n",
    "    B[44]=A[7]/3.0\n",
    "    \n",
    "    #row 6\n",
    "    B[45]=A[4]/6.0\n",
    "    B[46]=A[4]/6.0\n",
    "    B[47]=A[5]/9.0\n",
    "    B[48]=A[5]/9.0\n",
    "    B[49]=A[5]/9.0\n",
    "    B[50]=A[6]/9.0\n",
    "    B[51]=A[6]/9.0\n",
    "    B[52]=A[6]/9.0\n",
    "    B[53]=A[7]/3.0\n",
    "\n",
    "    #row 7\n",
    "    B[54]=A[8]/6.0\n",
    "    B[55]=A[8]/6.0\n",
    "    B[56]=A[9]/9.0\n",
    "    B[57]=A[9]/9.0\n",
    "    B[58]=A[9]/9.0\n",
    "    B[59]=A[10]/9.0\n",
    "    B[60]=A[10]/9.0\n",
    "    B[61]=A[10]/9.0\n",
    "    B[62]=A[11]/3.0\n",
    "    \n",
    "    #row 8\n",
    "    B[63]=A[8]/6.0\n",
    "    B[64]=A[8]/6.0\n",
    "    B[65]=A[9]/9.0\n",
    "    B[66]=A[9]/9.0\n",
    "    B[67]=A[9]/9.0\n",
    "    B[68]=A[10]/9.0\n",
    "    B[69]=A[10]/9.0\n",
    "    B[70]=A[10]/9.0\n",
    "    B[71]=A[11]/3.0\n",
    "\n",
    "    #row 9\n",
    "    B[72]=A[8]/6.0\n",
    "    B[73]=A[8]/6.0\n",
    "    B[74]=A[9]/9.0\n",
    "    B[75]=A[9]/9.0\n",
    "    B[76]=A[9]/9.0\n",
    "    B[77]=A[10]/9.0\n",
    "    B[78]=A[10]/9.0\n",
    "    B[79]=A[10]/9.0\n",
    "    B[80]=A[11]/3.0\n",
    "    return B\n"
   ]
  },
  {
   "cell_type": "code",
   "execution_count": 9,
   "metadata": {},
   "outputs": [],
   "source": [
    "img100GeVChannel2=[]\n",
    "for img in img3x4['pi-100GeV.txt']:\n",
    "    img9x9=ImgMask3x3To9x9(img)\n",
    "    img100GeVChannel2.append(img9x9)\n"
   ]
  },
  {
   "cell_type": "markdown",
   "metadata": {},
   "source": [
    "## Creating 2 channels images"
   ]
  },
  {
   "cell_type": "code",
   "execution_count": 10,
   "metadata": {},
   "outputs": [
    {
     "name": "stdout",
     "output_type": "stream",
     "text": [
      "(14554, 81)\n",
      "(14554, 81)\n",
      "(14554, 81, 2)\n"
     ]
    }
   ],
   "source": [
    "print(np.array(img100GeVChannel1).shape)\n",
    "print(np.array(img100GeVChannel2).shape)\n",
    "img100GeV = np.dstack((img100GeVChannel2,img100GeVChannel1))\n",
    "print(img100GeV.shape)"
   ]
  },
  {
   "cell_type": "code",
   "execution_count": 13,
   "metadata": {},
   "outputs": [],
   "source": [
    "X=[]\n",
    "for index in range(len(img100GeVChannel1)):\n",
    "    X.append(np.concatenate((img100GeVChannel2[index],img100GeVChannel1[index])))\n",
    "X=np.array(X)\n",
    "X_train=X[0:10000,:]\n",
    "Y_train=np.full(X_train.shape[0],100)\n",
    "X_test = X[10000:,:]"
   ]
  },
  {
   "cell_type": "code",
   "execution_count": 14,
   "metadata": {},
   "outputs": [
    {
     "name": "stdout",
     "output_type": "stream",
     "text": [
      "(14554, 162)\n",
      "(10000, 162)\n",
      "(10000,)\n",
      "(4554, 162)\n"
     ]
    }
   ],
   "source": [
    "print(np.array(X).shape)\n",
    "print(X_train.shape)\n",
    "print(Y_train.shape)\n",
    "print(X_test.shape)\n",
    "\n"
   ]
  },
  {
   "cell_type": "markdown",
   "metadata": {},
   "source": [
    "## Creating a Keras Model"
   ]
  },
  {
   "cell_type": "code",
   "execution_count": 3,
   "metadata": {},
   "outputs": [
    {
     "name": "stdout",
     "output_type": "stream",
     "text": [
      "_________________________________________________________________\n",
      "Layer (type)                 Output Shape              Param #   \n",
      "=================================================================\n",
      "dense_1 (Dense)              (None, 256)               41728     \n",
      "_________________________________________________________________\n",
      "dense_2 (Dense)              (None, 1)                 257       \n",
      "=================================================================\n",
      "Total params: 41,985\n",
      "Trainable params: 41,985\n",
      "Non-trainable params: 0\n",
      "_________________________________________________________________\n"
     ]
    },
    {
     "name": "stderr",
     "output_type": "stream",
     "text": [
      "2017-11-23 10:27:00.250651: W tensorflow/core/platform/cpu_feature_guard.cc:45] The TensorFlow library wasn't compiled to use SSE4.1 instructions, but these are available on your machine and could speed up CPU computations.\n",
      "2017-11-23 10:27:00.250699: W tensorflow/core/platform/cpu_feature_guard.cc:45] The TensorFlow library wasn't compiled to use SSE4.2 instructions, but these are available on your machine and could speed up CPU computations.\n",
      "2017-11-23 10:27:00.250703: W tensorflow/core/platform/cpu_feature_guard.cc:45] The TensorFlow library wasn't compiled to use AVX instructions, but these are available on your machine and could speed up CPU computations.\n",
      "2017-11-23 10:27:00.250706: W tensorflow/core/platform/cpu_feature_guard.cc:45] The TensorFlow library wasn't compiled to use AVX2 instructions, but these are available on your machine and could speed up CPU computations.\n",
      "2017-11-23 10:27:00.250709: W tensorflow/core/platform/cpu_feature_guard.cc:45] The TensorFlow library wasn't compiled to use FMA instructions, but these are available on your machine and could speed up CPU computations.\n"
     ]
    }
   ],
   "source": [
    "# create model\n",
    "model = Sequential()\n",
    "model.add(Dense(256, input_dim=162, kernel_initializer='normal', activation='relu'))\n",
    "model.add(Dense(1, kernel_initializer='normal'))\n",
    "# Compile model\n",
    "model.compile(loss='mean_squared_error', optimizer='adam')\n",
    "model.save('model_cnn.h5')\n",
    "model.summary()\n",
    "# Compile model\n"
   ]
  },
  {
   "cell_type": "code",
   "execution_count": 16,
   "metadata": {},
   "outputs": [
    {
     "name": "stdout",
     "output_type": "stream",
     "text": [
      "Epoch 1/100\n",
      "\r",
      "   32/10000 [..............................] - ETA: 8s - loss: 10014.1055"
     ]
    },
    {
     "name": "stderr",
     "output_type": "stream",
     "text": [
      "/usr/local/lib/python2.7/dist-packages/keras/models.py:848: UserWarning: The `nb_epoch` argument in `fit` has been renamed `epochs`.\n",
      "  warnings.warn('The `nb_epoch` argument in `fit` '\n"
     ]
    },
    {
     "name": "stdout",
     "output_type": "stream",
     "text": [
      "10000/10000 [==============================] - 0s - loss: 1235.8478     \n",
      "Epoch 2/100\n",
      "10000/10000 [==============================] - 0s - loss: 244.5468     \n",
      "Epoch 3/100\n",
      "10000/10000 [==============================] - 0s - loss: 228.7788     \n",
      "Epoch 4/100\n",
      "10000/10000 [==============================] - 0s - loss: 208.2390     \n",
      "Epoch 5/100\n",
      "10000/10000 [==============================] - 0s - loss: 178.2293     \n",
      "Epoch 6/100\n",
      "10000/10000 [==============================] - 0s - loss: 136.9318     \n",
      "Epoch 7/100\n",
      "10000/10000 [==============================] - 0s - loss: 92.8892     \n",
      "Epoch 8/100\n",
      "10000/10000 [==============================] - 0s - loss: 54.3567     \n",
      "Epoch 9/100\n",
      "10000/10000 [==============================] - 0s - loss: 26.5939     \n",
      "Epoch 10/100\n",
      "10000/10000 [==============================] - 0s - loss: 10.8672     \n",
      "Epoch 11/100\n",
      "10000/10000 [==============================] - 0s - loss: 4.9974     \n",
      "Epoch 12/100\n",
      "10000/10000 [==============================] - 0s - loss: 2.5959     \n",
      "Epoch 13/100\n",
      "10000/10000 [==============================] - 0s - loss: 2.0579     \n",
      "Epoch 14/100\n",
      "10000/10000 [==============================] - 0s - loss: 1.7202     \n",
      "Epoch 15/100\n",
      "10000/10000 [==============================] - 0s - loss: 1.4328     \n",
      "Epoch 16/100\n",
      "10000/10000 [==============================] - 0s - loss: 1.4838     \n",
      "Epoch 17/100\n",
      "10000/10000 [==============================] - 0s - loss: 1.4229     \n",
      "Epoch 18/100\n",
      "10000/10000 [==============================] - 0s - loss: 1.6612     \n",
      "Epoch 19/100\n",
      "10000/10000 [==============================] - 0s - loss: 1.7326     \n",
      "Epoch 20/100\n",
      "10000/10000 [==============================] - 0s - loss: 1.4143     \n",
      "Epoch 21/100\n",
      "10000/10000 [==============================] - 0s - loss: 1.8897     \n",
      "Epoch 22/100\n",
      "10000/10000 [==============================] - 0s - loss: 1.1516     \n",
      "Epoch 23/100\n",
      "10000/10000 [==============================] - 0s - loss: 1.2344     \n",
      "Epoch 24/100\n",
      "10000/10000 [==============================] - 0s - loss: 1.4978     \n",
      "Epoch 25/100\n",
      "10000/10000 [==============================] - 0s - loss: 1.2999     \n",
      "Epoch 26/100\n",
      "10000/10000 [==============================] - 0s - loss: 1.1832     \n",
      "Epoch 27/100\n",
      "10000/10000 [==============================] - 0s - loss: 1.3559     \n",
      "Epoch 28/100\n",
      "10000/10000 [==============================] - 0s - loss: 1.3402     \n",
      "Epoch 29/100\n",
      "10000/10000 [==============================] - 0s - loss: 1.0704     \n",
      "Epoch 30/100\n",
      "10000/10000 [==============================] - 0s - loss: 1.1188     \n",
      "Epoch 31/100\n",
      "10000/10000 [==============================] - 0s - loss: 1.5731     \n",
      "Epoch 32/100\n",
      "10000/10000 [==============================] - 0s - loss: 1.4455     \n",
      "Epoch 33/100\n",
      "10000/10000 [==============================] - 0s - loss: 1.2553     \n",
      "Epoch 34/100\n",
      "10000/10000 [==============================] - 0s - loss: 1.2830     \n",
      "Epoch 35/100\n",
      "10000/10000 [==============================] - 0s - loss: 1.0323     \n",
      "Epoch 36/100\n",
      "10000/10000 [==============================] - 0s - loss: 1.0615     \n",
      "Epoch 37/100\n",
      "10000/10000 [==============================] - 0s - loss: 1.2233     \n",
      "Epoch 38/100\n",
      "10000/10000 [==============================] - 0s - loss: 1.4967     \n",
      "Epoch 39/100\n",
      "10000/10000 [==============================] - 0s - loss: 1.0007     \n",
      "Epoch 40/100\n",
      "10000/10000 [==============================] - 0s - loss: 1.1690     \n",
      "Epoch 41/100\n",
      "10000/10000 [==============================] - 0s - loss: 1.2068     \n",
      "Epoch 42/100\n",
      "10000/10000 [==============================] - 0s - loss: 1.3111     \n",
      "Epoch 43/100\n",
      "10000/10000 [==============================] - 0s - loss: 0.7848     \n",
      "Epoch 44/100\n",
      "10000/10000 [==============================] - 0s - loss: 0.7199     \n",
      "Epoch 45/100\n",
      "10000/10000 [==============================] - 0s - loss: 0.9980     \n",
      "Epoch 46/100\n",
      "10000/10000 [==============================] - 0s - loss: 1.3466     \n",
      "Epoch 47/100\n",
      "10000/10000 [==============================] - 0s - loss: 1.0637     \n",
      "Epoch 48/100\n",
      "10000/10000 [==============================] - 0s - loss: 1.3597     \n",
      "Epoch 49/100\n",
      "10000/10000 [==============================] - 0s - loss: 0.9479     \n",
      "Epoch 50/100\n",
      "10000/10000 [==============================] - 0s - loss: 0.7433     \n",
      "Epoch 51/100\n",
      "10000/10000 [==============================] - 0s - loss: 0.8600     \n",
      "Epoch 52/100\n",
      "10000/10000 [==============================] - 0s - loss: 1.3497     \n",
      "Epoch 53/100\n",
      "10000/10000 [==============================] - 0s - loss: 1.2364     \n",
      "Epoch 54/100\n",
      "10000/10000 [==============================] - 0s - loss: 1.0075     \n",
      "Epoch 55/100\n",
      "10000/10000 [==============================] - 0s - loss: 0.7878     \n",
      "Epoch 56/100\n",
      "10000/10000 [==============================] - 0s - loss: 1.0443     \n",
      "Epoch 57/100\n",
      "10000/10000 [==============================] - 0s - loss: 0.8198     \n",
      "Epoch 58/100\n",
      "10000/10000 [==============================] - 0s - loss: 0.6620     \n",
      "Epoch 59/100\n",
      "10000/10000 [==============================] - 0s - loss: 1.1450     \n",
      "Epoch 60/100\n",
      "10000/10000 [==============================] - 0s - loss: 1.1056     \n",
      "Epoch 61/100\n",
      "10000/10000 [==============================] - 0s - loss: 1.0570     \n",
      "Epoch 62/100\n",
      "10000/10000 [==============================] - 0s - loss: 1.4348     \n",
      "Epoch 63/100\n",
      "10000/10000 [==============================] - 0s - loss: 0.6503     \n",
      "Epoch 64/100\n",
      "10000/10000 [==============================] - 0s - loss: 0.7652     \n",
      "Epoch 65/100\n",
      "10000/10000 [==============================] - 0s - loss: 0.9864     \n",
      "Epoch 66/100\n",
      "10000/10000 [==============================] - 0s - loss: 0.8516     \n",
      "Epoch 67/100\n",
      "10000/10000 [==============================] - 0s - loss: 1.1198     \n",
      "Epoch 68/100\n",
      "10000/10000 [==============================] - 0s - loss: 0.9776     \n",
      "Epoch 69/100\n",
      "10000/10000 [==============================] - 0s - loss: 0.7341     \n",
      "Epoch 70/100\n",
      "10000/10000 [==============================] - 0s - loss: 0.5874     \n",
      "Epoch 71/100\n",
      "10000/10000 [==============================] - 0s - loss: 0.9747     \n",
      "Epoch 72/100\n",
      "10000/10000 [==============================] - 0s - loss: 1.6780     \n",
      "Epoch 73/100\n",
      "10000/10000 [==============================] - 0s - loss: 0.8098     \n",
      "Epoch 74/100\n",
      "10000/10000 [==============================] - 0s - loss: 0.8515     \n",
      "Epoch 75/100\n",
      "10000/10000 [==============================] - 0s - loss: 0.6314     \n",
      "Epoch 76/100\n",
      "10000/10000 [==============================] - 0s - loss: 0.8060     \n",
      "Epoch 77/100\n",
      "10000/10000 [==============================] - 0s - loss: 0.8850     \n",
      "Epoch 78/100\n",
      "10000/10000 [==============================] - 0s - loss: 0.9437     \n",
      "Epoch 79/100\n",
      "10000/10000 [==============================] - 0s - loss: 0.7093     \n",
      "Epoch 80/100\n",
      "10000/10000 [==============================] - 0s - loss: 1.4850     \n",
      "Epoch 81/100\n",
      "10000/10000 [==============================] - 0s - loss: 0.8064     \n",
      "Epoch 82/100\n",
      "10000/10000 [==============================] - 0s - loss: 0.8391     \n",
      "Epoch 83/100\n",
      "10000/10000 [==============================] - 0s - loss: 0.9126     \n",
      "Epoch 84/100\n",
      "10000/10000 [==============================] - 0s - loss: 0.8992     \n",
      "Epoch 85/100\n",
      "10000/10000 [==============================] - 0s - loss: 0.8525     \n",
      "Epoch 86/100\n",
      "10000/10000 [==============================] - 0s - loss: 0.6580     \n",
      "Epoch 87/100\n",
      "10000/10000 [==============================] - 0s - loss: 0.9731     \n",
      "Epoch 88/100\n",
      "10000/10000 [==============================] - 0s - loss: 0.7547     \n",
      "Epoch 89/100\n",
      "10000/10000 [==============================] - 0s - loss: 1.0246     \n",
      "Epoch 90/100\n",
      "10000/10000 [==============================] - 0s - loss: 0.8221     \n",
      "Epoch 91/100\n",
      "10000/10000 [==============================] - 0s - loss: 0.7756     \n",
      "Epoch 92/100\n",
      "10000/10000 [==============================] - 0s - loss: 0.5653     \n",
      "Epoch 93/100\n",
      "10000/10000 [==============================] - 0s - loss: 1.1734     \n",
      "Epoch 94/100\n",
      "10000/10000 [==============================] - 0s - loss: 1.1818     \n",
      "Epoch 95/100\n",
      "10000/10000 [==============================] - 0s - loss: 0.7254     \n",
      "Epoch 96/100\n",
      "10000/10000 [==============================] - 0s - loss: 0.6496     \n",
      "Epoch 97/100\n",
      "10000/10000 [==============================] - 0s - loss: 0.6922     \n",
      "Epoch 98/100\n",
      "10000/10000 [==============================] - 0s - loss: 0.7298     \n",
      "Epoch 99/100\n",
      "10000/10000 [==============================] - 0s - loss: 1.1229     \n",
      "Epoch 100/100\n",
      "10000/10000 [==============================] - 0s - loss: 0.6605     \n"
     ]
    },
    {
     "data": {
      "text/plain": [
       "<keras.callbacks.History at 0x7f30012d47d0>"
      ]
     },
     "execution_count": 16,
     "metadata": {},
     "output_type": "execute_result"
    },
    {
     "name": "stderr",
     "output_type": "stream",
     "text": [
      "2017-11-21 14:08:43.410356: W tensorflow/core/platform/cpu_feature_guard.cc:45] The TensorFlow library wasn't compiled to use SSE4.1 instructions, but these are available on your machine and could speed up CPU computations.\n",
      "2017-11-21 14:08:43.410375: W tensorflow/core/platform/cpu_feature_guard.cc:45] The TensorFlow library wasn't compiled to use SSE4.2 instructions, but these are available on your machine and could speed up CPU computations.\n",
      "2017-11-21 14:08:43.410379: W tensorflow/core/platform/cpu_feature_guard.cc:45] The TensorFlow library wasn't compiled to use AVX instructions, but these are available on your machine and could speed up CPU computations.\n",
      "2017-11-21 14:08:43.410382: W tensorflow/core/platform/cpu_feature_guard.cc:45] The TensorFlow library wasn't compiled to use AVX2 instructions, but these are available on your machine and could speed up CPU computations.\n",
      "2017-11-21 14:08:43.410385: W tensorflow/core/platform/cpu_feature_guard.cc:45] The TensorFlow library wasn't compiled to use FMA instructions, but these are available on your machine and could speed up CPU computations.\n"
     ]
    }
   ],
   "source": [
    "model.fit(X_train, Y_train, nb_epoch=100, verbose=1)"
   ]
  },
  {
   "cell_type": "code",
   "execution_count": 17,
   "metadata": {},
   "outputs": [],
   "source": [
    "pred=model.predict(X_test)"
   ]
  },
  {
   "cell_type": "code",
   "execution_count": 18,
   "metadata": {},
   "outputs": [
    {
     "data": {
      "text/plain": [
       "array([[ 100.34838867],\n",
       "       [ 100.16846466],\n",
       "       [ 100.0861969 ],\n",
       "       ..., \n",
       "       [ 100.41907501],\n",
       "       [ 100.18737793],\n",
       "       [ 100.58363342]], dtype=float32)"
      ]
     },
     "execution_count": 18,
     "metadata": {},
     "output_type": "execute_result"
    }
   ],
   "source": [
    "pred"
   ]
  },
  {
   "cell_type": "code",
   "execution_count": 23,
   "metadata": {},
   "outputs": [
    {
     "name": "stderr",
     "output_type": "stream",
     "text": [
      "Warning in <TROOT::Append>: Replacing existing TH1: h1 (Potential memory leak).\n"
     ]
    }
   ],
   "source": [
    "hist=TH1F(\"h1\",\"pions\",100,90,110)\n",
    "for i in pred:\n",
    "    hist.Fill(i)\n"
   ]
  },
  {
   "cell_type": "code",
   "execution_count": 24,
   "metadata": {},
   "outputs": [
    {
     "data": {
      "image/png": "[encoded data removed]",
      "text/plain": [
       "<IPython.core.display.Image object>"
      ]
     },
     "metadata": {},
     "output_type": "display_data"
    }
   ],
   "source": [
    "c=TCanvas()\n",
    "hist.Draw()\n",
    "c.Draw()"
   ]
  },
  {
   "cell_type": "code",
   "execution_count": null,
   "metadata": {},
   "outputs": [],
   "source": []
  }
 ],
 "metadata": {
  "kernelspec": {
   "display_name": "Python 2",
   "language": "python",
   "name": "python2"
  },
  "language_info": {
   "codemirror_mode": {
    "name": "ipython",
    "version": 2
   },
   "file_extension": ".py",
   "mimetype": "text/x-python",
   "name": "python",
   "nbconvert_exporter": "python",
   "pygments_lexer": "ipython2",
   "version": "2.7.13"
  }
 },
 "nbformat": 4,
 "nbformat_minor": 2
}
