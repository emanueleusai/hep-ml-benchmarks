{
 "cells": [
  {
   "cell_type": "code",
   "execution_count": 1,
   "metadata": {},
   "outputs": [
    {
     "name": "stderr",
     "output_type": "stream",
     "text": [
      "Using TensorFlow backend.\n"
     ]
    },
    {
     "name": "stdout",
     "output_type": "stream",
     "text": [
      "Welcome to JupyROOT 6.11/03\n"
     ]
    }
   ],
   "source": [
    "import numpy as np\n",
    "from matplotlib import pyplot as plt\n",
    "import numpy\n",
    "import pandas\n",
    "from keras.models import Sequential\n",
    "from keras.layers import Dense\n",
    "from keras.wrappers.scikit_learn import KerasRegressor\n",
    "from keras.optimizers import Adam\n",
    "from keras.initializers import TruncatedNormal\n",
    "from keras.layers import Input, Dense, Dropout, Flatten, Conv2D, MaxPooling2D\n",
    "from sklearn.model_selection import cross_val_score\n",
    "from sklearn.model_selection import KFold\n",
    "from sklearn.preprocessing import StandardScaler\n",
    "from sklearn.pipeline import Pipeline\n",
    "import ROOT\n",
    "from ROOT import TH1F, TCanvas, TTree, TFile\n",
    "from array import array"
   ]
  },
  {
   "cell_type": "markdown",
   "metadata": {},
   "source": [
    "## Info\n",
    "30>high 30<low"
   ]
  },
  {
   "cell_type": "code",
   "execution_count": 2,
   "metadata": {},
   "outputs": [],
   "source": [
    "files=[\"pi-30GeV.txt\",\n",
    "\"pi-300GeV.txt\",\n",
    "\"pi-200GeV.txt\",\n",
    "\"pi-150GeV.txt\",\n",
    "\"pi-100GeV.txt\",\n",
    "\"pi-50GeV.txt\",\n",
    "\"pi-30GeV.txt\"]\n",
    "#\"pi-20GeV.txt\"]\n",
    "#\"pi-9GeV.txt\",\n",
    "#\"pi-8GeV.txt\",\n",
    "#\"pi-7GeV.txt\",\n",
    "#\"pi-6GeV.txt\",\n",
    "#\"pi-5GeV.txt\",\n",
    "#\"pi-4GeV.txt\",\n",
    "#\"pi-3GeV.txt\",\n",
    "#\"pi-2GeV.txt\"]\n"
   ]
  },
  {
   "cell_type": "code",
   "execution_count": 3,
   "metadata": {},
   "outputs": [],
   "source": [
    "lines9x9={}\n",
    "lines3x4={}"
   ]
  },
  {
   "cell_type": "markdown",
   "metadata": {},
   "source": [
    "#### Getting lines of length 9 and 4\n",
    "the result is a map with the file"
   ]
  },
  {
   "cell_type": "code",
   "execution_count": 4,
   "metadata": {},
   "outputs": [],
   "source": [
    "for i in files:\n",
    "    prefix=\"pi-txt/\"\n",
    "    lines9x9buffer=[]\n",
    "    lines3x4buffer=[]\n",
    "    file = open(prefix+i)\n",
    "    data=file.readlines()\n",
    "    for l in data:\n",
    "        line=np.fromstring(l.strip(),sep=\" \")\n",
    "        if len(line) == 9 :\n",
    "            lines9x9buffer.append(line)\n",
    "        if len(line) == 4 :\n",
    "            lines3x4buffer.append(line)\n",
    "    lines9x9[i]=lines9x9buffer\n",
    "    lines3x4[i]=lines3x4buffer"
   ]
  },
  {
   "cell_type": "code",
   "execution_count": 5,
   "metadata": {},
   "outputs": [],
   "source": [
    "def shapeimages9x9(lines):\n",
    "    img9x9={}\n",
    "    for key in lines.keys():\n",
    "        counter=1\n",
    "        imgs=[]\n",
    "        img=[]\n",
    "        for line in lines[key]:\n",
    "            if counter%9==0:\n",
    "                img.extend(line)\n",
    "                imgs.append(img)\n",
    "                img=[]\n",
    "            else:\n",
    "                img.extend(line)\n",
    "            counter=counter+1\n",
    "        img9x9[key]=imgs \n",
    "    return img9x9\n",
    "\n",
    "def shapeimages3x4(lines):\n",
    "    img3x4={}\n",
    "    for key in lines.keys():\n",
    "        counter=1\n",
    "        imgs=[]\n",
    "        img=[]\n",
    "        for line in lines[key]:\n",
    "            if counter%3==0:\n",
    "                img.extend(line)\n",
    "                imgs.append(img)\n",
    "                img=[]\n",
    "            else:\n",
    "                img.extend(line)\n",
    "            counter=counter+1\n",
    "        img3x4[key]=imgs \n",
    "    return img3x4\n"
   ]
  },
  {
   "cell_type": "code",
   "execution_count": 6,
   "metadata": {},
   "outputs": [],
   "source": [
    "img9x9 = shapeimages9x9(lines9x9)\n",
    "img3x4 = shapeimages3x4(lines3x4)"
   ]
  },
  {
   "cell_type": "markdown",
   "metadata": {},
   "source": [
    "#### Plotting img"
   ]
  },
  {
   "cell_type": "code",
   "execution_count": 7,
   "metadata": {},
   "outputs": [
    {
     "data": {
      "image/png": "[encoded data removed]",
      "text/plain": [
       "<matplotlib.figure.Figure at 0x7f083b192390>"
      ]
     },
     "metadata": {},
     "output_type": "display_data"
    }
   ],
   "source": [
    "plt.imshow(np.array(img9x9['pi-100GeV.txt'][0]).reshape((9,9)))\n",
    "plt.show()"
   ]
  },
  {
   "cell_type": "code",
   "execution_count": 8,
   "metadata": {},
   "outputs": [],
   "source": [
    "#image A must be 3x4 flattened\n",
    "def ImgMask3x3To9x9(A):\n",
    "    B=np.zeros(81)\n",
    "    #row 1\n",
    "    B[0]=A[0]/6.0\n",
    "    B[1]=A[0]/6.0\n",
    "    B[2]=A[1]/9.0\n",
    "    B[3]=A[1]/9.0\n",
    "    B[4]=A[1]/9.0\n",
    "    B[5]=A[2]/9.0\n",
    "    B[6]=A[2]/9.0\n",
    "    B[7]=A[2]/9.0\n",
    "    B[8]=A[3]/3.0\n",
    "    \n",
    "    #row 2\n",
    "    B[9] =A[0]/6.0\n",
    "    B[10]=A[0]/6.0\n",
    "    B[11]=A[1]/9.0\n",
    "    B[12]=A[1]/9.0\n",
    "    B[13]=A[1]/9.0\n",
    "    B[14]=A[2]/9.0\n",
    "    B[15]=A[2]/9.0\n",
    "    B[16]=A[2]/9.0\n",
    "    B[17]=A[3]/3.0\n",
    "\n",
    "    #row 3\n",
    "    B[18]=A[0]/6.0\n",
    "    B[19]=A[0]/6.0\n",
    "    B[20]=A[1]/9.0\n",
    "    B[21]=A[1]/9.0\n",
    "    B[22]=A[1]/9.0\n",
    "    B[23]=A[2]/9.0\n",
    "    B[24]=A[2]/9.0\n",
    "    B[25]=A[2]/9.0\n",
    "    B[26]=A[3]/3.0\n",
    "\n",
    "    #row 4\n",
    "    B[27]=A[4]/6.0\n",
    "    B[28]=A[4]/6.0\n",
    "    B[29]=A[5]/9.0\n",
    "    B[30]=A[5]/9.0\n",
    "    B[31]=A[5]/9.0\n",
    "    B[32]=A[6]/9.0\n",
    "    B[33]=A[6]/9.0\n",
    "    B[34]=A[6]/9.0\n",
    "    B[35]=A[7]/3.0\n",
    "\n",
    "    #row 5\n",
    "    B[36]=A[4]/6.0\n",
    "    B[37]=A[4]/6.0\n",
    "    B[38]=A[5]/9.0\n",
    "    B[39]=A[5]/9.0\n",
    "    B[40]=A[5]/9.0\n",
    "    B[41]=A[6]/9.0\n",
    "    B[42]=A[6]/9.0\n",
    "    B[43]=A[6]/9.0\n",
    "    B[44]=A[7]/3.0\n",
    "    \n",
    "    #row 6\n",
    "    B[45]=A[4]/6.0\n",
    "    B[46]=A[4]/6.0\n",
    "    B[47]=A[5]/9.0\n",
    "    B[48]=A[5]/9.0\n",
    "    B[49]=A[5]/9.0\n",
    "    B[50]=A[6]/9.0\n",
    "    B[51]=A[6]/9.0\n",
    "    B[52]=A[6]/9.0\n",
    "    B[53]=A[7]/3.0\n",
    "\n",
    "    #row 7\n",
    "    B[54]=A[8]/6.0\n",
    "    B[55]=A[8]/6.0\n",
    "    B[56]=A[9]/9.0\n",
    "    B[57]=A[9]/9.0\n",
    "    B[58]=A[9]/9.0\n",
    "    B[59]=A[10]/9.0\n",
    "    B[60]=A[10]/9.0\n",
    "    B[61]=A[10]/9.0\n",
    "    B[62]=A[11]/3.0\n",
    "    \n",
    "    #row 8\n",
    "    B[63]=A[8]/6.0\n",
    "    B[64]=A[8]/6.0\n",
    "    B[65]=A[9]/9.0\n",
    "    B[66]=A[9]/9.0\n",
    "    B[67]=A[9]/9.0\n",
    "    B[68]=A[10]/9.0\n",
    "    B[69]=A[10]/9.0\n",
    "    B[70]=A[10]/9.0\n",
    "    B[71]=A[11]/3.0\n",
    "\n",
    "    #row 9\n",
    "    B[72]=A[8]/6.0\n",
    "    B[73]=A[8]/6.0\n",
    "    B[74]=A[9]/9.0\n",
    "    B[75]=A[9]/9.0\n",
    "    B[76]=A[9]/9.0\n",
    "    B[77]=A[10]/9.0\n",
    "    B[78]=A[10]/9.0\n",
    "    B[79]=A[10]/9.0\n",
    "    B[80]=A[11]/3.0\n",
    "    return B\n"
   ]
  },
  {
   "cell_type": "code",
   "execution_count": 9,
   "metadata": {},
   "outputs": [
    {
     "name": "stdout",
     "output_type": "stream",
     "text": [
      "processing 3x4 to 9x9 pi-30GeV.txt\n",
      "processing 3x4 to 9x9 pi-100GeV.txt\n",
      "processing 3x4 to 9x9 pi-300GeV.txt\n",
      "processing 3x4 to 9x9 pi-200GeV.txt\n",
      "processing 3x4 to 9x9 pi-150GeV.txt\n",
      "processing 3x4 to 9x9 pi-50GeV.txt\n"
     ]
    }
   ],
   "source": [
    "img9x9_2={}\n",
    "for img in img3x4:\n",
    "    print(\"processing 3x4 to 9x9 %s\"%(img))\n",
    "    imgs=[]\n",
    "    for i in img3x4[img]:\n",
    "        imgs.append(ImgMask3x3To9x9(i))\n",
    "    img9x9_2[img]=imgs"
   ]
  },
  {
   "cell_type": "markdown",
   "metadata": {},
   "source": [
    "# Printing shapes and events\n",
    "shapes for all 9x9 images and 4x3 extended to 9x9\n",
    "and the number of events"
   ]
  },
  {
   "cell_type": "code",
   "execution_count": 10,
   "metadata": {},
   "outputs": [
    {
     "data": {
      "text/plain": [
       "['pi-30GeV.txt',\n",
       " 'pi-100GeV.txt',\n",
       " 'pi-300GeV.txt',\n",
       " 'pi-200GeV.txt',\n",
       " 'pi-150GeV.txt',\n",
       " 'pi-50GeV.txt']"
      ]
     },
     "execution_count": 10,
     "metadata": {},
     "output_type": "execute_result"
    }
   ],
   "source": [
    "img9x9.keys()\n"
   ]
  },
  {
   "cell_type": "code",
   "execution_count": 11,
   "metadata": {},
   "outputs": [
    {
     "name": "stdout",
     "output_type": "stream",
     "text": [
      "original 9x9 images and file\n",
      "file pi-30GeV.txt \n",
      "shape \n",
      "(7374, 81)\n",
      "file pi-100GeV.txt \n",
      "shape \n",
      "(14554, 81)\n",
      "file pi-300GeV.txt \n",
      "shape \n",
      "(28126, 81)\n",
      "file pi-200GeV.txt \n",
      "shape \n",
      "(9019, 81)\n",
      "file pi-150GeV.txt \n",
      "shape \n",
      "(10668, 81)\n",
      "file pi-50GeV.txt \n",
      "shape \n",
      "(12603, 81)\n",
      "new images 9x9 from 3x4 and file\n",
      "file pi-30GeV.txt \n",
      "shape \n",
      "(7374, 81)\n",
      "file pi-100GeV.txt \n",
      "shape \n",
      "(14554, 81)\n",
      "file pi-300GeV.txt \n",
      "shape \n",
      "(28126, 81)\n",
      "file pi-200GeV.txt \n",
      "shape \n",
      "(9019, 81)\n",
      "file pi-150GeV.txt \n",
      "shape \n",
      "(10668, 81)\n",
      "file pi-50GeV.txt \n",
      "shape \n",
      "(12603, 81)\n"
     ]
    }
   ],
   "source": [
    "print(\"original 9x9 images and file\")\n",
    "for i in img9x9:\n",
    "    print(\"file %s \\nshape \"%(i))\n",
    "    print(np.array(img9x9[i]).shape)\n",
    "    \n",
    "print(\"new images 9x9 from 3x4 and file\")\n",
    "for i in img9x9_2:\n",
    "    print(\"file %s \\nshape \"%(i))\n",
    "    print(np.array(img9x9_2[i]).shape)    "
   ]
  },
  {
   "cell_type": "markdown",
   "metadata": {},
   "source": [
    "# Saving Train/Test for original 9x9 images"
   ]
  },
  {
   "cell_type": "code",
   "execution_count": 13,
   "metadata": {},
   "outputs": [
    {
     "name": "stdout",
     "output_type": "stream",
     "text": [
      "proccesing pi-30GeV.txt taking 6000 event to train and 1374 to test\n",
      "(7374, 81)\n",
      "(7374, 81)\n",
      "(7374, 81)\n",
      "(7374, 162)\n",
      "proccesing pi-100GeV.txt taking 6000 event to train and 1374 to test\n",
      "(14554, 81)\n",
      "(14554, 81)\n",
      "(14554, 81)\n",
      "(14554, 162)\n",
      "proccesing pi-300GeV.txt taking 6000 event to train and 1374 to test\n",
      "(28126, 81)\n",
      "(28126, 81)\n",
      "(28126, 81)\n",
      "(28126, 162)\n",
      "proccesing pi-200GeV.txt taking 6000 event to train and 1374 to test\n",
      "(9019, 81)\n",
      "(9019, 81)\n",
      "(9019, 81)\n",
      "(9019, 162)\n",
      "proccesing pi-150GeV.txt taking 6000 event to train and 1374 to test\n",
      "(10668, 81)\n",
      "(10668, 81)\n",
      "(10668, 81)\n",
      "(10668, 162)\n",
      "proccesing pi-50GeV.txt taking 6000 event to train and 1374 to test\n",
      "(12603, 81)\n",
      "(12603, 81)\n",
      "(12603, 81)\n",
      "(12603, 162)\n"
     ]
    }
   ],
   "source": [
    "X_train = []\n",
    "X_train_2ch = [] #two channels data\n",
    "X_test = []\n",
    "X_test_2ch = [] #two channels data\n",
    "X_target = []\n",
    "for i in img9x9:\n",
    "    #ntest = np.array(img9x9[i]).shape[0] - 6000 \n",
    "    ntest=1374\n",
    "    print(\"proccesing %s taking 6000 event to train and %d to test\"%(i,ntest))\n",
    "    print(np.array(img9x9[i]).shape)\n",
    "    imgs1=np.array(img9x9[i])\n",
    "    imgs2=np.array(img9x9_2[i])\n",
    "    print(imgs1.shape)\n",
    "    print(imgs2.shape)\n",
    "    imgs=[]\n",
    "    imgs2ch=[]\n",
    "    for index in range(imgs1.shape[0]):\n",
    "        img2ch=np.dstack((imgs1[index],imgs2[index])).reshape((9,9,2))\n",
    "        imgs2ch.append(img2ch)\n",
    "        img = np.concatenate((imgs1[index],imgs2[index]))\n",
    "        imgs.append(img)\n",
    "\n",
    "    nimg=np.array(imgs)\n",
    "    nimg2ch=np.array(imgs2ch)\n",
    "    \n",
    "    print(nimg.shape)\n",
    "    X_train.extend(nimg[0:6000,:])\n",
    "    X_train_2ch.extend(nimg2ch[0:6000,:,:,:])\n",
    "    X_test.extend(nimg[6000:7374,:])\n",
    "    X_test_2ch.extend(nimg2ch[6000:7374,:,:,:])\n",
    "    if \"pi-300GeV.txt\" == i:\n",
    "        X_target.extend(np.full(6000,300))\n",
    "    if \"pi-200GeV.txt\" == i:\n",
    "        X_target.extend(np.full(6000,200))       \n",
    "    if \"pi-150GeV.txt\" == i:\n",
    "        X_target.extend(np.full(6000,150))\n",
    "    if \"pi-100GeV.txt\" == i:\n",
    "        X_target.extend(np.full(6000,100))\n",
    "    if \"pi-50GeV.txt\" == i:\n",
    "        X_target.extend(np.full(6000,50))      \n",
    "    if \"pi-30GeV.txt\" == i:\n",
    "        X_target.extend(np.full(6000,30))       \n",
    "    if \"pi-20GeV.txt\" == i:\n",
    "        X_target.extend(np.full(6000,20))       \n",
    "        "
   ]
  },
  {
   "cell_type": "code",
   "execution_count": 14,
   "metadata": {},
   "outputs": [
    {
     "name": "stdout",
     "output_type": "stream",
     "text": [
      "(36000, 162)\n",
      "(8244, 162)\n",
      "(36000,)\n",
      "(36000, 9, 9, 2)\n",
      "(8244, 9, 9, 2)\n"
     ]
    }
   ],
   "source": [
    "print(np.array(X_train).shape)\n",
    "print(np.array(X_test).shape)\n",
    "print(np.array(X_target).shape)\n",
    "print(np.array(X_train_2ch).shape)\n",
    "print(np.array(X_test_2ch).shape)"
   ]
  },
  {
   "cell_type": "markdown",
   "metadata": {},
   "source": [
    "### Saving Train/Test for extended 9x9 images from 4x3"
   ]
  },
  {
   "cell_type": "code",
   "execution_count": 15,
   "metadata": {},
   "outputs": [
    {
     "data": {
      "text/plain": [
       "'for i in img9x9_2:\\n    #ntest = np.array(img9x9_2[i]).shape[0] - 6000 \\n    ntest=1374    \\n    print(\"proccesing %s taking 6000 event to train and %d to test\"%(i,ntest))\\n    print(np.array(img9x9_2[i]).shape)\\n    imgs = np.array(img9x9_2[i])\\n    X_train.extend(imgs[0:6000,:])\\n    X_test.extend(imgs[6000:7374,:])\\n    if \"pi-300GeV.txt\" == i:\\n        X_target.extend(np.full(6000,300))\\n    if \"pi-200GeV.txt\" == i:\\n        X_target.extend(np.full(6000,200))       \\n    if \"pi-150GeV.txt\" == i:\\n        X_target.extend(np.full(6000,150))\\n    if \"pi-100GeV.txt\" == i:\\n        X_target.extend(np.full(6000,100))\\n    if \"pi-50GeV.txt\" == i:\\n        X_target.extend(np.full(6000,50))      \\n    if \"pi-30GeV.txt\" == i:\\n        X_target.extend(np.full(6000,30))       \\n    if \"pi-20GeV.txt\" == i:\\n        X_target.extend(np.full(6000,20))       \\n'"
      ]
     },
     "execution_count": 15,
     "metadata": {},
     "output_type": "execute_result"
    }
   ],
   "source": [
    "'''for i in img9x9_2:\n",
    "    #ntest = np.array(img9x9_2[i]).shape[0] - 6000 \n",
    "    ntest=1374    \n",
    "    print(\"proccesing %s taking 6000 event to train and %d to test\"%(i,ntest))\n",
    "    print(np.array(img9x9_2[i]).shape)\n",
    "    imgs = np.array(img9x9_2[i])\n",
    "    X_train.extend(imgs[0:6000,:])\n",
    "    X_test.extend(imgs[6000:7374,:])\n",
    "    if \"pi-300GeV.txt\" == i:\n",
    "        X_target.extend(np.full(6000,300))\n",
    "    if \"pi-200GeV.txt\" == i:\n",
    "        X_target.extend(np.full(6000,200))       \n",
    "    if \"pi-150GeV.txt\" == i:\n",
    "        X_target.extend(np.full(6000,150))\n",
    "    if \"pi-100GeV.txt\" == i:\n",
    "        X_target.extend(np.full(6000,100))\n",
    "    if \"pi-50GeV.txt\" == i:\n",
    "        X_target.extend(np.full(6000,50))      \n",
    "    if \"pi-30GeV.txt\" == i:\n",
    "        X_target.extend(np.full(6000,30))       \n",
    "    if \"pi-20GeV.txt\" == i:\n",
    "        X_target.extend(np.full(6000,20))       \n",
    "'''        "
   ]
  },
  {
   "cell_type": "code",
   "execution_count": 16,
   "metadata": {},
   "outputs": [
    {
     "name": "stdout",
     "output_type": "stream",
     "text": [
      "(36000, 162)\n",
      "(8244, 162)\n",
      "(36000,)\n"
     ]
    }
   ],
   "source": [
    "print(np.array(X_train).shape)\n",
    "print(np.array(X_test).shape)\n",
    "print(np.array(X_target).shape)"
   ]
  },
  {
   "cell_type": "markdown",
   "metadata": {},
   "source": [
    "## Creating a Keras Dense NN Model"
   ]
  },
  {
   "cell_type": "code",
   "execution_count": 17,
   "metadata": {},
   "outputs": [
    {
     "name": "stdout",
     "output_type": "stream",
     "text": [
      "_________________________________________________________________\n",
      "Layer (type)                 Output Shape              Param #   \n",
      "=================================================================\n",
      "dense_1 (Dense)              (None, 256)               41728     \n",
      "_________________________________________________________________\n",
      "dense_2 (Dense)              (None, 1)                 257       \n",
      "=================================================================\n",
      "Total params: 41,985\n",
      "Trainable params: 41,985\n",
      "Non-trainable params: 0\n",
      "_________________________________________________________________\n"
     ]
    }
   ],
   "source": [
    "# create model\n",
    "model = Sequential()\n",
    "model.add(Dense(256, input_dim=162, kernel_initializer='normal', activation='relu'))\n",
    "model.add(Dense(1, kernel_initializer='normal'))\n",
    "# Compile model\n",
    "model.compile(loss='mean_squared_error', optimizer='adam')\n",
    "model.summary()\n",
    "# Compile model\n"
   ]
  },
  {
   "cell_type": "code",
   "execution_count": 18,
   "metadata": {},
   "outputs": [
    {
     "name": "stderr",
     "output_type": "stream",
     "text": [
      "/usr/local/lib/python2.7/dist-packages/keras/models.py:939: UserWarning: The `nb_epoch` argument in `fit` has been renamed `epochs`.\n",
      "  warnings.warn('The `nb_epoch` argument in `fit` '\n"
     ]
    },
    {
     "name": "stdout",
     "output_type": "stream",
     "text": [
      "Epoch 1/25\n",
      "36000/36000 [==============================] - 2s 42us/step - loss: 1376.9237\n",
      "Epoch 2/25\n",
      "36000/36000 [==============================] - 1s 36us/step - loss: 547.5703\n",
      "Epoch 3/25\n",
      "36000/36000 [==============================] - 1s 38us/step - loss: 534.2101\n",
      "Epoch 4/25\n",
      "36000/36000 [==============================] - 1s 37us/step - loss: 524.4370\n",
      "Epoch 5/25\n",
      "36000/36000 [==============================] - 1s 38us/step - loss: 516.0392\n",
      "Epoch 6/25\n",
      "36000/36000 [==============================] - 1s 36us/step - loss: 499.4110\n",
      "Epoch 7/25\n",
      "36000/36000 [==============================] - 1s 37us/step - loss: 486.3828\n",
      "Epoch 8/25\n",
      "36000/36000 [==============================] - 1s 39us/step - loss: 473.8638\n",
      "Epoch 9/25\n",
      "36000/36000 [==============================] - 1s 38us/step - loss: 464.9843\n",
      "Epoch 10/25\n",
      "36000/36000 [==============================] - 1s 37us/step - loss: 454.1394\n",
      "Epoch 11/25\n",
      "36000/36000 [==============================] - 1s 36us/step - loss: 439.0476\n",
      "Epoch 12/25\n",
      "36000/36000 [==============================] - 1s 38us/step - loss: 435.1562\n",
      "Epoch 13/25\n",
      "36000/36000 [==============================] - 2s 42us/step - loss: 426.6684\n",
      "Epoch 14/25\n",
      "36000/36000 [==============================] - 1s 38us/step - loss: 415.2900\n",
      "Epoch 15/25\n",
      "36000/36000 [==============================] - 1s 38us/step - loss: 407.9008\n",
      "Epoch 16/25\n",
      "36000/36000 [==============================] - 1s 40us/step - loss: 397.4071\n",
      "Epoch 17/25\n",
      "36000/36000 [==============================] - 1s 36us/step - loss: 388.4665\n",
      "Epoch 18/25\n",
      "36000/36000 [==============================] - 1s 37us/step - loss: 384.6807\n",
      "Epoch 19/25\n",
      "36000/36000 [==============================] - 1s 36us/step - loss: 376.5235\n",
      "Epoch 20/25\n",
      "36000/36000 [==============================] - 1s 36us/step - loss: 368.8933\n",
      "Epoch 21/25\n",
      "36000/36000 [==============================] - 1s 36us/step - loss: 364.4665\n",
      "Epoch 22/25\n",
      "36000/36000 [==============================] - 1s 37us/step - loss: 359.6585\n",
      "Epoch 23/25\n",
      "36000/36000 [==============================] - 1s 37us/step - loss: 355.3500\n",
      "Epoch 24/25\n",
      "36000/36000 [==============================] - 1s 36us/step - loss: 351.7802\n",
      "Epoch 25/25\n",
      "36000/36000 [==============================] - 1s 36us/step - loss: 346.5624\n"
     ]
    },
    {
     "data": {
      "text/plain": [
       "<keras.callbacks.History at 0x7f44ad578450>"
      ]
     },
     "execution_count": 18,
     "metadata": {},
     "output_type": "execute_result"
    },
    {
     "name": "stderr",
     "output_type": "stream",
     "text": [
      "2017-11-26 17:55:54.170074: I tensorflow/core/platform/cpu_feature_guard.cc:137] Your CPU supports instructions that this TensorFlow binary was not compiled to use: SSE4.1 SSE4.2 AVX AVX2 FMA\n"
     ]
    }
   ],
   "source": [
    "model.fit(np.array(X_train),np.array(X_target), nb_epoch=25, verbose=1)"
   ]
  },
  {
   "cell_type": "code",
   "execution_count": 19,
   "metadata": {},
   "outputs": [],
   "source": [
    "pred=model.predict(np.array(X_test))"
   ]
  },
  {
   "cell_type": "code",
   "execution_count": 20,
   "metadata": {},
   "outputs": [
    {
     "data": {
      "text/plain": [
       "array([[ 39.47492599],\n",
       "       [ 28.2551651 ],\n",
       "       [ 39.68316269],\n",
       "       ..., \n",
       "       [ 57.03171158],\n",
       "       [ 59.0381813 ],\n",
       "       [ 36.03472519]], dtype=float32)"
      ]
     },
     "execution_count": 20,
     "metadata": {},
     "output_type": "execute_result"
    }
   ],
   "source": [
    "pred"
   ]
  },
  {
   "cell_type": "code",
   "execution_count": 21,
   "metadata": {},
   "outputs": [],
   "source": [
    "hist=TH1F(\"h1\",\"pions\",100,0,350)\n",
    "for i in pred:\n",
    "    hist.Fill(i)\n"
   ]
  },
  {
   "cell_type": "code",
   "execution_count": 22,
   "metadata": {},
   "outputs": [
    {
     "data": {
      "image/png": "[encoded data removed]",
      "text/plain": [
       "<IPython.core.display.Image object>"
      ]
     },
     "metadata": {},
     "output_type": "display_data"
    }
   ],
   "source": [
    "c=TCanvas()\n",
    "hist.Draw()\n",
    "c.Draw()"
   ]
  },
  {
   "cell_type": "code",
   "execution_count": 23,
   "metadata": {},
   "outputs": [],
   "source": [
    "f = TFile( 'reg1train.root', 'recreate' )\n",
    "reg = TTree(\"reg\",\"pions\")"
   ]
  },
  {
   "cell_type": "code",
   "execution_count": 24,
   "metadata": {},
   "outputs": [
    {
     "name": "stdout",
     "output_type": "stream",
     "text": [
      "162\n"
     ]
    }
   ],
   "source": [
    "train = array( 'f', np.array(X_train).shape[1]*[ 0.] )\n",
    "target = array('i',[0])\n",
    "print(np.array(X_train).shape[1])"
   ]
  },
  {
   "cell_type": "code",
   "execution_count": 25,
   "metadata": {},
   "outputs": [
    {
     "data": {
      "text/plain": [
       "<ROOT.TBranch object (\"var\") at 0x5636f8ea7870>"
      ]
     },
     "execution_count": 25,
     "metadata": {},
     "output_type": "execute_result"
    }
   ],
   "source": [
    "reg.Branch( 'target', target, 'target/I' )\n",
    "reg.Branch( 'var', train, 'var[162]/F' )"
   ]
  },
  {
   "cell_type": "code",
   "execution_count": 26,
   "metadata": {},
   "outputs": [],
   "source": [
    "for i in range(np.array(X_train).shape[0]):\n",
    "   target[0] = X_target[i]\n",
    "   for j in range(162):\n",
    "    train[j] = X_train[i][j]\n",
    "   reg.Fill()"
   ]
  },
  {
   "cell_type": "code",
   "execution_count": 27,
   "metadata": {},
   "outputs": [],
   "source": [
    "reg.Write()\n",
    "f.Close()"
   ]
  },
  {
   "cell_type": "markdown",
   "metadata": {},
   "source": [
    "## Creating a Keras CNN Model"
   ]
  },
  {
   "cell_type": "code",
   "execution_count": 29,
   "metadata": {},
   "outputs": [
    {
     "name": "stdout",
     "output_type": "stream",
     "text": [
      "_________________________________________________________________\n",
      "Layer (type)                 Output Shape              Param #   \n",
      "=================================================================\n",
      "conv2d_1 (Conv2D)            (None, 9, 9, 16)          304       \n",
      "_________________________________________________________________\n",
      "conv2d_2 (Conv2D)            (None, 9, 9, 16)          2320      \n",
      "_________________________________________________________________\n",
      "max_pooling2d_1 (MaxPooling2 (None, 4, 4, 16)          0         \n",
      "_________________________________________________________________\n",
      "flatten_1 (Flatten)          (None, 256)               0         \n",
      "_________________________________________________________________\n",
      "dense_3 (Dense)              (None, 256)               65792     \n",
      "_________________________________________________________________\n",
      "dense_4 (Dense)              (None, 1)                 257       \n",
      "=================================================================\n",
      "Total params: 68,673\n",
      "Trainable params: 68,673\n",
      "Non-trainable params: 0\n",
      "_________________________________________________________________\n"
     ]
    }
   ],
   "source": [
    "# create model\n",
    "model = Sequential()\n",
    "model.add(Conv2D(16, activation='relu', kernel_size=3, padding='same', kernel_initializer='TruncatedNormal', input_shape=(9,9,2)))\n",
    "model.add(Conv2D(16, activation='relu', kernel_size=3, padding='same', kernel_initializer='TruncatedNormal'))\n",
    "model.add(MaxPooling2D(pool_size=(2, 2)))\n",
    "model.add(Flatten())\n",
    "model.add(Dense(256, input_dim=162, kernel_initializer='normal', activation='relu'))\n",
    "model.add(Dense(1, kernel_initializer='normal'))\n",
    "# Compile model\n",
    "model.compile(loss='mean_squared_error', optimizer='adam')\n",
    "model.summary()\n",
    "# Compile model"
   ]
  },
  {
   "cell_type": "code",
   "execution_count": 36,
   "metadata": {},
   "outputs": [
    {
     "name": "stdout",
     "output_type": "stream",
     "text": [
      "Epoch 1/25\n",
      "36000/36000 [==============================] - 5s 138us/step - loss: 1026.3569\n",
      "Epoch 2/25\n",
      "36000/36000 [==============================] - 5s 132us/step - loss: 570.7547\n",
      "Epoch 3/25\n",
      "36000/36000 [==============================] - 5s 132us/step - loss: 549.7223\n",
      "Epoch 4/25\n",
      "36000/36000 [==============================] - 5s 134us/step - loss: 541.6981\n",
      "Epoch 5/25\n",
      "36000/36000 [==============================] - 5s 138us/step - loss: 508.4290\n",
      "Epoch 6/25\n",
      "36000/36000 [==============================] - 5s 138us/step - loss: 460.8596\n",
      "Epoch 7/25\n",
      "36000/36000 [==============================] - 5s 137us/step - loss: 430.4317\n",
      "Epoch 8/25\n",
      "36000/36000 [==============================] - 5s 136us/step - loss: 401.5194\n",
      "Epoch 9/25\n",
      "36000/36000 [==============================] - 5s 138us/step - loss: 382.4415\n",
      "Epoch 10/25\n",
      "36000/36000 [==============================] - 5s 139us/step - loss: 371.3002\n",
      "Epoch 11/25\n",
      "36000/36000 [==============================] - 5s 139us/step - loss: 360.6540\n",
      "Epoch 12/25\n",
      "36000/36000 [==============================] - 5s 136us/step - loss: 351.2805\n",
      "Epoch 13/25\n",
      "36000/36000 [==============================] - 5s 139us/step - loss: 338.7002\n",
      "Epoch 14/25\n",
      "36000/36000 [==============================] - 5s 140us/step - loss: 332.7970\n",
      "Epoch 15/25\n",
      "36000/36000 [==============================] - 5s 145us/step - loss: 321.9378\n",
      "Epoch 16/25\n",
      "36000/36000 [==============================] - 5s 143us/step - loss: 316.3446\n",
      "Epoch 17/25\n",
      "36000/36000 [==============================] - 5s 138us/step - loss: 312.4982\n",
      "Epoch 18/25\n",
      "36000/36000 [==============================] - 5s 138us/step - loss: 304.8191\n",
      "Epoch 19/25\n",
      "36000/36000 [==============================] - 5s 139us/step - loss: 298.9041\n",
      "Epoch 20/25\n",
      "36000/36000 [==============================] - 5s 139us/step - loss: 299.2095\n",
      "Epoch 21/25\n",
      "36000/36000 [==============================] - 5s 142us/step - loss: 291.0839\n",
      "Epoch 22/25\n",
      "36000/36000 [==============================] - 5s 150us/step - loss: 288.1250\n",
      "Epoch 23/25\n",
      "36000/36000 [==============================] - 5s 128us/step - loss: 285.3872\n",
      "Epoch 24/25\n",
      "36000/36000 [==============================] - 5s 134us/step - loss: 285.3779\n",
      "Epoch 25/25\n",
      "36000/36000 [==============================] - 5s 137us/step - loss: 278.6602\n"
     ]
    },
    {
     "data": {
      "text/plain": [
       "<keras.callbacks.History at 0x7f36863bf210>"
      ]
     },
     "execution_count": 36,
     "metadata": {},
     "output_type": "execute_result"
    }
   ],
   "source": [
    "model.fit(np.array(X_train_2ch), np.array(X_target),batch_size=25,epochs=25,verbose=1, shuffle=True)"
   ]
  },
  {
   "cell_type": "code",
   "execution_count": 38,
   "metadata": {},
   "outputs": [],
   "source": [
    "pred2ch=model.predict(np.array(X_test_2ch))"
   ]
  },
  {
   "cell_type": "code",
   "execution_count": 39,
   "metadata": {},
   "outputs": [
    {
     "name": "stderr",
     "output_type": "stream",
     "text": [
      "Warning in <TROOT::Append>: Replacing existing TH1: h1 (Potential memory leak).\n"
     ]
    },
    {
     "data": {
      "image/png": "[encoded data removed]",
      "text/plain": [
       "<IPython.core.display.Image object>"
      ]
     },
     "metadata": {},
     "output_type": "display_data"
    }
   ],
   "source": [
    "hist=TH1F(\"h1\",\"pions 2 channels\",100,0,350)\n",
    "for i in pred2ch:\n",
    "    hist.Fill(i)\n",
    "c=TCanvas()\n",
    "hist.Draw()\n",
    "c.Draw()"
   ]
  },
  {
   "cell_type": "code",
   "execution_count": 28,
   "metadata": {},
   "outputs": [],
   "source": [
    "model.fit?"
   ]
  },
  {
   "cell_type": "code",
   "execution_count": 30,
   "metadata": {},
   "outputs": [
    {
     "data": {
      "text/plain": [
       "(36000, 162)"
      ]
     },
     "execution_count": 30,
     "metadata": {},
     "output_type": "execute_result"
    }
   ],
   "source": [
    "np.array(X_train).shape"
   ]
  },
  {
   "cell_type": "code",
   "execution_count": null,
   "metadata": {},
   "outputs": [],
   "source": []
  }
 ],
 "metadata": {
  "kernelspec": {
   "display_name": "Python 2",
   "language": "python",
   "name": "python2"
  },
  "language_info": {
   "codemirror_mode": {
    "name": "ipython",
    "version": 2
   },
   "file_extension": ".py",
   "mimetype": "text/x-python",
   "name": "python",
   "nbconvert_exporter": "python",
   "pygments_lexer": "ipython2",
   "version": "2.7.13"
  }
 },
 "nbformat": 4,
 "nbformat_minor": 2
}
