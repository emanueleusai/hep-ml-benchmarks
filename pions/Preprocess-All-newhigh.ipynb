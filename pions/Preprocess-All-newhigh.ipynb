{
 "cells": [
  {
   "cell_type": "code",
   "execution_count": 1,
   "metadata": {},
   "outputs": [
    {
     "name": "stderr",
     "output_type": "stream",
     "text": [
      "Using TensorFlow backend.\n"
     ]
    },
    {
     "name": "stdout",
     "output_type": "stream",
     "text": [
      "Welcome to JupyROOT 6.11/03\n"
     ]
    }
   ],
   "source": [
    "import numpy as np\n",
    "from matplotlib import pyplot as plt\n",
    "import numpy\n",
    "import pandas\n",
    "from keras.models import Sequential\n",
    "from keras.layers import Dense\n",
    "from keras.wrappers.scikit_learn import KerasRegressor\n",
    "from keras.optimizers import Adam\n",
    "from keras.initializers import TruncatedNormal\n",
    "from keras.layers import Input, Dense, Dropout, Flatten, Conv2D, MaxPooling2D\n",
    "from sklearn.model_selection import cross_val_score\n",
    "from sklearn.model_selection import KFold\n",
    "from sklearn.preprocessing import StandardScaler\n",
    "from sklearn.pipeline import Pipeline\n",
    "import ROOT\n",
    "from ROOT import TH1F, TCanvas, TTree, TFile, gStyle, gMinuit, TGraph, TVectorF, gSystem, gApplication\n",
    "from array import array\n",
    "from sortedcontainers import SortedList\n",
    "from collections import OrderedDict\n",
    "from math import sqrt\n",
    "from ROOT import kBlue,kRed,TMultiGraph"
   ]
  },
  {
   "cell_type": "code",
   "execution_count": 2,
   "metadata": {},
   "outputs": [
    {
     "data": {
      "text/plain": [
       "0L"
      ]
     },
     "execution_count": 2,
     "metadata": {},
     "output_type": "execute_result"
    },
    {
     "name": "stderr",
     "output_type": "stream",
     "text": [
      "\u001b[0;1;35mwarning: \u001b[0mcannot find function 'tdrstyle()'; falling back to .L\u001b[0m\n"
     ]
    }
   ],
   "source": [
    "gApplication.ProcessFile(\"tdrstyle.C\")"
   ]
  },
  {
   "cell_type": "code",
   "execution_count": 3,
   "metadata": {},
   "outputs": [],
   "source": [
    "from ROOT import setTDRStyle"
   ]
  },
  {
   "cell_type": "code",
   "execution_count": 4,
   "metadata": {},
   "outputs": [],
   "source": [
    "setTDRStyle()"
   ]
  },
  {
   "cell_type": "markdown",
   "metadata": {},
   "source": [
    "## Info\n",
    "50=>high 50<low"
   ]
  },
  {
   "cell_type": "code",
   "execution_count": 5,
   "metadata": {},
   "outputs": [],
   "source": [
    "files=SortedList([\n",
    "\"pi-300GeV.txt\",\n",
    "\"pi-200GeV.txt\",\n",
    "\"pi-150GeV.txt\",\n",
    "\"pi-100GeV.txt\",\n",
    "\"pi-50GeV.txt\"])\n",
    "#\"pi-30GeV.txt\",\n",
    "#\"pi-20GeV.txt\"]\n",
    "#\"pi-9GeV.txt\",\n",
    "#\"pi-8GeV.txt\",\n",
    "#\"pi-7GeV.txt\",\n",
    "#\"pi-6GeV.txt\",\n",
    "#\"pi-5GeV.txt\",\n",
    "#\"pi-4GeV.txt\",\n",
    "#\"pi-3GeV.txt\",\n",
    "#\"pi-2GeV.txt\"]\n"
   ]
  },
  {
   "cell_type": "code",
   "execution_count": 6,
   "metadata": {},
   "outputs": [],
   "source": [
    "lines9x9=OrderedDict()\n",
    "lines3x4=OrderedDict()"
   ]
  },
  {
   "cell_type": "markdown",
   "metadata": {},
   "source": [
    "#### Getting lines of length 9 and 4\n",
    "the result is a map with the file"
   ]
  },
  {
   "cell_type": "code",
   "execution_count": 7,
   "metadata": {},
   "outputs": [],
   "source": [
    "for i in files:\n",
    "    prefix=\"pi-txt/\"\n",
    "    lines9x9buffer=[]\n",
    "    lines3x4buffer=[]\n",
    "    file = open(prefix+i)\n",
    "    data=file.readlines()\n",
    "    for l in data:\n",
    "        line=np.fromstring(l.strip(),sep=\" \")\n",
    "        if len(line) == 9 :\n",
    "            lines9x9buffer.append(line)\n",
    "        if len(line) == 4 :\n",
    "            lines3x4buffer.append(line)\n",
    "    lines9x9[i]=lines9x9buffer\n",
    "    lines3x4[i]=lines3x4buffer"
   ]
  },
  {
   "cell_type": "code",
   "execution_count": 8,
   "metadata": {},
   "outputs": [],
   "source": [
    "def shapeimages9x9(lines):\n",
    "    img9x9=OrderedDict()\n",
    "    for key in lines.keys():\n",
    "        counter=1\n",
    "        imgs=[]\n",
    "        img=[]\n",
    "        for line in lines[key]:\n",
    "            if counter%9==0:\n",
    "                img.extend(line)\n",
    "                imgs.append(img)\n",
    "                img=[]\n",
    "            else:\n",
    "                img.extend(line)\n",
    "            counter=counter+1\n",
    "        img9x9[key]=imgs \n",
    "    return img9x9\n",
    "\n",
    "def shapeimages3x4(lines):\n",
    "    img3x4=OrderedDict()\n",
    "    for key in lines.keys():\n",
    "        counter=1\n",
    "        imgs=[]\n",
    "        img=[]\n",
    "        for line in lines[key]:\n",
    "            if counter%3==0:\n",
    "                img.extend(line)\n",
    "                imgs.append(img)\n",
    "                img=[]\n",
    "            else:\n",
    "                img.extend(line)\n",
    "            counter=counter+1\n",
    "        img3x4[key]=imgs \n",
    "    return img3x4\n"
   ]
  },
  {
   "cell_type": "code",
   "execution_count": 9,
   "metadata": {},
   "outputs": [],
   "source": [
    "img9x9 = shapeimages9x9(lines9x9)\n",
    "img3x4 = shapeimages3x4(lines3x4)"
   ]
  },
  {
   "cell_type": "markdown",
   "metadata": {},
   "source": [
    "#### Plotting img"
   ]
  },
  {
   "cell_type": "code",
   "execution_count": 10,
   "metadata": {},
   "outputs": [
    {
     "data": {
      "image/png": "[encoded data removed]",
      "text/plain": [
       "<matplotlib.figure.Figure at 0x7f03c0528990>"
      ]
     },
     "metadata": {},
     "output_type": "display_data"
    }
   ],
   "source": [
    "plt.imshow(np.array(img9x9['pi-100GeV.txt'][0]).reshape((9,9)))\n",
    "plt.show()"
   ]
  },
  {
   "cell_type": "code",
   "execution_count": 11,
   "metadata": {},
   "outputs": [],
   "source": [
    "#image A must be 3x4 flattened\n",
    "def ImgMask3x3To9x9(A):\n",
    "    B=np.zeros(81)\n",
    "    #row 1\n",
    "    B[0]=A[0]/6.0\n",
    "    B[1]=A[0]/6.0\n",
    "    B[2]=A[1]/9.0\n",
    "    B[3]=A[1]/9.0\n",
    "    B[4]=A[1]/9.0\n",
    "    B[5]=A[2]/9.0\n",
    "    B[6]=A[2]/9.0\n",
    "    B[7]=A[2]/9.0\n",
    "    B[8]=A[3]/3.0\n",
    "    \n",
    "    #row 2\n",
    "    B[9] =A[0]/6.0\n",
    "    B[10]=A[0]/6.0\n",
    "    B[11]=A[1]/9.0\n",
    "    B[12]=A[1]/9.0\n",
    "    B[13]=A[1]/9.0\n",
    "    B[14]=A[2]/9.0\n",
    "    B[15]=A[2]/9.0\n",
    "    B[16]=A[2]/9.0\n",
    "    B[17]=A[3]/3.0\n",
    "\n",
    "    #row 3\n",
    "    B[18]=A[0]/6.0\n",
    "    B[19]=A[0]/6.0\n",
    "    B[20]=A[1]/9.0\n",
    "    B[21]=A[1]/9.0\n",
    "    B[22]=A[1]/9.0\n",
    "    B[23]=A[2]/9.0\n",
    "    B[24]=A[2]/9.0\n",
    "    B[25]=A[2]/9.0\n",
    "    B[26]=A[3]/3.0\n",
    "\n",
    "    #row 4\n",
    "    B[27]=A[4]/6.0\n",
    "    B[28]=A[4]/6.0\n",
    "    B[29]=A[5]/9.0\n",
    "    B[30]=A[5]/9.0\n",
    "    B[31]=A[5]/9.0\n",
    "    B[32]=A[6]/9.0\n",
    "    B[33]=A[6]/9.0\n",
    "    B[34]=A[6]/9.0\n",
    "    B[35]=A[7]/3.0\n",
    "\n",
    "    #row 5\n",
    "    B[36]=A[4]/6.0\n",
    "    B[37]=A[4]/6.0\n",
    "    B[38]=A[5]/9.0\n",
    "    B[39]=A[5]/9.0\n",
    "    B[40]=A[5]/9.0\n",
    "    B[41]=A[6]/9.0\n",
    "    B[42]=A[6]/9.0\n",
    "    B[43]=A[6]/9.0\n",
    "    B[44]=A[7]/3.0\n",
    "    \n",
    "    #row 6\n",
    "    B[45]=A[4]/6.0\n",
    "    B[46]=A[4]/6.0\n",
    "    B[47]=A[5]/9.0\n",
    "    B[48]=A[5]/9.0\n",
    "    B[49]=A[5]/9.0\n",
    "    B[50]=A[6]/9.0\n",
    "    B[51]=A[6]/9.0\n",
    "    B[52]=A[6]/9.0\n",
    "    B[53]=A[7]/3.0\n",
    "\n",
    "    #row 7\n",
    "    B[54]=A[8]/6.0\n",
    "    B[55]=A[8]/6.0\n",
    "    B[56]=A[9]/9.0\n",
    "    B[57]=A[9]/9.0\n",
    "    B[58]=A[9]/9.0\n",
    "    B[59]=A[10]/9.0\n",
    "    B[60]=A[10]/9.0\n",
    "    B[61]=A[10]/9.0\n",
    "    B[62]=A[11]/3.0\n",
    "    \n",
    "    #row 8\n",
    "    B[63]=A[8]/6.0\n",
    "    B[64]=A[8]/6.0\n",
    "    B[65]=A[9]/9.0\n",
    "    B[66]=A[9]/9.0\n",
    "    B[67]=A[9]/9.0\n",
    "    B[68]=A[10]/9.0\n",
    "    B[69]=A[10]/9.0\n",
    "    B[70]=A[10]/9.0\n",
    "    B[71]=A[11]/3.0\n",
    "\n",
    "    #row 9\n",
    "    B[72]=A[8]/6.0\n",
    "    B[73]=A[8]/6.0\n",
    "    B[74]=A[9]/9.0\n",
    "    B[75]=A[9]/9.0\n",
    "    B[76]=A[9]/9.0\n",
    "    B[77]=A[10]/9.0\n",
    "    B[78]=A[10]/9.0\n",
    "    B[79]=A[10]/9.0\n",
    "    B[80]=A[11]/3.0\n",
    "    return B\n"
   ]
  },
  {
   "cell_type": "code",
   "execution_count": 12,
   "metadata": {},
   "outputs": [
    {
     "name": "stdout",
     "output_type": "stream",
     "text": [
      "processing 3x4 to 9x9 pi-100GeV.txt\n",
      "processing 3x4 to 9x9 pi-150GeV.txt\n",
      "processing 3x4 to 9x9 pi-200GeV.txt\n",
      "processing 3x4 to 9x9 pi-300GeV.txt\n",
      "processing 3x4 to 9x9 pi-50GeV.txt\n"
     ]
    }
   ],
   "source": [
    "img9x9_2=OrderedDict()\n",
    "for img in img3x4:\n",
    "    print(\"processing 3x4 to 9x9 %s\"%(img))\n",
    "    imgs=[]\n",
    "    for i in img3x4[img]:\n",
    "        imgs.append(ImgMask3x3To9x9(i))\n",
    "    img9x9_2[img]=imgs"
   ]
  },
  {
   "cell_type": "markdown",
   "metadata": {},
   "source": [
    "# Printing shapes and events\n",
    "shapes for all 9x9 images and 4x3 extended to 9x9\n",
    "and the number of events"
   ]
  },
  {
   "cell_type": "code",
   "execution_count": 13,
   "metadata": {},
   "outputs": [
    {
     "data": {
      "text/plain": [
       "['pi-100GeV.txt',\n",
       " 'pi-150GeV.txt',\n",
       " 'pi-200GeV.txt',\n",
       " 'pi-300GeV.txt',\n",
       " 'pi-50GeV.txt']"
      ]
     },
     "execution_count": 13,
     "metadata": {},
     "output_type": "execute_result"
    }
   ],
   "source": [
    "img9x9.keys()\n"
   ]
  },
  {
   "cell_type": "code",
   "execution_count": 14,
   "metadata": {},
   "outputs": [
    {
     "name": "stdout",
     "output_type": "stream",
     "text": [
      "original 9x9 images and file\n",
      "file pi-100GeV.txt \n",
      "shape \n",
      "(14554, 81)\n",
      "file pi-150GeV.txt \n",
      "shape \n",
      "(10668, 81)\n",
      "file pi-200GeV.txt \n",
      "shape \n",
      "(9019, 81)\n",
      "file pi-300GeV.txt \n",
      "shape \n",
      "(28126, 81)\n",
      "file pi-50GeV.txt \n",
      "shape \n",
      "(12603, 81)\n",
      "new images 9x9 from 3x4 and file\n",
      "file pi-100GeV.txt \n",
      "shape \n",
      "(14554, 81)\n",
      "file pi-150GeV.txt \n",
      "shape \n",
      "(10668, 81)\n",
      "file pi-200GeV.txt \n",
      "shape \n",
      "(9019, 81)\n",
      "file pi-300GeV.txt \n",
      "shape \n",
      "(28126, 81)\n",
      "file pi-50GeV.txt \n",
      "shape \n",
      "(12603, 81)\n"
     ]
    }
   ],
   "source": [
    "print(\"original 9x9 images and file\")\n",
    "for i in img9x9:\n",
    "    print(\"file %s \\nshape \"%(i))\n",
    "    print(np.array(img9x9[i]).shape)\n",
    "    \n",
    "print(\"new images 9x9 from 3x4 and file\")\n",
    "for i in img9x9_2:\n",
    "    print(\"file %s \\nshape \"%(i))\n",
    "    print(np.array(img9x9_2[i]).shape)    "
   ]
  },
  {
   "cell_type": "markdown",
   "metadata": {},
   "source": [
    "# Saving Train/Test for original 9x9 images"
   ]
  },
  {
   "cell_type": "code",
   "execution_count": 15,
   "metadata": {},
   "outputs": [
    {
     "name": "stdout",
     "output_type": "stream",
     "text": [
      "proccesing pi-100GeV.txt taking 6000 event to train and 1374 to test\n",
      "(14554, 81)\n",
      "(14554, 81)\n",
      "(14554, 81)\n",
      "(14554, 162)\n",
      "proccesing pi-150GeV.txt taking 6000 event to train and 1374 to test\n",
      "(10668, 81)\n",
      "(10668, 81)\n",
      "(10668, 81)\n",
      "(10668, 162)\n",
      "proccesing pi-200GeV.txt taking 6000 event to train and 1374 to test\n",
      "(9019, 81)\n",
      "(9019, 81)\n",
      "(9019, 81)\n",
      "(9019, 162)\n",
      "proccesing pi-300GeV.txt taking 6000 event to train and 1374 to test\n",
      "(28126, 81)\n",
      "(28126, 81)\n",
      "(28126, 81)\n",
      "(28126, 162)\n",
      "proccesing pi-50GeV.txt taking 6000 event to train and 1374 to test\n",
      "(12603, 81)\n",
      "(12603, 81)\n",
      "(12603, 81)\n",
      "(12603, 162)\n"
     ]
    }
   ],
   "source": [
    "X_train = []\n",
    "X_train_2ch = [] #two channels data\n",
    "X_test = []\n",
    "X_test_2ch = [] #two channels data\n",
    "X_target = []\n",
    "for i in img9x9:\n",
    "    #ntest = np.array(img9x9[i]).shape[0] - 6000 \n",
    "    ntest=1374\n",
    "    print(\"proccesing %s taking 6000 event to train and %d to test\"%(i,ntest))\n",
    "    print(np.array(img9x9[i]).shape)\n",
    "    imgs1=np.array(img9x9[i])\n",
    "    imgs2=np.array(img9x9_2[i])\n",
    "    print(imgs1.shape)\n",
    "    print(imgs2.shape)\n",
    "    imgs=[]\n",
    "    imgs2ch=[]\n",
    "    for index in range(imgs1.shape[0]):\n",
    "        img2ch=np.dstack((imgs1[index],imgs2[index])).reshape((9,9,2))\n",
    "        imgs2ch.append(img2ch)\n",
    "        img = np.concatenate((imgs1[index],imgs2[index]))\n",
    "        imgs.append(img)\n",
    "\n",
    "    nimg=np.array(imgs)\n",
    "    nimg2ch=np.array(imgs2ch)\n",
    "    \n",
    "    print(nimg.shape)\n",
    "    X_train.extend(nimg[0:8000,:])\n",
    "    X_train_2ch.extend(nimg2ch[0:8000,:,:,:])\n",
    "    X_test.extend(nimg[8000:9019,:])\n",
    "    X_test_2ch.extend(nimg2ch[8000:9019,:,:,:])\n",
    "    if \"pi-50GeV.txt\" == i:\n",
    "        X_target.extend(np.full(8000,50))      \n",
    "    if \"pi-100GeV.txt\" == i:\n",
    "        X_target.extend(np.full(8000,100))\n",
    "    if \"pi-150GeV.txt\" == i:\n",
    "        X_target.extend(np.full(8000,150))\n",
    "    if \"pi-200GeV.txt\" == i:\n",
    "        X_target.extend(np.full(8000,200))       \n",
    "    if \"pi-300GeV.txt\" == i:\n",
    "        X_target.extend(np.full(8000,300))\n",
    "#    if \"pi-30GeV.txt\" == i:\n",
    "#        X_target.extend(np.full(8000,30))       \n",
    "#    if \"pi-20GeV.txt\" == i:\n",
    "#        X_target.extend(np.full(8000,20))       \n",
    "        "
   ]
  },
  {
   "cell_type": "code",
   "execution_count": 16,
   "metadata": {},
   "outputs": [
    {
     "name": "stdout",
     "output_type": "stream",
     "text": [
      "(40000, 162)\n",
      "(5095, 162)\n",
      "(40000,)\n",
      "(40000, 9, 9, 2)\n",
      "(5095, 9, 9, 2)\n"
     ]
    }
   ],
   "source": [
    "print(np.array(X_train).shape)\n",
    "print(np.array(X_test).shape)\n",
    "print(np.array(X_target).shape)\n",
    "print(np.array(X_train_2ch).shape)\n",
    "print(np.array(X_test_2ch).shape)"
   ]
  },
  {
   "cell_type": "markdown",
   "metadata": {},
   "source": [
    "### Saving Train/Test for extended 9x9 images from 4x3"
   ]
  },
  {
   "cell_type": "code",
   "execution_count": 17,
   "metadata": {},
   "outputs": [
    {
     "data": {
      "text/plain": [
       "'for i in img9x9_2:\\n    #ntest = np.array(img9x9_2[i]).shape[0] - 6000 \\n    ntest=1374    \\n    print(\"proccesing %s taking 6000 event to train and %d to test\"%(i,ntest))\\n    print(np.array(img9x9_2[i]).shape)\\n    imgs = np.array(img9x9_2[i])\\n    X_train.extend(imgs[0:6000,:])\\n    X_test.extend(imgs[6000:7374,:])\\n    if \"pi-300GeV.txt\" == i:\\n        X_target.extend(np.full(6000,300))\\n    if \"pi-200GeV.txt\" == i:\\n        X_target.extend(np.full(6000,200))       \\n    if \"pi-150GeV.txt\" == i:\\n        X_target.extend(np.full(6000,150))\\n    if \"pi-100GeV.txt\" == i:\\n        X_target.extend(np.full(6000,100))\\n    if \"pi-50GeV.txt\" == i:\\n        X_target.extend(np.full(6000,50))      \\n    if \"pi-30GeV.txt\" == i:\\n        X_target.extend(np.full(6000,30))       \\n    if \"pi-20GeV.txt\" == i:\\n        X_target.extend(np.full(6000,20))       \\n'"
      ]
     },
     "execution_count": 17,
     "metadata": {},
     "output_type": "execute_result"
    }
   ],
   "source": [
    "'''for i in img9x9_2:\n",
    "    #ntest = np.array(img9x9_2[i]).shape[0] - 6000 \n",
    "    ntest=1374    \n",
    "    print(\"proccesing %s taking 6000 event to train and %d to test\"%(i,ntest))\n",
    "    print(np.array(img9x9_2[i]).shape)\n",
    "    imgs = np.array(img9x9_2[i])\n",
    "    X_train.extend(imgs[0:6000,:])\n",
    "    X_test.extend(imgs[6000:7374,:])\n",
    "    if \"pi-300GeV.txt\" == i:\n",
    "        X_target.extend(np.full(6000,300))\n",
    "    if \"pi-200GeV.txt\" == i:\n",
    "        X_target.extend(np.full(6000,200))       \n",
    "    if \"pi-150GeV.txt\" == i:\n",
    "        X_target.extend(np.full(6000,150))\n",
    "    if \"pi-100GeV.txt\" == i:\n",
    "        X_target.extend(np.full(6000,100))\n",
    "    if \"pi-50GeV.txt\" == i:\n",
    "        X_target.extend(np.full(6000,50))      \n",
    "    if \"pi-30GeV.txt\" == i:\n",
    "        X_target.extend(np.full(6000,30))       \n",
    "    if \"pi-20GeV.txt\" == i:\n",
    "        X_target.extend(np.full(6000,20))       \n",
    "'''        "
   ]
  },
  {
   "cell_type": "code",
   "execution_count": 18,
   "metadata": {},
   "outputs": [
    {
     "name": "stdout",
     "output_type": "stream",
     "text": [
      "(40000, 162)\n",
      "(5095, 162)\n",
      "(40000,)\n"
     ]
    }
   ],
   "source": [
    "print(np.array(X_train).shape)\n",
    "print(np.array(X_test).shape)\n",
    "print(np.array(X_target).shape)"
   ]
  },
  {
   "cell_type": "markdown",
   "metadata": {},
   "source": [
    "## Creating a Keras Dense NN Model"
   ]
  },
  {
   "cell_type": "code",
   "execution_count": 19,
   "metadata": {},
   "outputs": [
    {
     "name": "stdout",
     "output_type": "stream",
     "text": [
      "_________________________________________________________________\n",
      "Layer (type)                 Output Shape              Param #   \n",
      "=================================================================\n",
      "dense_1 (Dense)              (None, 256)               41728     \n",
      "_________________________________________________________________\n",
      "dense_2 (Dense)              (None, 1)                 257       \n",
      "=================================================================\n",
      "Total params: 41,985\n",
      "Trainable params: 41,985\n",
      "Non-trainable params: 0\n",
      "_________________________________________________________________\n"
     ]
    }
   ],
   "source": [
    "# create model\n",
    "model = Sequential()\n",
    "model.add(Dense(256, input_dim=162, kernel_initializer='normal', activation='relu'))\n",
    "model.add(Dense(1, kernel_initializer='normal'))\n",
    "# Compile model\n",
    "model.compile(loss='mean_squared_error', optimizer='adam')\n",
    "model.summary()\n",
    "# Compile model\n"
   ]
  },
  {
   "cell_type": "code",
   "execution_count": 20,
   "metadata": {},
   "outputs": [
    {
     "name": "stderr",
     "output_type": "stream",
     "text": [
      "/usr/local/lib/python2.7/dist-packages/keras/models.py:939: UserWarning: The `nb_epoch` argument in `fit` has been renamed `epochs`.\n",
      "  warnings.warn('The `nb_epoch` argument in `fit` '\n"
     ]
    },
    {
     "name": "stdout",
     "output_type": "stream",
     "text": [
      "Epoch 1/25\n",
      "40000/40000 [==============================] - 2s 48us/step - loss: 1528.0697\n",
      "Epoch 2/25\n",
      "40000/40000 [==============================] - 2s 43us/step - loss: 616.0161\n",
      "Epoch 3/25\n",
      "40000/40000 [==============================] - 1s 37us/step - loss: 591.3589\n",
      "Epoch 4/25\n",
      "40000/40000 [==============================] - 2s 42us/step - loss: 576.9315\n",
      "Epoch 5/25\n",
      "40000/40000 [==============================] - 2s 43us/step - loss: 566.7435\n",
      "Epoch 6/25\n",
      "40000/40000 [==============================] - 2s 39us/step - loss: 552.5157\n",
      "Epoch 7/25\n",
      "40000/40000 [==============================] - 2s 39us/step - loss: 538.7785\n",
      "Epoch 8/25\n",
      "40000/40000 [==============================] - 1s 37us/step - loss: 525.9301\n",
      "Epoch 9/25\n",
      "40000/40000 [==============================] - 1s 36us/step - loss: 506.6431\n",
      "Epoch 10/25\n",
      "40000/40000 [==============================] - 1s 37us/step - loss: 494.1689\n",
      "Epoch 11/25\n",
      "40000/40000 [==============================] - 1s 37us/step - loss: 481.4424\n",
      "Epoch 12/25\n",
      "40000/40000 [==============================] - 1s 36us/step - loss: 468.6350\n",
      "Epoch 13/25\n",
      "40000/40000 [==============================] - 2s 38us/step - loss: 454.9316\n",
      "Epoch 14/25\n",
      "40000/40000 [==============================] - 1s 37us/step - loss: 444.1311\n",
      "Epoch 15/25\n",
      "40000/40000 [==============================] - 1s 37us/step - loss: 430.6974\n",
      "Epoch 16/25\n",
      "40000/40000 [==============================] - 1s 37us/step - loss: 420.3728\n",
      "Epoch 17/25\n",
      "40000/40000 [==============================] - 1s 37us/step - loss: 410.0047\n",
      "Epoch 18/25\n",
      "40000/40000 [==============================] - 2s 41us/step - loss: 400.5007\n",
      "Epoch 19/25\n",
      "40000/40000 [==============================] - 1s 37us/step - loss: 393.0954\n",
      "Epoch 20/25\n",
      "40000/40000 [==============================] - 1s 37us/step - loss: 384.8471\n",
      "Epoch 21/25\n",
      "40000/40000 [==============================] - 1s 37us/step - loss: 377.0106\n",
      "Epoch 22/25\n",
      "40000/40000 [==============================] - 1s 37us/step - loss: 372.3652\n",
      "Epoch 23/25\n",
      "40000/40000 [==============================] - 1s 36us/step - loss: 365.5810\n",
      "Epoch 24/25\n",
      "40000/40000 [==============================] - 1s 37us/step - loss: 363.3927\n",
      "Epoch 25/25\n",
      "40000/40000 [==============================] - 1s 37us/step - loss: 358.2561\n"
     ]
    },
    {
     "data": {
      "text/plain": [
       "<keras.callbacks.History at 0x7f03c0528690>"
      ]
     },
     "execution_count": 20,
     "metadata": {},
     "output_type": "execute_result"
    },
    {
     "name": "stderr",
     "output_type": "stream",
     "text": [
      "2017-11-29 14:54:27.945729: I tensorflow/core/platform/cpu_feature_guard.cc:137] Your CPU supports instructions that this TensorFlow binary was not compiled to use: SSE4.1 SSE4.2 AVX AVX2 FMA\n"
     ]
    }
   ],
   "source": [
    "model.fit(np.array(X_train),np.array(X_target), nb_epoch=25, verbose=1)"
   ]
  },
  {
   "cell_type": "code",
   "execution_count": 21,
   "metadata": {},
   "outputs": [],
   "source": [
    "pred=model.predict(np.array(X_test))"
   ]
  },
  {
   "cell_type": "code",
   "execution_count": 22,
   "metadata": {},
   "outputs": [
    {
     "data": {
      "text/plain": [
       "array([[ 98.19987488],\n",
       "       [ 99.84100342],\n",
       "       [ 90.95046997],\n",
       "       ..., \n",
       "       [ 60.8110733 ],\n",
       "       [ 78.39558411],\n",
       "       [ 50.9593811 ]], dtype=float32)"
      ]
     },
     "execution_count": 22,
     "metadata": {},
     "output_type": "execute_result"
    }
   ],
   "source": [
    "pred"
   ]
  },
  {
   "cell_type": "code",
   "execution_count": 23,
   "metadata": {},
   "outputs": [],
   "source": [
    "hist=TH1F(\"h1\",\"pions\",100,0,350)\n",
    "for i in pred:\n",
    "    hist.Fill(i)\n"
   ]
  },
  {
   "cell_type": "code",
   "execution_count": 24,
   "metadata": {},
   "outputs": [
    {
     "data": {
      "image/png": "[encoded data removed]",
      "text/plain": [
       "<IPython.core.display.Image object>"
      ]
     },
     "metadata": {},
     "output_type": "display_data"
    }
   ],
   "source": [
    "c=TCanvas()\n",
    "hist.Draw()\n",
    "c.Draw()"
   ]
  },
  {
   "cell_type": "code",
   "execution_count": 25,
   "metadata": {},
   "outputs": [],
   "source": [
    "hists=[]\n",
    "counter=0\n",
    "for i in [100,150,200,300,50]:\n",
    "    X_test\n",
    "    pred=model.predict(np.array(X_test[counter:counter+1019]))\n",
    "    counter+=1019\n",
    "    hist=TH1F(\"hdense%d\"%(i),\"pions %d\"%(i),100,0,350)\n",
    "    for i in pred:\n",
    "        hist.Fill(i)\n",
    "    hists.append(hist)"
   ]
  },
  {
   "cell_type": "code",
   "execution_count": 26,
   "metadata": {},
   "outputs": [
    {
     "name": "stdout",
     "output_type": "stream",
     "text": [
      " FCN=19.7735 FROM MIGRAD    STATUS=CONVERGED      67 CALLS          68 TOTAL\n",
      "                     EDM=1.19901e-09    STRATEGY= 1      ERROR MATRIX ACCURATE \n",
      "  EXT PARAMETER                                   STEP         FIRST   \n",
      "  NO.   NAME      VALUE            ERROR          SIZE      DERIVATIVE \n",
      "   1  Constant     9.49580e+01   4.19694e+00   6.93249e-03   2.85012e-06\n",
      "   2  Mean         1.07360e+02   4.86817e-01   1.08292e-03  -1.79925e-05\n",
      "   3  Sigma        1.39294e+01   4.67350e-01   1.89151e-05   4.84575e-03\n"
     ]
    },
    {
     "data": {
      "image/png": "[encoded data removed]",
      "text/plain": [
       "<IPython.core.display.Image object>"
      ]
     },
     "metadata": {},
     "output_type": "display_data"
    }
   ],
   "source": [
    "x1=[0,0,0,0,0]\n",
    "y1=[0,0,0,0,0]\n",
    "gStyle.SetOptFit()\n",
    "c=TCanvas()\n",
    "hists[0].Draw()\n",
    "fresults=hists[0].Fit(\"gaus\",\"\",\"\",78,145);\n",
    "#fit.Fit(\"gaus\",\"\",\"\",78,125)\n",
    "#fit = hist.GetFunction(\"gaus\")\n",
    "#Mean = fit.GetParameter(1)\n",
    "#Sigma = fit.GetParameter(2)\n",
    "#print(\"Mean = %f Sigma = %f \"%(Mean,Sigma))\n",
    "\n",
    "c.Draw()\n",
    "x1[1]=(1.34669e+01/1.08064e+02)\n",
    "y1[1]=(1.0/sqrt(100.0))"
   ]
  },
  {
   "cell_type": "code",
   "execution_count": 89,
   "metadata": {},
   "outputs": [
    {
     "name": "stdout",
     "output_type": "stream",
     "text": [
      " FCN=58.3079 FROM MIGRAD    STATUS=CONVERGED      70 CALLS          71 TOTAL\n",
      "                     EDM=3.86908e-11    STRATEGY= 1      ERROR MATRIX ACCURATE \n",
      "  EXT PARAMETER                                   STEP         FIRST   \n",
      "  NO.   NAME      VALUE            ERROR          SIZE      DERIVATIVE \n",
      "   1  Constant     8.89185e+01   3.91864e+00   1.09834e-02  -2.75026e-06\n",
      "   2  Mean         1.60678e+02   5.17083e-01   1.85652e-03  -7.01977e-06\n",
      "   3  Sigma        1.46412e+01   4.52300e-01   2.75305e-05  -7.45838e-04\n"
     ]
    },
    {
     "data": {
      "image/png": "[encoded data removed]",
      "text/plain": [
       "<IPython.core.display.Image object>"
      ]
     },
     "metadata": {},
     "output_type": "display_data"
    }
   ],
   "source": [
    "gStyle.SetOptFit()\n",
    "c=TCanvas()\n",
    "hists[1].Draw()\n",
    "fresults=hists[1].Fit(\"gaus\",\"\",\"\",120,200);\n",
    "c.Draw()\n",
    "x1[2]=(1.46412e+01/1.60678e+02)\n",
    "y1[2]=(1.0/sqrt(150.0))"
   ]
  },
  {
   "cell_type": "code",
   "execution_count": 90,
   "metadata": {},
   "outputs": [
    {
     "name": "stdout",
     "output_type": "stream",
     "text": [
      " FCN=14.0743 FROM MIGRAD    STATUS=CONVERGED      67 CALLS          68 TOTAL\n",
      "                     EDM=4.34401e-09    STRATEGY= 1      ERROR MATRIX ACCURATE \n",
      "  EXT PARAMETER                                   STEP         FIRST   \n",
      "  NO.   NAME      VALUE            ERROR          SIZE      DERIVATIVE \n",
      "   1  Constant     8.29494e+01   3.75951e+00   5.28633e-03   2.03927e-05\n",
      "   2  Mean         2.04968e+02   5.74767e-01   1.08634e-03   1.30294e-04\n",
      "   3  Sigma        1.54306e+01   5.73475e-01   1.83591e-05   3.17565e-03\n"
     ]
    },
    {
     "data": {
      "image/png": "[encoded data removed]",
      "text/plain": [
       "<IPython.core.display.Image object>"
      ]
     },
     "metadata": {},
     "output_type": "display_data"
    }
   ],
   "source": [
    "gStyle.SetOptFit()\n",
    "setTDRStyle()\n",
    "c=TCanvas()\n",
    "hists[2].Draw()\n",
    "fresults=hists[2].Fit(\"gaus\",\"\",\"\",175,240);\n",
    "c.Draw()\n",
    "x1[3]=(1.54306e+01/2.04968e+02)\n",
    "y1[3]=(1.0/sqrt(200.0))"
   ]
  },
  {
   "cell_type": "code",
   "execution_count": 86,
   "metadata": {},
   "outputs": [
    {
     "name": "stdout",
     "output_type": "stream",
     "text": [
      " FCN=45.4358 FROM MIGRAD    STATUS=CONVERGED      76 CALLS          77 TOTAL\n",
      "                     EDM=4.44679e-10    STRATEGY= 1      ERROR MATRIX ACCURATE \n",
      "  EXT PARAMETER                                   STEP         FIRST   \n",
      "  NO.   NAME      VALUE            ERROR          SIZE      DERIVATIVE \n",
      "   1  Constant     2.46457e+02   1.09502e+01   2.66970e-02   2.45665e-06\n",
      "   2  Mean         3.15458e+02   1.76256e-01   5.79078e-04  -8.11918e-05\n",
      "   3  Sigma        5.34577e+00   1.61601e-01   2.16589e-05  -1.46577e-04\n"
     ]
    },
    {
     "data": {
      "image/png": "[encoded data removed]",
      "text/plain": [
       "<IPython.core.display.Image object>"
      ]
     },
     "metadata": {},
     "output_type": "display_data"
    }
   ],
   "source": [
    "gStyle.SetOptFit()\n",
    "setTDRStyle()\n",
    "c=TCanvas()\n",
    "hists[3].Draw()\n",
    "fresults=hists[3].Fit(\"gaus\",\"\",\"\",280,340);\n",
    "c.Draw()\n",
    "x1[4]=(1.26361e+01/3.11319e+02)\n",
    "y1[4]=(1.0/sqrt(300.0))"
   ]
  },
  {
   "cell_type": "code",
   "execution_count": 87,
   "metadata": {},
   "outputs": [
    {
     "name": "stdout",
     "output_type": "stream",
     "text": [
      " FCN=169.313 FROM MIGRAD    STATUS=CONVERGED     104 CALLS         105 TOTAL\n",
      "                     EDM=4.3846e-07    STRATEGY= 1      ERROR MATRIX ACCURATE \n",
      "  EXT PARAMETER                                   STEP         FIRST   \n",
      "  NO.   NAME      VALUE            ERROR          SIZE      DERIVATIVE \n",
      "   1  Constant     3.56276e+02   1.86466e+01   8.16109e-02  -1.18032e-05\n",
      "   2  Mean         5.05122e+01   1.29735e-01   6.95933e-04  -1.41590e-03\n",
      "   3  Sigma        3.03223e+00   1.15280e-01   3.64991e-05  -1.06755e-01\n"
     ]
    },
    {
     "data": {
      "image/png": "[encoded data removed]",
      "text/plain": [
       "<IPython.core.display.Image object>"
      ]
     },
     "metadata": {},
     "output_type": "display_data"
    }
   ],
   "source": [
    "gStyle.SetOptFit()\n",
    "setTDRStyle()\n",
    "c=TCanvas()\n",
    "hists[4].Draw()\n",
    "fresults=hists[4].Fit(\"gaus\",\"\",\"\",40,70);\n",
    "c.Draw()\n",
    "x1[0]=(3.03223e+00/5.05122e+01)\n",
    "y1[0]=(1.0/sqrt(50.0))"
   ]
  },
  {
   "cell_type": "code",
   "execution_count": 58,
   "metadata": {},
   "outputs": [],
   "source": [
    "gr1=TGraph(5)"
   ]
  },
  {
   "cell_type": "code",
   "execution_count": 82,
   "metadata": {},
   "outputs": [
    {
     "name": "stdout",
     "output_type": "stream",
     "text": [
      "gr3.SetPoint(0,0.141421,0.060030)\n",
      "gr3.SetPoint(1,0.100000,0.124620)\n",
      "gr3.SetPoint(2,0.081650,0.094963)\n",
      "gr3.SetPoint(3,0.070711,0.072695)\n",
      "gr3.SetPoint(4,0.057735,0.040589)\n"
     ]
    }
   ],
   "source": [
    "for i in range(5):\n",
    "    print(\"gr3.SetPoint(%d,%f,%f)\"%(i,y1[i],x1[i]))\n",
    "    #gr1.SetPoint (i,y1[i],x1[i])"
   ]
  },
  {
   "cell_type": "code",
   "execution_count": 33,
   "metadata": {},
   "outputs": [
    {
     "data": {
      "image/png": "[encoded data removed]",
      "text/plain": [
       "<IPython.core.display.Image object>"
      ]
     },
     "metadata": {},
     "output_type": "display_data"
    }
   ],
   "source": [
    "c=TCanvas()\n",
    "gr1.GetYaxis().SetRangeUser(0.0,0.5);\n",
    "#gr.GetXaxis().SetRange(18,19);\n",
    "gr1.Draw(\"AC*\")\n",
    "c.Draw()"
   ]
  },
  {
   "cell_type": "code",
   "execution_count": null,
   "metadata": {},
   "outputs": [],
   "source": []
  },
  {
   "cell_type": "code",
   "execution_count": null,
   "metadata": {},
   "outputs": [],
   "source": []
  },
  {
   "cell_type": "code",
   "execution_count": 34,
   "metadata": {},
   "outputs": [],
   "source": [
    "f = TFile( 'reg1train.root', 'recreate' )\n",
    "reg = TTree(\"reg\",\"pions\")"
   ]
  },
  {
   "cell_type": "code",
   "execution_count": 35,
   "metadata": {},
   "outputs": [
    {
     "name": "stdout",
     "output_type": "stream",
     "text": [
      "162\n"
     ]
    }
   ],
   "source": [
    "train = array( 'f', np.array(X_train).shape[1]*[ 0.] )\n",
    "target = array('i',[0])\n",
    "print(np.array(X_train).shape[1])"
   ]
  },
  {
   "cell_type": "code",
   "execution_count": 36,
   "metadata": {},
   "outputs": [
    {
     "data": {
      "text/plain": [
       "<ROOT.TBranch object (\"var\") at 0x565548bf72f0>"
      ]
     },
     "execution_count": 36,
     "metadata": {},
     "output_type": "execute_result"
    }
   ],
   "source": [
    "reg.Branch( 'target', target, 'target/I' )\n",
    "reg.Branch( 'var', train, 'var[162]/F' )"
   ]
  },
  {
   "cell_type": "code",
   "execution_count": 37,
   "metadata": {},
   "outputs": [],
   "source": [
    "for i in range(np.array(X_train).shape[0]):\n",
    "   target[0] = X_target[i]\n",
    "   for j in range(162):\n",
    "    train[j] = X_train[i][j]\n",
    "   reg.Fill()"
   ]
  },
  {
   "cell_type": "code",
   "execution_count": 38,
   "metadata": {},
   "outputs": [],
   "source": [
    "reg.Write()\n",
    "f.Close()"
   ]
  },
  {
   "cell_type": "markdown",
   "metadata": {},
   "source": [
    "## Creating a Keras CNN Model"
   ]
  },
  {
   "cell_type": "code",
   "execution_count": 39,
   "metadata": {},
   "outputs": [
    {
     "name": "stdout",
     "output_type": "stream",
     "text": [
      "_________________________________________________________________\n",
      "Layer (type)                 Output Shape              Param #   \n",
      "=================================================================\n",
      "conv2d_1 (Conv2D)            (None, 9, 9, 16)          304       \n",
      "_________________________________________________________________\n",
      "conv2d_2 (Conv2D)            (None, 9, 9, 16)          2320      \n",
      "_________________________________________________________________\n",
      "max_pooling2d_1 (MaxPooling2 (None, 4, 4, 16)          0         \n",
      "_________________________________________________________________\n",
      "flatten_1 (Flatten)          (None, 256)               0         \n",
      "_________________________________________________________________\n",
      "dense_3 (Dense)              (None, 256)               65792     \n",
      "_________________________________________________________________\n",
      "dense_4 (Dense)              (None, 1)                 257       \n",
      "=================================================================\n",
      "Total params: 68,673\n",
      "Trainable params: 68,673\n",
      "Non-trainable params: 0\n",
      "_________________________________________________________________\n"
     ]
    }
   ],
   "source": [
    "# create model\n",
    "model = Sequential()\n",
    "model.add(Conv2D(16, activation='relu', kernel_size=3, padding='same', kernel_initializer='TruncatedNormal', input_shape=(9,9,2)))\n",
    "model.add(Conv2D(16, activation='relu', kernel_size=3, padding='same', kernel_initializer='TruncatedNormal'))\n",
    "model.add(MaxPooling2D(pool_size=(2, 2)))\n",
    "model.add(Flatten())\n",
    "model.add(Dense(256, input_dim=162, kernel_initializer='normal', activation='relu'))\n",
    "model.add(Dense(1, kernel_initializer='normal'))\n",
    "# Compile model\n",
    "model.compile(loss='mean_squared_error', optimizer='adam')\n",
    "model.summary()\n",
    "# Compile model"
   ]
  },
  {
   "cell_type": "code",
   "execution_count": 40,
   "metadata": {},
   "outputs": [
    {
     "name": "stdout",
     "output_type": "stream",
     "text": [
      "Epoch 1/25\n",
      "40000/40000 [==============================] - 6s 155us/step - loss: 1066.6615\n",
      "Epoch 2/25\n",
      "40000/40000 [==============================] - 6s 145us/step - loss: 650.4161\n",
      "Epoch 3/25\n",
      "40000/40000 [==============================] - 6s 142us/step - loss: 621.7238\n",
      "Epoch 4/25\n",
      "40000/40000 [==============================] - 6s 149us/step - loss: 593.7601\n",
      "Epoch 5/25\n",
      "40000/40000 [==============================] - 6s 138us/step - loss: 554.1304\n",
      "Epoch 6/25\n",
      "40000/40000 [==============================] - 6s 140us/step - loss: 502.8608\n",
      "Epoch 7/25\n",
      "40000/40000 [==============================] - 5s 137us/step - loss: 459.1191\n",
      "Epoch 8/25\n",
      "40000/40000 [==============================] - 5s 137us/step - loss: 434.7273\n",
      "Epoch 9/25\n",
      "40000/40000 [==============================] - 5s 137us/step - loss: 415.6833\n",
      "Epoch 10/25\n",
      "40000/40000 [==============================] - 6s 140us/step - loss: 407.3656\n",
      "Epoch 11/25\n",
      "40000/40000 [==============================] - 6s 141us/step - loss: 397.5695\n",
      "Epoch 12/25\n",
      "40000/40000 [==============================] - 6s 143us/step - loss: 389.1516\n",
      "Epoch 13/25\n",
      "40000/40000 [==============================] - 6s 144us/step - loss: 375.8783\n",
      "Epoch 14/25\n",
      "40000/40000 [==============================] - 6s 140us/step - loss: 369.1823\n",
      "Epoch 15/25\n",
      "40000/40000 [==============================] - 5s 132us/step - loss: 360.6557\n",
      "Epoch 16/25\n",
      "40000/40000 [==============================] - 5s 135us/step - loss: 355.8053\n",
      "Epoch 17/25\n",
      "40000/40000 [==============================] - 5s 137us/step - loss: 347.6224\n",
      "Epoch 18/25\n",
      "40000/40000 [==============================] - 7s 163us/step - loss: 340.8762\n",
      "Epoch 19/25\n",
      "40000/40000 [==============================] - 6s 146us/step - loss: 335.9257\n",
      "Epoch 20/25\n",
      "40000/40000 [==============================] - 6s 139us/step - loss: 328.2238\n",
      "Epoch 21/25\n",
      "40000/40000 [==============================] - 5s 137us/step - loss: 325.1868\n",
      "Epoch 22/25\n",
      "40000/40000 [==============================] - 6s 139us/step - loss: 319.3164\n",
      "Epoch 23/25\n",
      "40000/40000 [==============================] - 5s 133us/step - loss: 315.7385\n",
      "Epoch 24/25\n",
      "40000/40000 [==============================] - 5s 130us/step - loss: 313.0079\n",
      "Epoch 25/25\n",
      "40000/40000 [==============================] - 5s 129us/step - loss: 310.0755\n"
     ]
    },
    {
     "data": {
      "text/plain": [
       "<keras.callbacks.History at 0x7f03c05280d0>"
      ]
     },
     "execution_count": 40,
     "metadata": {},
     "output_type": "execute_result"
    }
   ],
   "source": [
    "model.fit(np.array(X_train_2ch), np.array(X_target),batch_size=25,epochs=25,verbose=1, shuffle=True)"
   ]
  },
  {
   "cell_type": "code",
   "execution_count": 41,
   "metadata": {},
   "outputs": [],
   "source": [
    "pred2ch=model.predict(np.array(X_test_2ch))"
   ]
  },
  {
   "cell_type": "code",
   "execution_count": 42,
   "metadata": {},
   "outputs": [
    {
     "data": {
      "image/png": "[encoded data removed]",
      "text/plain": [
       "<IPython.core.display.Image object>"
      ]
     },
     "metadata": {},
     "output_type": "display_data"
    }
   ],
   "source": [
    "hist=TH1F(\"h1\",\"pions\",100,0,350)\n",
    "for i in pred2ch:\n",
    "    hist.Fill(i)\n",
    "c=TCanvas()\n",
    "hist.Draw()\n",
    "c.Draw()"
   ]
  },
  {
   "cell_type": "code",
   "execution_count": 43,
   "metadata": {},
   "outputs": [],
   "source": [
    "hists=[]\n",
    "counter=0\n",
    "for i in [100,150,200,300,50]:\n",
    "    X_test_2ch\n",
    "    pred=model.predict(np.array(X_test_2ch[counter:counter+1019]))\n",
    "    counter+=1019\n",
    "    hist=TH1F(\"h%d\"%(i),\"pions %d\"%(i),100,0,350)\n",
    "    for i in pred:\n",
    "        hist.Fill(i)\n",
    "    hists.append(hist)"
   ]
  },
  {
   "cell_type": "code",
   "execution_count": 44,
   "metadata": {},
   "outputs": [
    {
     "name": "stdout",
     "output_type": "stream",
     "text": [
      " FCN=20.0014 FROM MIGRAD    STATUS=CONVERGED      67 CALLS          68 TOTAL\n",
      "                     EDM=4.43586e-09    STRATEGY= 1      ERROR MATRIX ACCURATE \n",
      "  EXT PARAMETER                                   STEP         FIRST   \n",
      "  NO.   NAME      VALUE            ERROR          SIZE      DERIVATIVE \n",
      "   1  Constant     1.10983e+02   5.07242e+00   8.63626e-03  -2.16807e-05\n",
      "   2  Mean         1.09338e+02   5.04079e-01   9.90538e-04  -9.75510e-06\n",
      "   3  Sigma        1.11760e+01   4.63095e-01   2.28528e-05  -1.90658e-03\n"
     ]
    },
    {
     "data": {
      "image/png": "[encoded data removed]",
      "text/plain": [
       "<IPython.core.display.Image object>"
      ]
     },
     "metadata": {},
     "output_type": "display_data"
    }
   ],
   "source": [
    "#vstart = [3, 1 , 0.1 , 0.01]\n",
    "#step[4] = [0.1 , 0.1 , 0.01 , 0.001]\n",
    "#gMinuit.mnparm(0, \"Constant\", [125], [0.01], 0,0,0);\n",
    "#gMinuit->mnparm(1, \"a2\", vstart[1], step[1], 0,0,ierflg);\n",
    "#gMinuit->mnparm(2, \"a3\", vstart[2], step[2], 0,0,ierflg);\n",
    "#gMinuit->mnparm(3, \"a4\", vstart[3], step[3], 0,0,ierflg);\n",
    "\n",
    "x=[0,0,0,0,0]\n",
    "y=[0,0,0,0,0]\n",
    "gStyle.SetOptFit()\n",
    "c=TCanvas()\n",
    "hists[0].Draw()\n",
    "fresults=hists[0].Fit(\"gaus\",\"\",\"\",78,125);\n",
    "#fit.Fit(\"gaus\",\"\",\"\",78,125)\n",
    "#fit = hist.GetFunction(\"gaus\")\n",
    "#Mean = fit.GetParameter(1)\n",
    "#Sigma = fit.GetParameter(2)\n",
    "#print(\"Mean = %f Sigma = %f \"%(Mean,Sigma))\n",
    "\n",
    "c.Draw()\n",
    "x[1]=(9.94462e+00/1.05545e+02)\n",
    "y[1]=(1.0/sqrt(100.0))"
   ]
  },
  {
   "cell_type": "code",
   "execution_count": 45,
   "metadata": {},
   "outputs": [
    {
     "name": "stdout",
     "output_type": "stream",
     "text": [
      " FCN=58.3079 FROM MIGRAD    STATUS=CONVERGED      70 CALLS          71 TOTAL\n",
      "                     EDM=3.86906e-11    STRATEGY= 1      ERROR MATRIX ACCURATE \n",
      "  EXT PARAMETER                                   STEP         FIRST   \n",
      "  NO.   NAME      VALUE            ERROR          SIZE      DERIVATIVE \n",
      "   1  Constant     8.89185e+01   3.91864e+00   1.09834e-02  -2.75026e-06\n",
      "   2  Mean         1.60678e+02   5.17083e-01   1.85652e-03  -7.01971e-06\n",
      "   3  Sigma        1.46412e+01   4.52300e-01   2.75305e-05  -7.45838e-04\n"
     ]
    },
    {
     "data": {
      "image/png": "[encoded data removed]",
      "text/plain": [
       "<IPython.core.display.Image object>"
      ]
     },
     "metadata": {},
     "output_type": "display_data"
    }
   ],
   "source": [
    "gStyle.SetOptFit()\n",
    "c=TCanvas()\n",
    "hists[1].Draw()\n",
    "fresults=hists[1].Fit(\"gaus\",\"\",\"\",120,200);\n",
    "c.Draw()\n",
    "x[2]=(1.38278e+01/1.54555e+02)\n",
    "y[2]=(1.0/sqrt(150.0))"
   ]
  },
  {
   "cell_type": "code",
   "execution_count": 46,
   "metadata": {},
   "outputs": [
    {
     "name": "stdout",
     "output_type": "stream",
     "text": [
      " FCN=8.57169 FROM MIGRAD    STATUS=CONVERGED      76 CALLS          77 TOTAL\n",
      "                     EDM=1.25677e-08    STRATEGY= 1      ERROR MATRIX ACCURATE \n",
      "  EXT PARAMETER                                   STEP         FIRST   \n",
      "  NO.   NAME      VALUE            ERROR          SIZE      DERIVATIVE \n",
      "   1  Constant     8.65840e+01   4.19951e+00   4.77756e-03   3.36183e-05\n",
      "   2  Mean         2.03913e+02   7.60121e-01   9.85110e-04  -4.44596e-05\n",
      "   3  Sigma        1.39974e+01   8.03453e-01   2.24847e-05   1.00524e-02\n"
     ]
    },
    {
     "data": {
      "image/png": "[encoded data removed]",
      "text/plain": [
       "<IPython.core.display.Image object>"
      ]
     },
     "metadata": {},
     "output_type": "display_data"
    }
   ],
   "source": [
    "gStyle.SetOptFit()\n",
    "setTDRStyle()\n",
    "c=TCanvas()\n",
    "hists[2].Draw()\n",
    "fresults=hists[2].Fit(\"gaus\",\"\",\"\",175,220);\n",
    "c.Draw()\n",
    "x[3]=(1.20306e+01/1.95014e+02)\n",
    "y[3]=(1.0/sqrt(200.0))"
   ]
  },
  {
   "cell_type": "code",
   "execution_count": 64,
   "metadata": {},
   "outputs": [
    {
     "name": "stdout",
     "output_type": "stream",
     "text": [
      " FCN=47.4356 FROM MIGRAD    STATUS=CONVERGED      75 CALLS          76 TOTAL\n",
      "                     EDM=2.37518e-09    STRATEGY= 1      ERROR MATRIX ACCURATE \n",
      "  EXT PARAMETER                                   STEP         FIRST   \n",
      "  NO.   NAME      VALUE            ERROR          SIZE      DERIVATIVE \n",
      "   1  Constant     2.46456e+02   1.09503e+01   2.72650e-02   1.83252e-07\n",
      "   2  Mean         3.15458e+02   1.76256e-01   5.91411e-04   3.95895e-04\n",
      "   3  Sigma        5.34578e+00   1.61606e-01   2.18927e-05   1.28442e-03\n"
     ]
    },
    {
     "data": {
      "image/png": "[encoded data removed]",
      "text/plain": [
       "<IPython.core.display.Image object>"
      ]
     },
     "metadata": {},
     "output_type": "display_data"
    }
   ],
   "source": [
    "gStyle.SetOptFit()\n",
    "setTDRStyle()\n",
    "c=TCanvas()\n",
    "hists[3].Draw()\n",
    "fresults=hists[3].Fit(\"gaus\",\"\",\"\",280,350);\n",
    "c.Draw()\n",
    "x[4]=(5.34578e+00/3.15458e+02)\n",
    "y[4]=(1.0/sqrt(300.0))"
   ]
  },
  {
   "cell_type": "code",
   "execution_count": 80,
   "metadata": {},
   "outputs": [
    {
     "name": "stdout",
     "output_type": "stream",
     "text": [
      " FCN=25.8592 FROM MIGRAD    STATUS=CONVERGED      74 CALLS          75 TOTAL\n",
      "                     EDM=2.05941e-08    STRATEGY= 1      ERROR MATRIX ACCURATE \n",
      "  EXT PARAMETER                                   STEP         FIRST   \n",
      "  NO.   NAME      VALUE            ERROR          SIZE      DERIVATIVE \n",
      "   1  Constant     3.24735e+02   1.87746e+01   2.97878e-02  -3.29682e-06\n",
      "   2  Mean         5.02069e+01   1.84311e-01   3.91348e-04   1.18021e-03\n",
      "   3  Sigma        3.59553e+00   2.47442e-01   3.57539e-05   8.00207e-04\n"
     ]
    },
    {
     "data": {
      "image/png": "[encoded data removed]",
      "text/plain": [
       "<IPython.core.display.Image object>"
      ]
     },
     "metadata": {},
     "output_type": "display_data"
    }
   ],
   "source": [
    "gStyle.SetOptFit()\n",
    "setTDRStyle()\n",
    "c=TCanvas()\n",
    "hists[4].Draw()\n",
    "fresults=hists[4].Fit(\"gaus\",\"\",\"\",45,60);\n",
    "c.Draw()\n",
    "x[0]=(3.59553e+00/5.02069e+01)\n",
    "y[0]=(1.0/sqrt(50.0))"
   ]
  },
  {
   "cell_type": "code",
   "execution_count": 67,
   "metadata": {},
   "outputs": [],
   "source": [
    "gr2=TGraph(5)"
   ]
  },
  {
   "cell_type": "code",
   "execution_count": 81,
   "metadata": {},
   "outputs": [
    {
     "name": "stdout",
     "output_type": "stream",
     "text": [
      "gr4.SetPoint(0,0.141421,0.071614)\n",
      "gr4.SetPoint(1,0.100000,0.094222)\n",
      "gr4.SetPoint(2,0.081650,0.089468)\n",
      "gr4.SetPoint(3,0.070711,0.061691)\n",
      "gr4.SetPoint(4,0.057735,0.016946)\n"
     ]
    }
   ],
   "source": [
    "for i in range(5):\n",
    "    print(\"gr4.SetPoint(%d,%f,%f)\"%(i,y[i],x[i]))\n",
    "    gr2.SetPoint (i,y[i],x[i])"
   ]
  },
  {
   "cell_type": "code",
   "execution_count": 71,
   "metadata": {},
   "outputs": [
    {
     "data": {
      "image/png": "[encoded data removed]",
      "text/plain": [
       "<IPython.core.display.Image object>"
      ]
     },
     "metadata": {},
     "output_type": "display_data"
    }
   ],
   "source": [
    "c=TCanvas()\n",
    "gr2.GetYaxis().SetRangeUser(0.0,0.5);\n",
    "#gr.GetXaxis().SetRange(18,19);\n",
    "gr2.Draw(\"AC*\")\n",
    "c.Draw()"
   ]
  },
  {
   "cell_type": "code",
   "execution_count": 52,
   "metadata": {},
   "outputs": [
    {
     "data": {
      "image/png": "[encoded data removed]",
      "text/plain": [
       "<IPython.core.display.Image object>"
      ]
     },
     "metadata": {},
     "output_type": "display_data"
    }
   ],
   "source": [
    "c=TCanvas()\n",
    "gr1.SetLineColor(kBlue)\n",
    "gr2.SetLineColor(kRed)\n",
    "mg =TMultiGraph()\n",
    "mg.Add(gr1,\"lp\")\n",
    "mg.Add(gr2,\"cp\")\n",
    "mg.Draw(\"a\")\n",
    "c.Draw()"
   ]
  },
  {
   "cell_type": "code",
   "execution_count": null,
   "metadata": {},
   "outputs": [],
   "source": []
  },
  {
   "cell_type": "code",
   "execution_count": null,
   "metadata": {},
   "outputs": [],
   "source": []
  },
  {
   "cell_type": "code",
   "execution_count": null,
   "metadata": {},
   "outputs": [],
   "source": []
  }
 ],
 "metadata": {
  "kernelspec": {
   "display_name": "Python 2",
   "language": "python",
   "name": "python2"
  },
  "language_info": {
   "codemirror_mode": {
    "name": "ipython",
    "version": 2
   },
   "file_extension": ".py",
   "mimetype": "text/x-python",
   "name": "python",
   "nbconvert_exporter": "python",
   "pygments_lexer": "ipython2",
   "version": "2.7.13"
  }
 },
 "nbformat": 4,
 "nbformat_minor": 2
}
