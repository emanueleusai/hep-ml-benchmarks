{
 "cells": [
  {
   "cell_type": "code",
   "execution_count": 1,
   "metadata": {},
   "outputs": [
    {
     "name": "stdout",
     "output_type": "stream",
     "text": [
      "Welcome to JupyROOT 6.11/03\n"
     ]
    }
   ],
   "source": [
    "import ROOT\n",
    "from ROOT import TH1F, TCanvas, TTree, TFile, gStyle, gMinuit, TGraph, TVectorF, gSystem, gApplication\n",
    "from ROOT import kBlue,kRed,kGreen,kBlack,TMultiGraph"
   ]
  },
  {
   "cell_type": "code",
   "execution_count": 2,
   "metadata": {},
   "outputs": [],
   "source": [
    "#Dense low\n",
    "gr1=TGraph(5)\n",
    "gr1.SetPoint(0,0.500000,0.340646)\n",
    "gr1.SetPoint(1,0.447214,0.295576)\n",
    "gr1.SetPoint(2,0.408248,0.224043)\n",
    "gr1.SetPoint(3,0.377964,0.165164)\n",
    "gr1.SetPoint(4,0.353553,0.145761)\n",
    "gr1.SetPoint(5,0.333333,0.140443)\n",
    "#Cnn low\n",
    "gr2=TGraph(5)\n",
    "gr2.SetPoint(0,0.500000,0.256181)\n",
    "gr2.SetPoint(1,0.447214,0.254647)\n",
    "gr2.SetPoint(2,0.408248,0.170751)\n",
    "gr2.SetPoint(3,0.377964,0.135870)\n",
    "gr2.SetPoint(4,0.353553,0.122928)\n",
    "gr2.SetPoint(5,0.333333,0.099583)\n",
    "\n",
    "#Dense high\n",
    "gr3=TGraph(5)\n",
    "gr3.SetPoint(0,0.141421,0.060030)\n",
    "gr3.SetPoint(1,0.100000,0.124620)\n",
    "gr3.SetPoint(2,0.081650,0.094963)\n",
    "gr3.SetPoint(3,0.070711,0.072695)\n",
    "gr3.SetPoint(4,0.057735,0.040589)\n",
    "\n",
    "#Cnn high\n",
    "gr4=TGraph(5)\n",
    "gr4.SetPoint(0,0.141421,0.071614)\n",
    "gr4.SetPoint(1,0.100000,0.094222)\n",
    "gr4.SetPoint(2,0.081650,0.089468)\n",
    "gr4.SetPoint(3,0.070711,0.061691)\n",
    "gr4.SetPoint(4,0.057735,0.016946)\n",
    "\n",
    "\n",
    "gr5=TGraph(5)\n",
    "gr5.SetPoint(0,0.447214,0.39)\n",
    "gr5.SetPoint(1,0.408248,0.36)\n",
    "gr5.SetPoint(2,0.377964,0.33)\n",
    "gr5.SetPoint(3,0.353553,0.275)\n",
    "gr5.SetPoint(4,0.333333,0.29)\n",
    "\n",
    "gr6=TGraph(5)\n",
    "gr6.SetPoint(0,0.141421,0.14)\n",
    "gr6.SetPoint(1,0.100000,0.12)\n",
    "gr6.SetPoint(2,0.081650,0.09)\n",
    "gr6.SetPoint(3,0.070711,0.08)\n",
    "gr6.SetPoint(4,0.057735,0.08)\n",
    "\n"
   ]
  },
  {
   "cell_type": "code",
   "execution_count": 3,
   "metadata": {},
   "outputs": [
    {
     "data": {
      "image/png": "[encoded data removed]",
      "text/plain": [
       "<IPython.core.display.Image object>"
      ]
     },
     "metadata": {},
     "output_type": "display_data"
    }
   ],
   "source": [
    "c=TCanvas()\n",
    "gr1.SetLineColor(kBlue)\n",
    "gr2.SetLineColor(kRed)\n",
    "gr3.SetLineColor(kGreen)\n",
    "gr4.SetLineColor(kBlack)\n",
    "gr5.SetLineColor(10)\n",
    "gr6.SetLineColor(11)\n",
    "mg =TMultiGraph()\n",
    "mg.Add(gr1,\"AC*\")\n",
    "mg.Add(gr2,\"AC*\")\n",
    "mg.Add(gr3,\"AC*\")\n",
    "mg.Add(gr4,\"AC*\")\n",
    "mg.Add(gr5,\"AC*\")\n",
    "mg.Add(gr6,\"AC*\")\n",
    "mg.Draw(\"a\")\n",
    "c.Draw()"
   ]
  },
  {
   "cell_type": "code",
   "execution_count": null,
   "metadata": {},
   "outputs": [],
   "source": []
  }
 ],
 "metadata": {
  "kernelspec": {
   "display_name": "Python 2",
   "language": "python",
   "name": "python2"
  },
  "language_info": {
   "codemirror_mode": {
    "name": "ipython",
    "version": 2
   },
   "file_extension": ".py",
   "mimetype": "text/x-python",
   "name": "python",
   "nbconvert_exporter": "python",
   "pygments_lexer": "ipython2",
   "version": "2.7.13"
  }
 },
 "nbformat": 4,
 "nbformat_minor": 2
}
