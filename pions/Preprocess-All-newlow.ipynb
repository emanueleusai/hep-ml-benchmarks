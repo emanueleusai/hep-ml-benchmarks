{
 "cells": [
  {
   "cell_type": "code",
   "execution_count": 1,
   "metadata": {},
   "outputs": [
    {
     "name": "stderr",
     "output_type": "stream",
     "text": [
      "Using TensorFlow backend.\n"
     ]
    },
    {
     "name": "stdout",
     "output_type": "stream",
     "text": [
      "Welcome to JupyROOT 6.11/03\n"
     ]
    }
   ],
   "source": [
    "import numpy as np\n",
    "from matplotlib import pyplot as plt\n",
    "import numpy\n",
    "import pandas\n",
    "from keras.models import Sequential\n",
    "from keras.layers import Dense\n",
    "from keras.wrappers.scikit_learn import KerasRegressor\n",
    "from keras.optimizers import Adam\n",
    "from keras.initializers import TruncatedNormal\n",
    "from keras.layers import Input, Dense, Dropout, Flatten, Conv2D, MaxPooling2D\n",
    "from sklearn.model_selection import cross_val_score\n",
    "from sklearn.model_selection import KFold\n",
    "from sklearn.preprocessing import StandardScaler\n",
    "from sklearn.pipeline import Pipeline\n",
    "import ROOT\n",
    "from ROOT import TH1F, TCanvas, TTree, TFile, gStyle, gMinuit, TGraph, TVectorF, gSystem, gApplication\n",
    "from array import array\n",
    "from sortedcontainers import SortedList\n",
    "from collections import OrderedDict\n",
    "from math import sqrt\n",
    "from ROOT import kBlue,kRed,TMultiGraph"
   ]
  },
  {
   "cell_type": "code",
   "execution_count": 2,
   "metadata": {},
   "outputs": [
    {
     "data": {
      "text/plain": [
       "0L"
      ]
     },
     "execution_count": 2,
     "metadata": {},
     "output_type": "execute_result"
    },
    {
     "name": "stderr",
     "output_type": "stream",
     "text": [
      "\u001b[0;1;35mwarning: \u001b[0mcannot find function 'tdrstyle()'; falling back to .L\u001b[0m\n"
     ]
    }
   ],
   "source": [
    "gApplication.ProcessFile(\"tdrstyle.C\")"
   ]
  },
  {
   "cell_type": "code",
   "execution_count": 3,
   "metadata": {},
   "outputs": [],
   "source": [
    "from ROOT import setTDRStyle"
   ]
  },
  {
   "cell_type": "code",
   "execution_count": 4,
   "metadata": {},
   "outputs": [],
   "source": [
    "setTDRStyle()"
   ]
  },
  {
   "cell_type": "markdown",
   "metadata": {},
   "source": [
    "## Info\n",
    "50=>high 50<low"
   ]
  },
  {
   "cell_type": "code",
   "execution_count": 5,
   "metadata": {},
   "outputs": [],
   "source": [
    "files=SortedList([\n",
    "#\"pi-300GeV.txt\",\n",
    "#\"pi-200GeV.txt\",\n",
    "#\"pi-150GeV.txt\",\n",
    "#\"pi-100GeV.txt\",\n",
    "#\"pi-50GeV.txt\"])\n",
    "#\"pi-30GeV.txt\",\n",
    "#\"pi-20GeV.txt\"]\n",
    "\"pi-9GeV.txt\",\n",
    "\"pi-8GeV.txt\",\n",
    "\"pi-7GeV.txt\",\n",
    "\"pi-6GeV.txt\",\n",
    "\"pi-5GeV.txt\",\n",
    "\"pi-4GeV.txt\",\n",
    "\"pi-3GeV.txt\",\n",
    "\"pi-2GeV.txt\"])\n"
   ]
  },
  {
   "cell_type": "code",
   "execution_count": 6,
   "metadata": {},
   "outputs": [],
   "source": [
    "lines9x9=OrderedDict()\n",
    "lines3x4=OrderedDict()"
   ]
  },
  {
   "cell_type": "markdown",
   "metadata": {},
   "source": [
    "#### Getting lines of length 9 and 4\n",
    "the result is a map with the file"
   ]
  },
  {
   "cell_type": "code",
   "execution_count": 7,
   "metadata": {},
   "outputs": [],
   "source": [
    "for i in files:\n",
    "    prefix=\"pi-txt/\"\n",
    "    lines9x9buffer=[]\n",
    "    lines3x4buffer=[]\n",
    "    file = open(prefix+i)\n",
    "    data=file.readlines()\n",
    "    for l in data:\n",
    "        line=np.fromstring(l.strip(),sep=\" \")\n",
    "        if len(line) == 9 :\n",
    "            lines9x9buffer.append(line)\n",
    "        if len(line) == 4 :\n",
    "            lines3x4buffer.append(line)\n",
    "    lines9x9[i]=lines9x9buffer\n",
    "    lines3x4[i]=lines3x4buffer"
   ]
  },
  {
   "cell_type": "code",
   "execution_count": 8,
   "metadata": {},
   "outputs": [],
   "source": [
    "def shapeimages9x9(lines):\n",
    "    img9x9=OrderedDict()\n",
    "    for key in lines.keys():\n",
    "        counter=1\n",
    "        imgs=[]\n",
    "        img=[]\n",
    "        for line in lines[key]:\n",
    "            if counter%9==0:\n",
    "                img.extend(line)\n",
    "                imgs.append(img)\n",
    "                img=[]\n",
    "            else:\n",
    "                img.extend(line)\n",
    "            counter=counter+1\n",
    "        img9x9[key]=imgs \n",
    "    return img9x9\n",
    "\n",
    "def shapeimages3x4(lines):\n",
    "    img3x4=OrderedDict()\n",
    "    for key in lines.keys():\n",
    "        counter=1\n",
    "        imgs=[]\n",
    "        img=[]\n",
    "        for line in lines[key]:\n",
    "            if counter%3==0:\n",
    "                img.extend(line)\n",
    "                imgs.append(img)\n",
    "                img=[]\n",
    "            else:\n",
    "                img.extend(line)\n",
    "            counter=counter+1\n",
    "        img3x4[key]=imgs \n",
    "    return img3x4\n"
   ]
  },
  {
   "cell_type": "code",
   "execution_count": 9,
   "metadata": {},
   "outputs": [],
   "source": [
    "img9x9 = shapeimages9x9(lines9x9)\n",
    "img3x4 = shapeimages3x4(lines3x4)"
   ]
  },
  {
   "cell_type": "markdown",
   "metadata": {},
   "source": [
    "#### Plotting img"
   ]
  },
  {
   "cell_type": "code",
   "execution_count": 10,
   "metadata": {},
   "outputs": [
    {
     "data": {
      "image/png": "[encoded data removed]",
      "text/plain": [
       "<matplotlib.figure.Figure at 0x7f99e463dd50>"
      ]
     },
     "metadata": {},
     "output_type": "display_data"
    }
   ],
   "source": [
    "plt.imshow(np.array(img9x9['pi-9GeV.txt'][0]).reshape((9,9)))\n",
    "plt.show()"
   ]
  },
  {
   "cell_type": "code",
   "execution_count": 11,
   "metadata": {},
   "outputs": [],
   "source": [
    "#image A must be 3x4 flattened\n",
    "def ImgMask3x3To9x9(A):\n",
    "    B=np.zeros(81)\n",
    "    #row 1\n",
    "    B[0]=A[0]/6.0\n",
    "    B[1]=A[0]/6.0\n",
    "    B[2]=A[1]/9.0\n",
    "    B[3]=A[1]/9.0\n",
    "    B[4]=A[1]/9.0\n",
    "    B[5]=A[2]/9.0\n",
    "    B[6]=A[2]/9.0\n",
    "    B[7]=A[2]/9.0\n",
    "    B[8]=A[3]/3.0\n",
    "    \n",
    "    #row 2\n",
    "    B[9] =A[0]/6.0\n",
    "    B[10]=A[0]/6.0\n",
    "    B[11]=A[1]/9.0\n",
    "    B[12]=A[1]/9.0\n",
    "    B[13]=A[1]/9.0\n",
    "    B[14]=A[2]/9.0\n",
    "    B[15]=A[2]/9.0\n",
    "    B[16]=A[2]/9.0\n",
    "    B[17]=A[3]/3.0\n",
    "\n",
    "    #row 3\n",
    "    B[18]=A[0]/6.0\n",
    "    B[19]=A[0]/6.0\n",
    "    B[20]=A[1]/9.0\n",
    "    B[21]=A[1]/9.0\n",
    "    B[22]=A[1]/9.0\n",
    "    B[23]=A[2]/9.0\n",
    "    B[24]=A[2]/9.0\n",
    "    B[25]=A[2]/9.0\n",
    "    B[26]=A[3]/3.0\n",
    "\n",
    "    #row 4\n",
    "    B[27]=A[4]/6.0\n",
    "    B[28]=A[4]/6.0\n",
    "    B[29]=A[5]/9.0\n",
    "    B[30]=A[5]/9.0\n",
    "    B[31]=A[5]/9.0\n",
    "    B[32]=A[6]/9.0\n",
    "    B[33]=A[6]/9.0\n",
    "    B[34]=A[6]/9.0\n",
    "    B[35]=A[7]/3.0\n",
    "\n",
    "    #row 5\n",
    "    B[36]=A[4]/6.0\n",
    "    B[37]=A[4]/6.0\n",
    "    B[38]=A[5]/9.0\n",
    "    B[39]=A[5]/9.0\n",
    "    B[40]=A[5]/9.0\n",
    "    B[41]=A[6]/9.0\n",
    "    B[42]=A[6]/9.0\n",
    "    B[43]=A[6]/9.0\n",
    "    B[44]=A[7]/3.0\n",
    "    \n",
    "    #row 6\n",
    "    B[45]=A[4]/6.0\n",
    "    B[46]=A[4]/6.0\n",
    "    B[47]=A[5]/9.0\n",
    "    B[48]=A[5]/9.0\n",
    "    B[49]=A[5]/9.0\n",
    "    B[50]=A[6]/9.0\n",
    "    B[51]=A[6]/9.0\n",
    "    B[52]=A[6]/9.0\n",
    "    B[53]=A[7]/3.0\n",
    "\n",
    "    #row 7\n",
    "    B[54]=A[8]/6.0\n",
    "    B[55]=A[8]/6.0\n",
    "    B[56]=A[9]/9.0\n",
    "    B[57]=A[9]/9.0\n",
    "    B[58]=A[9]/9.0\n",
    "    B[59]=A[10]/9.0\n",
    "    B[60]=A[10]/9.0\n",
    "    B[61]=A[10]/9.0\n",
    "    B[62]=A[11]/3.0\n",
    "    \n",
    "    #row 8\n",
    "    B[63]=A[8]/6.0\n",
    "    B[64]=A[8]/6.0\n",
    "    B[65]=A[9]/9.0\n",
    "    B[66]=A[9]/9.0\n",
    "    B[67]=A[9]/9.0\n",
    "    B[68]=A[10]/9.0\n",
    "    B[69]=A[10]/9.0\n",
    "    B[70]=A[10]/9.0\n",
    "    B[71]=A[11]/3.0\n",
    "\n",
    "    #row 9\n",
    "    B[72]=A[8]/6.0\n",
    "    B[73]=A[8]/6.0\n",
    "    B[74]=A[9]/9.0\n",
    "    B[75]=A[9]/9.0\n",
    "    B[76]=A[9]/9.0\n",
    "    B[77]=A[10]/9.0\n",
    "    B[78]=A[10]/9.0\n",
    "    B[79]=A[10]/9.0\n",
    "    B[80]=A[11]/3.0\n",
    "    return B\n"
   ]
  },
  {
   "cell_type": "code",
   "execution_count": 12,
   "metadata": {},
   "outputs": [
    {
     "name": "stdout",
     "output_type": "stream",
     "text": [
      "processing 3x4 to 9x9 pi-2GeV.txt\n",
      "processing 3x4 to 9x9 pi-3GeV.txt\n",
      "processing 3x4 to 9x9 pi-4GeV.txt\n",
      "processing 3x4 to 9x9 pi-5GeV.txt\n",
      "processing 3x4 to 9x9 pi-6GeV.txt\n",
      "processing 3x4 to 9x9 pi-7GeV.txt\n",
      "processing 3x4 to 9x9 pi-8GeV.txt\n",
      "processing 3x4 to 9x9 pi-9GeV.txt\n"
     ]
    }
   ],
   "source": [
    "img9x9_2=OrderedDict()\n",
    "for img in img3x4:\n",
    "    print(\"processing 3x4 to 9x9 %s\"%(img))\n",
    "    imgs=[]\n",
    "    for i in img3x4[img]:\n",
    "        imgs.append(ImgMask3x3To9x9(i))\n",
    "    img9x9_2[img]=imgs"
   ]
  },
  {
   "cell_type": "markdown",
   "metadata": {},
   "source": [
    "# Printing shapes and events\n",
    "shapes for all 9x9 images and 4x3 extended to 9x9\n",
    "and the number of events"
   ]
  },
  {
   "cell_type": "code",
   "execution_count": 13,
   "metadata": {},
   "outputs": [
    {
     "data": {
      "text/plain": [
       "['pi-2GeV.txt',\n",
       " 'pi-3GeV.txt',\n",
       " 'pi-4GeV.txt',\n",
       " 'pi-5GeV.txt',\n",
       " 'pi-6GeV.txt',\n",
       " 'pi-7GeV.txt',\n",
       " 'pi-8GeV.txt',\n",
       " 'pi-9GeV.txt']"
      ]
     },
     "execution_count": 13,
     "metadata": {},
     "output_type": "execute_result"
    }
   ],
   "source": [
    "img9x9.keys()\n"
   ]
  },
  {
   "cell_type": "code",
   "execution_count": 14,
   "metadata": {},
   "outputs": [
    {
     "name": "stdout",
     "output_type": "stream",
     "text": [
      "original 9x9 images and file\n",
      "file pi-2GeV.txt \n",
      "shape \n",
      "(10394, 81)\n",
      "file pi-3GeV.txt \n",
      "shape \n",
      "(24128, 81)\n",
      "file pi-4GeV.txt \n",
      "shape \n",
      "(29266, 81)\n",
      "file pi-5GeV.txt \n",
      "shape \n",
      "(40083, 81)\n",
      "file pi-6GeV.txt \n",
      "shape \n",
      "(39844, 81)\n",
      "file pi-7GeV.txt \n",
      "shape \n",
      "(36088, 81)\n",
      "file pi-8GeV.txt \n",
      "shape \n",
      "(19550, 81)\n",
      "file pi-9GeV.txt \n",
      "shape \n",
      "(28813, 81)\n",
      "new images 9x9 from 3x4 and file\n",
      "file pi-2GeV.txt \n",
      "shape \n",
      "(10394, 81)\n",
      "file pi-3GeV.txt \n",
      "shape \n",
      "(24128, 81)\n",
      "file pi-4GeV.txt \n",
      "shape \n",
      "(29266, 81)\n",
      "file pi-5GeV.txt \n",
      "shape \n",
      "(40083, 81)\n",
      "file pi-6GeV.txt \n",
      "shape \n",
      "(39844, 81)\n",
      "file pi-7GeV.txt \n",
      "shape \n",
      "(36088, 81)\n",
      "file pi-8GeV.txt \n",
      "shape \n",
      "(19550, 81)\n",
      "file pi-9GeV.txt \n",
      "shape \n",
      "(28813, 81)\n"
     ]
    }
   ],
   "source": [
    "print(\"original 9x9 images and file\")\n",
    "for i in img9x9:\n",
    "    print(\"file %s \\nshape \"%(i))\n",
    "    print(np.array(img9x9[i]).shape)\n",
    "    \n",
    "print(\"new images 9x9 from 3x4 and file\")\n",
    "for i in img9x9_2:\n",
    "    print(\"file %s \\nshape \"%(i))\n",
    "    print(np.array(img9x9_2[i]).shape)    "
   ]
  },
  {
   "cell_type": "markdown",
   "metadata": {},
   "source": [
    "# Saving Train/Test for original 9x9 images"
   ]
  },
  {
   "cell_type": "code",
   "execution_count": 15,
   "metadata": {},
   "outputs": [
    {
     "name": "stdout",
     "output_type": "stream",
     "text": [
      "proccesing pi-2GeV.txt taking 8000 event to train and 2394 to test\n",
      "(10394, 81)\n",
      "(10394, 81)\n",
      "(10394, 81)\n",
      "(10394, 162)\n",
      "proccesing pi-3GeV.txt taking 8000 event to train and 2394 to test\n",
      "(24128, 81)\n",
      "(24128, 81)\n",
      "(24128, 81)\n",
      "(24128, 162)\n",
      "proccesing pi-4GeV.txt taking 8000 event to train and 2394 to test\n",
      "(29266, 81)\n",
      "(29266, 81)\n",
      "(29266, 81)\n",
      "(29266, 162)\n",
      "proccesing pi-5GeV.txt taking 8000 event to train and 2394 to test\n",
      "(40083, 81)\n",
      "(40083, 81)\n",
      "(40083, 81)\n",
      "(40083, 162)\n",
      "proccesing pi-6GeV.txt taking 8000 event to train and 2394 to test\n",
      "(39844, 81)\n",
      "(39844, 81)\n",
      "(39844, 81)\n",
      "(39844, 162)\n",
      "proccesing pi-7GeV.txt taking 8000 event to train and 2394 to test\n",
      "(36088, 81)\n",
      "(36088, 81)\n",
      "(36088, 81)\n",
      "(36088, 162)\n",
      "proccesing pi-8GeV.txt taking 8000 event to train and 2394 to test\n",
      "(19550, 81)\n",
      "(19550, 81)\n",
      "(19550, 81)\n",
      "(19550, 162)\n",
      "proccesing pi-9GeV.txt taking 8000 event to train and 2394 to test\n",
      "(28813, 81)\n",
      "(28813, 81)\n",
      "(28813, 81)\n",
      "(28813, 162)\n"
     ]
    }
   ],
   "source": [
    "X_train = []\n",
    "X_train_2ch = [] #two channels data\n",
    "X_test = []\n",
    "X_test_2ch = [] #two channels data\n",
    "X_target = []\n",
    "for i in img9x9:\n",
    "    #ntest = np.array(img9x9[i]).shape[0] - 8000 \n",
    "    ntest=2394\n",
    "    print(\"proccesing %s taking 8000 event to train and %d to test\"%(i,ntest))\n",
    "    print(np.array(img9x9[i]).shape)\n",
    "    imgs1=np.array(img9x9[i])\n",
    "    imgs2=np.array(img9x9_2[i])\n",
    "    print(imgs1.shape)\n",
    "    print(imgs2.shape)\n",
    "    imgs=[]\n",
    "    imgs2ch=[]\n",
    "    for index in range(imgs1.shape[0]):\n",
    "        img2ch=np.dstack((imgs1[index],imgs2[index])).reshape((9,9,2))\n",
    "        imgs2ch.append(img2ch)\n",
    "        img = np.concatenate((imgs1[index],imgs2[index]))\n",
    "        imgs.append(img)\n",
    "\n",
    "    nimg=np.array(imgs)\n",
    "    nimg2ch=np.array(imgs2ch)\n",
    "    \n",
    "    print(nimg.shape)\n",
    "    X_train.extend(nimg[0:8000,:])\n",
    "    X_train_2ch.extend(nimg2ch[0:8000,:,:,:])\n",
    "    X_test.extend(nimg[8000:10394,:])\n",
    "    X_test_2ch.extend(nimg2ch[8000:10394,:,:,:])\n",
    "#['pi-2GeV.txt',\n",
    "# 'pi-3GeV.txt',\n",
    "# 'pi-4GeV.txt',\n",
    "# 'pi-5GeV.txt',\n",
    "# 'pi-6GeV.txt',\n",
    "# 'pi-7GeV.txt',\n",
    "# 'pi-8GeV.txt',\n",
    "# 'pi-9GeV.txt']\n",
    "    for j in [2,3,4,5,6,7,8,9]:\n",
    "        if \"pi-%dGeV.txt\"%(j) == i:\n",
    "            X_target.extend(np.full(8000,j))      \n",
    "        "
   ]
  },
  {
   "cell_type": "code",
   "execution_count": 16,
   "metadata": {},
   "outputs": [
    {
     "name": "stdout",
     "output_type": "stream",
     "text": [
      "(64000, 162)\n",
      "(19152, 162)\n",
      "(64000,)\n",
      "(64000, 9, 9, 2)\n",
      "(19152, 9, 9, 2)\n"
     ]
    }
   ],
   "source": [
    "print(np.array(X_train).shape)\n",
    "print(np.array(X_test).shape)\n",
    "print(np.array(X_target).shape)\n",
    "print(np.array(X_train_2ch).shape)\n",
    "print(np.array(X_test_2ch).shape)"
   ]
  },
  {
   "cell_type": "markdown",
   "metadata": {},
   "source": [
    "### Saving Train/Test for extended 9x9 images from 4x3"
   ]
  },
  {
   "cell_type": "code",
   "execution_count": 17,
   "metadata": {},
   "outputs": [
    {
     "data": {
      "text/plain": [
       "'for i in img9x9_2:\\n    #ntest = np.array(img9x9_2[i]).shape[0] - 6000 \\n    ntest=1374    \\n    print(\"proccesing %s taking 6000 event to train and %d to test\"%(i,ntest))\\n    print(np.array(img9x9_2[i]).shape)\\n    imgs = np.array(img9x9_2[i])\\n    X_train.extend(imgs[0:6000,:])\\n    X_test.extend(imgs[6000:7374,:])\\n    if \"pi-300GeV.txt\" == i:\\n        X_target.extend(np.full(6000,300))\\n    if \"pi-200GeV.txt\" == i:\\n        X_target.extend(np.full(6000,200))       \\n    if \"pi-150GeV.txt\" == i:\\n        X_target.extend(np.full(6000,150))\\n    if \"pi-100GeV.txt\" == i:\\n        X_target.extend(np.full(6000,100))\\n    if \"pi-50GeV.txt\" == i:\\n        X_target.extend(np.full(6000,50))      \\n    if \"pi-30GeV.txt\" == i:\\n        X_target.extend(np.full(6000,30))       \\n    if \"pi-20GeV.txt\" == i:\\n        X_target.extend(np.full(6000,20))       \\n'"
      ]
     },
     "execution_count": 17,
     "metadata": {},
     "output_type": "execute_result"
    }
   ],
   "source": [
    "'''for i in img9x9_2:\n",
    "    #ntest = np.array(img9x9_2[i]).shape[0] - 6000 \n",
    "    ntest=1374    \n",
    "    print(\"proccesing %s taking 6000 event to train and %d to test\"%(i,ntest))\n",
    "    print(np.array(img9x9_2[i]).shape)\n",
    "    imgs = np.array(img9x9_2[i])\n",
    "    X_train.extend(imgs[0:6000,:])\n",
    "    X_test.extend(imgs[6000:7374,:])\n",
    "    if \"pi-300GeV.txt\" == i:\n",
    "        X_target.extend(np.full(6000,300))\n",
    "    if \"pi-200GeV.txt\" == i:\n",
    "        X_target.extend(np.full(6000,200))       \n",
    "    if \"pi-150GeV.txt\" == i:\n",
    "        X_target.extend(np.full(6000,150))\n",
    "    if \"pi-100GeV.txt\" == i:\n",
    "        X_target.extend(np.full(6000,100))\n",
    "    if \"pi-50GeV.txt\" == i:\n",
    "        X_target.extend(np.full(6000,50))      \n",
    "    if \"pi-30GeV.txt\" == i:\n",
    "        X_target.extend(np.full(6000,30))       \n",
    "    if \"pi-20GeV.txt\" == i:\n",
    "        X_target.extend(np.full(6000,20))       \n",
    "'''        "
   ]
  },
  {
   "cell_type": "code",
   "execution_count": 18,
   "metadata": {},
   "outputs": [
    {
     "name": "stdout",
     "output_type": "stream",
     "text": [
      "(64000, 162)\n",
      "(19152, 162)\n",
      "(64000,)\n"
     ]
    }
   ],
   "source": [
    "print(np.array(X_train).shape)\n",
    "print(np.array(X_test).shape)\n",
    "print(np.array(X_target).shape)"
   ]
  },
  {
   "cell_type": "markdown",
   "metadata": {},
   "source": [
    "## Creating a Keras Dense NN Model"
   ]
  },
  {
   "cell_type": "code",
   "execution_count": 19,
   "metadata": {},
   "outputs": [
    {
     "name": "stdout",
     "output_type": "stream",
     "text": [
      "_________________________________________________________________\n",
      "Layer (type)                 Output Shape              Param #   \n",
      "=================================================================\n",
      "dense_1 (Dense)              (None, 256)               41728     \n",
      "_________________________________________________________________\n",
      "dense_2 (Dense)              (None, 1)                 257       \n",
      "=================================================================\n",
      "Total params: 41,985\n",
      "Trainable params: 41,985\n",
      "Non-trainable params: 0\n",
      "_________________________________________________________________\n"
     ]
    }
   ],
   "source": [
    "# create model\n",
    "model = Sequential()\n",
    "model.add(Dense(256, input_dim=162, kernel_initializer='normal', activation='relu'))\n",
    "model.add(Dense(1, kernel_initializer='normal'))\n",
    "# Compile model\n",
    "model.compile(loss='mean_squared_error', optimizer='adam')\n",
    "model.summary()\n",
    "# Compile model\n"
   ]
  },
  {
   "cell_type": "code",
   "execution_count": 20,
   "metadata": {},
   "outputs": [
    {
     "name": "stderr",
     "output_type": "stream",
     "text": [
      "/usr/local/lib/python2.7/dist-packages/keras/models.py:939: UserWarning: The `nb_epoch` argument in `fit` has been renamed `epochs`.\n",
      "  warnings.warn('The `nb_epoch` argument in `fit` '\n"
     ]
    },
    {
     "name": "stdout",
     "output_type": "stream",
     "text": [
      "Epoch 1/10\n",
      "64000/64000 [==============================] - 2s 39us/step - loss: 2.9288\n",
      "Epoch 2/10\n",
      "64000/64000 [==============================] - 2s 37us/step - loss: 2.0397\n",
      "Epoch 3/10\n",
      "64000/64000 [==============================] - 3s 43us/step - loss: 1.9761\n",
      "Epoch 4/10\n",
      "64000/64000 [==============================] - 2s 38us/step - loss: 1.9342\n",
      "Epoch 5/10\n",
      "64000/64000 [==============================] - 2s 37us/step - loss: 1.9039\n",
      "Epoch 6/10\n",
      "64000/64000 [==============================] - 2s 37us/step - loss: 1.8798\n",
      "Epoch 7/10\n",
      "64000/64000 [==============================] - 2s 37us/step - loss: 1.8643\n",
      "Epoch 8/10\n",
      "64000/64000 [==============================] - 2s 37us/step - loss: 1.8518\n",
      "Epoch 9/10\n",
      "64000/64000 [==============================] - 2s 37us/step - loss: 1.8388\n",
      "Epoch 10/10\n",
      "64000/64000 [==============================] - 2s 37us/step - loss: 1.8313\n"
     ]
    },
    {
     "data": {
      "text/plain": [
       "<keras.callbacks.History at 0x7f99e463d750>"
      ]
     },
     "execution_count": 20,
     "metadata": {},
     "output_type": "execute_result"
    },
    {
     "name": "stderr",
     "output_type": "stream",
     "text": [
      "2017-11-29 16:57:25.909279: I tensorflow/core/platform/cpu_feature_guard.cc:137] Your CPU supports instructions that this TensorFlow binary was not compiled to use: SSE4.1 SSE4.2 AVX AVX2 FMA\n"
     ]
    }
   ],
   "source": [
    "model.fit(np.array(X_train),np.array(X_target), nb_epoch=10, verbose=1)"
   ]
  },
  {
   "cell_type": "code",
   "execution_count": 21,
   "metadata": {},
   "outputs": [],
   "source": [
    "pred=model.predict(np.array(X_test))"
   ]
  },
  {
   "cell_type": "code",
   "execution_count": 22,
   "metadata": {},
   "outputs": [
    {
     "data": {
      "text/plain": [
       "array([[ 2.78925586],\n",
       "       [ 2.4838891 ],\n",
       "       [ 3.20931315],\n",
       "       ..., \n",
       "       [ 7.96459389],\n",
       "       [ 6.73354435],\n",
       "       [ 8.3614254 ]], dtype=float32)"
      ]
     },
     "execution_count": 22,
     "metadata": {},
     "output_type": "execute_result"
    }
   ],
   "source": [
    "pred"
   ]
  },
  {
   "cell_type": "code",
   "execution_count": 23,
   "metadata": {},
   "outputs": [],
   "source": [
    "hist=TH1F(\"h1\",\"pions\",100,0,10)\n",
    "for i in pred:\n",
    "    hist.Fill(i)\n"
   ]
  },
  {
   "cell_type": "code",
   "execution_count": 24,
   "metadata": {},
   "outputs": [
    {
     "data": {
      "image/png": "[encoded data removed]",
      "text/plain": [
       "<IPython.core.display.Image object>"
      ]
     },
     "metadata": {},
     "output_type": "display_data"
    }
   ],
   "source": [
    "c=TCanvas()\n",
    "hist.Draw()\n",
    "c.Draw()"
   ]
  },
  {
   "cell_type": "code",
   "execution_count": 25,
   "metadata": {},
   "outputs": [],
   "source": [
    "hists=[]\n",
    "counter=0\n",
    "for i in [2,3,4,5,6,7,8,9]:\n",
    "    pred=model.predict(np.array(X_test[counter:counter+2394]))\n",
    "    counter+=2394\n",
    "    hist=TH1F(\"h%d\"%(i),\"pions %d\"%(i),100,0,10)\n",
    "    for i in pred:\n",
    "        hist.Fill(i)\n",
    "    hists.append(hist)"
   ]
  },
  {
   "cell_type": "code",
   "execution_count": 26,
   "metadata": {},
   "outputs": [
    {
     "name": "stdout",
     "output_type": "stream",
     "text": [
      " FCN=279.489 FROM MIGRAD    STATUS=CONVERGED      77 CALLS          78 TOTAL\n",
      "                     EDM=2.02914e-08    STRATEGY= 1      ERROR MATRIX ACCURATE \n",
      "  EXT PARAMETER                                   STEP         FIRST   \n",
      "  NO.   NAME      VALUE            ERROR          SIZE      DERIVATIVE \n",
      "   1  Constant     1.72574e+02   5.18338e+00   3.12913e-02   7.78494e-06\n",
      "   2  Mean         3.07740e+00   1.39517e-02   8.67441e-05   6.51272e-03\n",
      "   3  Sigma        4.71671e-01   9.72821e-03   3.08438e-05   2.57738e-02\n"
     ]
    },
    {
     "data": {
      "image/png": "[encoded data removed]",
      "text/plain": [
       "<IPython.core.display.Image object>"
      ]
     },
     "metadata": {},
     "output_type": "display_data"
    }
   ],
   "source": [
    "x1=[0,0,0,0,0,0,0,0]\n",
    "y1=[0,0,0,0,0,0,0,0]\n",
    "gStyle.SetOptFit()\n",
    "c=TCanvas()\n",
    "hists[0].Draw()\n",
    "fresults=hists[0].Fit(\"gaus\",\"\",\"\",1,5);\n",
    "#fit.Fit(\"gaus\",\"\",\"\",78,125)\n",
    "#fit = hist.GetFunction(\"gaus\")\n",
    "#Mean = fit.GetParameter(1)\n",
    "#Sigma = fit.GetParameter(2)\n",
    "#print(\"Mean = %f Sigma = %f \"%(Mean,Sigma))\n",
    "\n",
    "c.Draw()\n",
    "x1[0]=(1.07529e+00/2.88386e+00)\n",
    "y1[0]=(1.0/sqrt(2.0))"
   ]
  },
  {
   "cell_type": "code",
   "execution_count": 27,
   "metadata": {},
   "outputs": [
    {
     "name": "stdout",
     "output_type": "stream",
     "text": [
      " FCN=268.812 FROM MIGRAD    STATUS=CONVERGED      64 CALLS          65 TOTAL\n",
      "                     EDM=1.73226e-07    STRATEGY= 1      ERROR MATRIX ACCURATE \n",
      "  EXT PARAMETER                                   STEP         FIRST   \n",
      "  NO.   NAME      VALUE            ERROR          SIZE      DERIVATIVE \n",
      "   1  Constant     1.07824e+02   3.20494e+00   1.98374e-02  -1.16078e-04\n",
      "   2  Mean         3.72747e+00   2.26500e-02   1.38166e-04  -1.51435e-02\n",
      "   3  Sigma        7.13106e-01   1.48766e-02   3.43380e-05  -6.88781e-02\n"
     ]
    },
    {
     "data": {
      "image/png": "[encoded data removed]",
      "text/plain": [
       "<IPython.core.display.Image object>"
      ]
     },
     "metadata": {},
     "output_type": "display_data"
    }
   ],
   "source": [
    "gStyle.SetOptFit()\n",
    "c=TCanvas()\n",
    "hists[1].Draw()\n",
    "fresults=hists[1].Fit(\"gaus\",\"\",\"\",1,5.5)\n",
    "#fit.Fit(\"gaus\",\"\",\"\",78,125)\n",
    "#fit = hist.GetFunction(\"gaus\")\n",
    "#Mean = fit.GetParameter(1)\n",
    "#Sigma = fit.GetParameter(2)\n",
    "#print(\"Mean = %f Sigma = %f \"%(Mean,Sigma))\n",
    "\n",
    "c.Draw()\n",
    "x1[1]=(1.21204e+00/3.50911e+00)\n",
    "y1[1]=(1.0/sqrt(3.0))"
   ]
  },
  {
   "cell_type": "code",
   "execution_count": 28,
   "metadata": {},
   "outputs": [
    {
     "name": "stdout",
     "output_type": "stream",
     "text": [
      "x= 0.340646 y=0.500000\n",
      " FCN=152.971 FROM MIGRAD    STATUS=CONVERGED      58 CALLS          59 TOTAL\n",
      "                     EDM=6.22976e-08    STRATEGY= 1      ERROR MATRIX ACCURATE \n",
      "  EXT PARAMETER                                   STEP         FIRST   \n",
      "  NO.   NAME      VALUE            ERROR          SIZE      DERIVATIVE \n",
      "   1  Constant     7.71887e+01   2.07744e+00   1.01103e-02   7.72858e-05\n",
      "   2  Mean         4.61975e+00   3.09723e-02   1.63144e-04  -1.19916e-02\n",
      "   3  Sigma        1.13909e+00   2.21364e-02   2.90181e-05   3.14321e-02\n"
     ]
    },
    {
     "data": {
      "image/png": "[encoded data removed]",
      "text/plain": [
       "<IPython.core.display.Image object>"
      ]
     },
     "metadata": {},
     "output_type": "display_data"
    }
   ],
   "source": [
    "gStyle.SetOptFit()\n",
    "c=TCanvas()\n",
    "hists[2].Draw()\n",
    "fresults=hists[2].Fit(\"gaus\",\"\",\"\",1.5,7)\n",
    "#fit.Fit(\"gaus\",\"\",\"\",78,125)\n",
    "#fit = hist.GetFunction(\"gaus\")\n",
    "#Mean = fit.GetParameter(1)\n",
    "#Sigma = fit.GetParameter(2)\n",
    "#print(\"Mean = %f Sigma = %f \"%(Mean,Sigma))\n",
    "\n",
    "c.Draw()\n",
    "x1[2]=(1.47497e+00/4.32992e+00)\n",
    "y1[2]=(1.0/sqrt(4.0))\n",
    "print(\"x= %f y=%f\"%(x1[2],y1[2]))"
   ]
  },
  {
   "cell_type": "code",
   "execution_count": 29,
   "metadata": {},
   "outputs": [
    {
     "name": "stdout",
     "output_type": "stream",
     "text": [
      " FCN=73.5516 FROM MIGRAD    STATUS=CONVERGED      61 CALLS          62 TOTAL\n",
      "                     EDM=1.56776e-07    STRATEGY= 1      ERROR MATRIX ACCURATE \n",
      "  EXT PARAMETER                                   STEP         FIRST   \n",
      "  NO.   NAME      VALUE            ERROR          SIZE      DERIVATIVE \n",
      "   1  Constant     6.65670e+01   1.71856e+00   5.87555e-03  -1.97308e-04\n",
      "   2  Mean         5.59982e+00   3.79550e-02   1.48075e-04  -1.54339e-03\n",
      "   3  Sigma        1.45530e+00   3.04391e-02   2.40558e-05   4.08620e-02\n"
     ]
    },
    {
     "data": {
      "image/png": "[encoded data removed]",
      "text/plain": [
       "<IPython.core.display.Image object>"
      ]
     },
     "metadata": {},
     "output_type": "display_data"
    }
   ],
   "source": [
    "gStyle.SetOptFit()\n",
    "c=TCanvas()\n",
    "hists[3].Draw()\n",
    "fresults=hists[3].Fit(\"gaus\",\"\",\"\",2,8)\n",
    "#fit.Fit(\"gaus\",\"\",\"\",78,125)\n",
    "#fit = hist.GetFunction(\"gaus\")\n",
    "#Mean = fit.GetParameter(1)\n",
    "#Sigma = fit.GetParameter(2)\n",
    "#print(\"Mean = %f Sigma = %f \"%(Mean,Sigma))\n",
    "\n",
    "c.Draw()\n",
    "x1[3]=(1.58605e+00/5.36596e+00)\n",
    "y1[3]=(1.0/sqrt(5.0))"
   ]
  },
  {
   "cell_type": "code",
   "execution_count": 30,
   "metadata": {},
   "outputs": [
    {
     "name": "stdout",
     "output_type": "stream",
     "text": [
      " FCN=157.923 FROM MIGRAD    STATUS=CONVERGED      69 CALLS          70 TOTAL\n",
      "                     EDM=1.81974e-09    STRATEGY= 1      ERROR MATRIX ACCURATE \n",
      "  EXT PARAMETER                                   STEP         FIRST   \n",
      "  NO.   NAME      VALUE            ERROR          SIZE      DERIVATIVE \n",
      "   1  Constant     8.15882e+01   2.20843e+00   1.06923e-02   1.32903e-05\n",
      "   2  Mean         6.22966e+00   2.73266e-02   1.46339e-04  -2.10746e-03\n",
      "   3  Sigma        1.08612e+00   1.90291e-02   2.50484e-05   2.59352e-03\n"
     ]
    },
    {
     "data": {
      "image/png": "[encoded data removed]",
      "text/plain": [
       "<IPython.core.display.Image object>"
      ]
     },
     "metadata": {},
     "output_type": "display_data"
    }
   ],
   "source": [
    "gStyle.SetOptFit()\n",
    "c=TCanvas()\n",
    "hists[4].Draw()\n",
    "fresults=hists[4].Fit(\"gaus\",\"\",\"\",3,9)\n",
    "#fit.Fit(\"gaus\",\"\",\"\",78,125)\n",
    "#fit = hist.GetFunction(\"gaus\")\n",
    "#Mean = fit.GetParameter(1)\n",
    "#Sigma = fit.GetParameter(2)\n",
    "#print(\"Mean = %f Sigma = %f \"%(Mean,Sigma))\n",
    "\n",
    "c.Draw()\n",
    "x1[4]=(1.37130e+00/6.12069e+00)\n",
    "y1[4]=(1.0/sqrt(6.0))"
   ]
  },
  {
   "cell_type": "code",
   "execution_count": 31,
   "metadata": {},
   "outputs": [
    {
     "name": "stdout",
     "output_type": "stream",
     "text": [
      " FCN=171.367 FROM MIGRAD    STATUS=CONVERGED      67 CALLS          68 TOTAL\n",
      "                     EDM=3.09891e-07    STRATEGY= 1      ERROR MATRIX ACCURATE \n",
      "  EXT PARAMETER                                   STEP         FIRST   \n",
      "  NO.   NAME      VALUE            ERROR          SIZE      DERIVATIVE \n",
      "   1  Constant     8.77585e+01   2.52091e+00   1.25179e-02  -7.48008e-05\n",
      "   2  Mean         7.03170e+00   2.80258e-02   1.43429e-04  -1.88801e-03\n",
      "   3  Sigma        9.38697e-01   1.99828e-02   3.05355e-05  -1.28902e-01\n"
     ]
    },
    {
     "data": {
      "image/png": "[encoded data removed]",
      "text/plain": [
       "<IPython.core.display.Image object>"
      ]
     },
     "metadata": {},
     "output_type": "display_data"
    }
   ],
   "source": [
    "gStyle.SetOptFit()\n",
    "c=TCanvas()\n",
    "hists[5].Draw()\n",
    "fresults=hists[5].Fit(\"gaus\",\"\",\"\",5,9.5)\n",
    "#fit.Fit(\"gaus\",\"\",\"\",78,125)\n",
    "#fit = hist.GetFunction(\"gaus\")\n",
    "#Mean = fit.GetParameter(1)\n",
    "#Sigma = fit.GetParameter(2)\n",
    "#print(\"Mean = %f Sigma = %f \"%(Mean,Sigma))\n",
    "\n",
    "c.Draw()\n",
    "x1[5]=(1.13557e+00/6.87539e+00)\n",
    "y1[5]=(1.0/sqrt(7.0))"
   ]
  },
  {
   "cell_type": "code",
   "execution_count": 32,
   "metadata": {},
   "outputs": [
    {
     "name": "stdout",
     "output_type": "stream",
     "text": [
      " FCN=92.8916 FROM MIGRAD    STATUS=CONVERGED      66 CALLS          67 TOTAL\n",
      "                     EDM=1.29001e-10    STRATEGY= 1      ERROR MATRIX ACCURATE \n",
      "  EXT PARAMETER                                   STEP         FIRST   \n",
      "  NO.   NAME      VALUE            ERROR          SIZE      DERIVATIVE \n",
      "   1  Constant     1.03441e+02   2.89373e+00   1.06317e-02   1.66152e-06\n",
      "   2  Mean         7.48239e+00   2.08837e-02   9.03539e-05  -5.97858e-04\n",
      "   3  Sigma        8.30566e-01   1.64191e-02   2.31871e-05  -1.89863e-03\n"
     ]
    },
    {
     "data": {
      "image/png": "[encoded data removed]",
      "text/plain": [
       "<IPython.core.display.Image object>"
      ]
     },
     "metadata": {},
     "output_type": "display_data"
    }
   ],
   "source": [
    "gStyle.SetOptFit()\n",
    "c=TCanvas()\n",
    "hists[6].Draw()\n",
    "fresults=hists[6].Fit(\"gaus\",\"\",\"\",5.5,9.5)\n",
    "#fit.Fit(\"gaus\",\"\",\"\",78,125)\n",
    "#fit = hist.GetFunction(\"gaus\")\n",
    "#Mean = fit.GetParameter(1)\n",
    "#Sigma = fit.GetParameter(2)\n",
    "#print(\"Mean = %f Sigma = %f \"%(Mean,Sigma))\n",
    "\n",
    "c.Draw()\n",
    "x1[6]=(1.05794e+00/7.25803e+00)\n",
    "y1[6]=(1.0/sqrt(8.0))"
   ]
  },
  {
   "cell_type": "code",
   "execution_count": 33,
   "metadata": {},
   "outputs": [
    {
     "name": "stdout",
     "output_type": "stream",
     "text": [
      " FCN=66.2695 FROM MIGRAD    STATUS=CONVERGED      68 CALLS          69 TOTAL\n",
      "                     EDM=4.73907e-08    STRATEGY= 1      ERROR MATRIX ACCURATE \n",
      "  EXT PARAMETER                                   STEP         FIRST   \n",
      "  NO.   NAME      VALUE            ERROR          SIZE      DERIVATIVE \n",
      "   1  Constant     1.08181e+02   3.14406e+00   9.16463e-03  -4.65857e-05\n",
      "   2  Mean         7.79384e+00   1.94315e-02   7.70108e-05   1.74262e-03\n",
      "   3  Sigma        8.45256e-01   1.93268e-02   2.27603e-05   2.45175e-02\n"
     ]
    },
    {
     "data": {
      "image/png": "[encoded data removed]",
      "text/plain": [
       "<IPython.core.display.Image object>"
      ]
     },
     "metadata": {},
     "output_type": "display_data"
    }
   ],
   "source": [
    "gStyle.SetOptFit()\n",
    "c=TCanvas()\n",
    "hists[7].Draw()\n",
    "fresults=hists[7].Fit(\"gaus\",\"\",\"\",5.5,9.5)\n",
    "#fit.Fit(\"gaus\",\"\",\"\",78,125)\n",
    "#fit = hist.GetFunction(\"gaus\")\n",
    "#Mean = fit.GetParameter(1)\n",
    "#Sigma = fit.GetParameter(2)\n",
    "#print(\"Mean = %f Sigma = %f \"%(Mean,Sigma))\n",
    "\n",
    "c.Draw()\n",
    "x1[7]=(1.05547e+00/7.51527e+00)\n",
    "y1[7]=(1.0/sqrt(9.0))"
   ]
  },
  {
   "cell_type": "code",
   "execution_count": 34,
   "metadata": {},
   "outputs": [],
   "source": [
    "gr1=TGraph(6)"
   ]
  },
  {
   "cell_type": "code",
   "execution_count": 71,
   "metadata": {},
   "outputs": [
    {
     "name": "stdout",
     "output_type": "stream",
     "text": [
      "gr1.SetPoint(0,0.500000,0.340646)\n",
      "gr1.SetPoint(1,0.447214,0.295576)\n",
      "gr1.SetPoint(2,0.408248,0.224043)\n",
      "gr1.SetPoint(3,0.377964,0.165164)\n",
      "gr1.SetPoint(4,0.353553,0.145761)\n",
      "gr1.SetPoint(5,0.333333,0.140443)\n"
     ]
    }
   ],
   "source": [
    "for i in range(2,8,1):\n",
    "    print(\"gr1.SetPoint(%d,%f,%f)\"%(i-2,y1[i],x1[i]))\n",
    "    #gr1.SetPoint (i,y1[i],x1[i])"
   ]
  },
  {
   "cell_type": "code",
   "execution_count": 36,
   "metadata": {},
   "outputs": [
    {
     "data": {
      "image/png": "[encoded data removed]",
      "text/plain": [
       "<IPython.core.display.Image object>"
      ]
     },
     "metadata": {},
     "output_type": "display_data"
    }
   ],
   "source": [
    "c=TCanvas()\n",
    "gr1.GetYaxis().SetRangeUser(0.0,0.5);\n",
    "#gr.GetXaxis().SetRange(18,19);\n",
    "gr1.Draw(\"A*\")\n",
    "c.Draw()"
   ]
  },
  {
   "cell_type": "code",
   "execution_count": null,
   "metadata": {},
   "outputs": [],
   "source": []
  },
  {
   "cell_type": "code",
   "execution_count": 37,
   "metadata": {},
   "outputs": [],
   "source": [
    "f = TFile( 'reg1train.root', 'recreate' )\n",
    "reg = TTree(\"reg\",\"pions\")"
   ]
  },
  {
   "cell_type": "code",
   "execution_count": 38,
   "metadata": {},
   "outputs": [
    {
     "name": "stdout",
     "output_type": "stream",
     "text": [
      "162\n"
     ]
    }
   ],
   "source": [
    "train = array( 'f', np.array(X_train).shape[1]*[ 0.] )\n",
    "target = array('i',[0])\n",
    "print(np.array(X_train).shape[1])"
   ]
  },
  {
   "cell_type": "code",
   "execution_count": 39,
   "metadata": {},
   "outputs": [
    {
     "data": {
      "text/plain": [
       "<ROOT.TBranch object (\"var\") at 0x55bae733c850>"
      ]
     },
     "execution_count": 39,
     "metadata": {},
     "output_type": "execute_result"
    }
   ],
   "source": [
    "reg.Branch( 'target', target, 'target/I' )\n",
    "reg.Branch( 'var', train, 'var[162]/F' )"
   ]
  },
  {
   "cell_type": "code",
   "execution_count": 40,
   "metadata": {},
   "outputs": [],
   "source": [
    "for i in range(np.array(X_train).shape[0]):\n",
    "   target[0] = X_target[i]\n",
    "   for j in range(162):\n",
    "    train[j] = X_train[i][j]\n",
    "   reg.Fill()"
   ]
  },
  {
   "cell_type": "code",
   "execution_count": 41,
   "metadata": {},
   "outputs": [],
   "source": [
    "reg.Write()\n",
    "f.Close()"
   ]
  },
  {
   "cell_type": "markdown",
   "metadata": {},
   "source": [
    "## Creating a Keras CNN Model"
   ]
  },
  {
   "cell_type": "code",
   "execution_count": 42,
   "metadata": {},
   "outputs": [
    {
     "name": "stdout",
     "output_type": "stream",
     "text": [
      "_________________________________________________________________\n",
      "Layer (type)                 Output Shape              Param #   \n",
      "=================================================================\n",
      "conv2d_1 (Conv2D)            (None, 9, 9, 16)          304       \n",
      "_________________________________________________________________\n",
      "conv2d_2 (Conv2D)            (None, 9, 9, 16)          2320      \n",
      "_________________________________________________________________\n",
      "max_pooling2d_1 (MaxPooling2 (None, 4, 4, 16)          0         \n",
      "_________________________________________________________________\n",
      "flatten_1 (Flatten)          (None, 256)               0         \n",
      "_________________________________________________________________\n",
      "dense_3 (Dense)              (None, 256)               65792     \n",
      "_________________________________________________________________\n",
      "dense_4 (Dense)              (None, 1)                 257       \n",
      "=================================================================\n",
      "Total params: 68,673\n",
      "Trainable params: 68,673\n",
      "Non-trainable params: 0\n",
      "_________________________________________________________________\n"
     ]
    }
   ],
   "source": [
    "# create model\n",
    "model = Sequential()\n",
    "model.add(Conv2D(16, activation='relu', kernel_size=3, padding='same', kernel_initializer='TruncatedNormal', input_shape=(9,9,2)))\n",
    "model.add(Conv2D(16, activation='relu', kernel_size=3, padding='same', kernel_initializer='TruncatedNormal'))\n",
    "model.add(MaxPooling2D(pool_size=(2, 2)))\n",
    "model.add(Flatten())\n",
    "model.add(Dense(256, input_dim=162, kernel_initializer='normal', activation='relu'))\n",
    "model.add(Dense(1, kernel_initializer='normal'))\n",
    "# Compile model\n",
    "model.compile(loss='mean_squared_error', optimizer='adam')\n",
    "model.summary()\n",
    "# Compile model"
   ]
  },
  {
   "cell_type": "code",
   "execution_count": 43,
   "metadata": {},
   "outputs": [
    {
     "name": "stdout",
     "output_type": "stream",
     "text": [
      "Epoch 1/25\n",
      "64000/64000 [==============================] - 8s 132us/step - loss: 2.4678\n",
      "Epoch 2/25\n",
      "64000/64000 [==============================] - 8s 121us/step - loss: 2.0277\n",
      "Epoch 3/25\n",
      "64000/64000 [==============================] - 8s 121us/step - loss: 1.9941\n",
      "Epoch 4/25\n",
      "64000/64000 [==============================] - 8s 121us/step - loss: 1.9698\n",
      "Epoch 5/25\n",
      "64000/64000 [==============================] - 8s 126us/step - loss: 1.9259\n",
      "Epoch 6/25\n",
      "64000/64000 [==============================] - 10s 149us/step - loss: 1.9152\n",
      "Epoch 7/25\n",
      "64000/64000 [==============================] - 10s 149us/step - loss: 1.8940\n",
      "Epoch 8/25\n",
      "64000/64000 [==============================] - 9s 134us/step - loss: 1.8797\n",
      "Epoch 9/25\n",
      "64000/64000 [==============================] - 8s 127us/step - loss: 1.8710\n",
      "Epoch 10/25\n",
      "64000/64000 [==============================] - 8s 127us/step - loss: 1.8619\n",
      "Epoch 11/25\n",
      "64000/64000 [==============================] - 8s 129us/step - loss: 1.8489\n",
      "Epoch 12/25\n",
      "64000/64000 [==============================] - 8s 123us/step - loss: 1.8386\n",
      "Epoch 13/25\n",
      "64000/64000 [==============================] - 8s 131us/step - loss: 1.8216\n",
      "Epoch 14/25\n",
      "64000/64000 [==============================] - 8s 129us/step - loss: 1.8140\n",
      "Epoch 15/25\n",
      "64000/64000 [==============================] - 8s 129us/step - loss: 1.8058\n",
      "Epoch 16/25\n",
      "64000/64000 [==============================] - 8s 125us/step - loss: 1.7954\n",
      "Epoch 17/25\n",
      "64000/64000 [==============================] - 9s 139us/step - loss: 1.7821\n",
      "Epoch 18/25\n",
      "64000/64000 [==============================] - 8s 128us/step - loss: 1.7757\n",
      "Epoch 19/25\n",
      "64000/64000 [==============================] - 8s 130us/step - loss: 1.7699\n",
      "Epoch 20/25\n",
      "64000/64000 [==============================] - 8s 130us/step - loss: 1.7598\n",
      "Epoch 21/25\n",
      "64000/64000 [==============================] - 8s 130us/step - loss: 1.7534\n",
      "Epoch 22/25\n",
      "64000/64000 [==============================] - 8s 130us/step - loss: 1.7459\n",
      "Epoch 23/25\n",
      "64000/64000 [==============================] - 8s 132us/step - loss: 1.7287\n",
      "Epoch 24/25\n",
      "64000/64000 [==============================] - 8s 130us/step - loss: 1.7273\n",
      "Epoch 25/25\n",
      "64000/64000 [==============================] - 8s 127us/step - loss: 1.7142\n"
     ]
    },
    {
     "data": {
      "text/plain": [
       "<keras.callbacks.History at 0x7f992fa2f910>"
      ]
     },
     "execution_count": 43,
     "metadata": {},
     "output_type": "execute_result"
    }
   ],
   "source": [
    "model.fit(np.array(X_train_2ch), np.array(X_target),batch_size=25,epochs=25,verbose=1, shuffle=True)"
   ]
  },
  {
   "cell_type": "code",
   "execution_count": 44,
   "metadata": {},
   "outputs": [],
   "source": [
    "pred2ch=model.predict(np.array(X_test_2ch))"
   ]
  },
  {
   "cell_type": "code",
   "execution_count": 45,
   "metadata": {},
   "outputs": [
    {
     "data": {
      "image/png": "[encoded data removed]",
      "text/plain": [
       "<IPython.core.display.Image object>"
      ]
     },
     "metadata": {},
     "output_type": "display_data"
    }
   ],
   "source": [
    "hist=TH1F(\"h11\",\"pions\",100,0,10)\n",
    "for i in pred2ch:\n",
    "    hist.Fill(i)\n",
    "c=TCanvas()\n",
    "hist.Draw()\n",
    "c.Draw()"
   ]
  },
  {
   "cell_type": "code",
   "execution_count": 46,
   "metadata": {},
   "outputs": [],
   "source": [
    "hists=[]\n",
    "counter=0\n",
    "for i in [2,3,4,5,6,7,8,9]:\n",
    "    X_test_2ch\n",
    "    pred=model.predict(np.array(X_test_2ch[counter:counter+2394]))\n",
    "    counter+=2394\n",
    "    hist=TH1F(\"h%d\"%(i),\"pions %d\"%(i),100,0,10)\n",
    "    for i in pred:\n",
    "        hist.Fill(i)\n",
    "    hists.append(hist)"
   ]
  },
  {
   "cell_type": "code",
   "execution_count": 47,
   "metadata": {},
   "outputs": [
    {
     "name": "stdout",
     "output_type": "stream",
     "text": [
      " FCN=225.244 FROM MIGRAD    STATUS=CONVERGED      67 CALLS          68 TOTAL\n",
      "                     EDM=3.56758e-10    STRATEGY= 1      ERROR MATRIX ACCURATE \n",
      "  EXT PARAMETER                                   STEP         FIRST   \n",
      "  NO.   NAME      VALUE            ERROR          SIZE      DERIVATIVE \n",
      "   1  Constant     1.73832e+02   5.50058e+00   3.08226e-02  -3.06446e-06\n",
      "   2  Mean         2.82490e+00   1.48330e-02   7.60085e-05   1.36792e-03\n",
      "   3  Sigma        4.01694e-01   9.61532e-03   3.45191e-05  -5.62009e-03\n"
     ]
    },
    {
     "data": {
      "image/png": "[encoded data removed]",
      "text/plain": [
       "<IPython.core.display.Image object>"
      ]
     },
     "metadata": {},
     "output_type": "display_data"
    }
   ],
   "source": [
    "#vstart = [3, 1 , 0.1 , 0.01]\n",
    "#step[4] = [0.1 , 0.1 , 0.01 , 0.001]\n",
    "#gMinuit.mnparm(0, \"Constant\", [125], [0.01], 0,0,0);\n",
    "#gMinuit->mnparm(1, \"a2\", vstart[1], step[1], 0,0,ierflg);\n",
    "#gMinuit->mnparm(2, \"a3\", vstart[2], step[2], 0,0,ierflg);\n",
    "#gMinuit->mnparm(3, \"a4\", vstart[3], step[3], 0,0,ierflg);\n",
    "\n",
    "x=[0,0,0,0,0,0,0,0]\n",
    "y=[0,0,0,0,0,0,0,0]\n",
    "gStyle.SetOptFit()\n",
    "c=TCanvas()\n",
    "hists[0].Draw()\n",
    "fresults=hists[0].Fit(\"gaus\",\"\",\"\",1.7,3.7);\n",
    "#fit.Fit(\"gaus\",\"\",\"\",78,125)\n",
    "#fit = hist.GetFunction(\"gaus\")\n",
    "#Mean = fit.GetParameter(1)\n",
    "#Sigma = fit.GetParameter(2)\n",
    "#print(\"Mean = %f Sigma = %f \"%(Mean,Sigma))\n",
    "\n",
    "c.Draw()\n",
    "x[0]=(3.77369e-01/2.88235e+00)\n",
    "y[0]=(1.0/sqrt(2.0))"
   ]
  },
  {
   "cell_type": "code",
   "execution_count": 48,
   "metadata": {},
   "outputs": [
    {
     "name": "stdout",
     "output_type": "stream",
     "text": [
      " FCN=163.198 FROM MIGRAD    STATUS=CONVERGED      62 CALLS          63 TOTAL\n",
      "                     EDM=5.42705e-09    STRATEGY= 1      ERROR MATRIX ACCURATE \n",
      "  EXT PARAMETER                                   STEP         FIRST   \n",
      "  NO.   NAME      VALUE            ERROR          SIZE      DERIVATIVE \n",
      "   1  Constant     1.00314e+02   2.95621e+00   1.45697e-02  -1.98365e-05\n",
      "   2  Mean         3.57225e+00   2.44616e-02   1.31796e-04  -1.09595e-03\n",
      "   3  Sigma        7.81718e-01   1.95021e-02   3.87382e-05   7.75816e-03\n"
     ]
    },
    {
     "data": {
      "image/png": "[encoded data removed]",
      "text/plain": [
       "<IPython.core.display.Image object>"
      ]
     },
     "metadata": {},
     "output_type": "display_data"
    }
   ],
   "source": [
    "gStyle.SetOptFit()\n",
    "c=TCanvas()\n",
    "hists[1].Draw()\n",
    "fresults=hists[1].Fit(\"gaus\",\"\",\"\",2,5);\n",
    "c.Draw()\n",
    "x[1]=(7.17308e-01/3.66985e+00)\n",
    "y[1]=(1.0/sqrt(3.0))"
   ]
  },
  {
   "cell_type": "code",
   "execution_count": 49,
   "metadata": {},
   "outputs": [
    {
     "name": "stdout",
     "output_type": "stream",
     "text": [
      " FCN=147.677 FROM MIGRAD    STATUS=CONVERGED      60 CALLS          61 TOTAL\n",
      "                     EDM=1.01618e-06    STRATEGY= 1      ERROR MATRIX ACCURATE \n",
      "  EXT PARAMETER                                   STEP         FIRST   \n",
      "  NO.   NAME      VALUE            ERROR          SIZE      DERIVATIVE \n",
      "   1  Constant     7.84905e+01   2.09788e+00   1.00125e-02  -3.78399e-04\n",
      "   2  Mean         4.53022e+00   2.91841e-02   1.58703e-04  -1.36550e-02\n",
      "   3  Sigma        1.13931e+00   2.17804e-02   2.90294e-05   1.40594e-01\n"
     ]
    },
    {
     "data": {
      "image/png": "[encoded data removed]",
      "text/plain": [
       "<IPython.core.display.Image object>"
      ]
     },
     "metadata": {},
     "output_type": "display_data"
    }
   ],
   "source": [
    "gStyle.SetOptFit()\n",
    "setTDRStyle()\n",
    "c=TCanvas()\n",
    "hists[2].Draw()\n",
    "fresults=hists[2].Fit(\"gaus\",\"\",\"\",2,7);\n",
    "c.Draw()\n",
    "x[2]=(1.18218e+00/4.61462e+00)\n",
    "y[2]=(1.0/sqrt(4.0))"
   ]
  },
  {
   "cell_type": "code",
   "execution_count": 50,
   "metadata": {},
   "outputs": [
    {
     "name": "stdout",
     "output_type": "stream",
     "text": [
      " FCN=76.1695 FROM MIGRAD    STATUS=CONVERGED      67 CALLS          68 TOTAL\n",
      "                     EDM=6.70059e-10    STRATEGY= 1      ERROR MATRIX ACCURATE \n",
      "  EXT PARAMETER                                   STEP         FIRST   \n",
      "  NO.   NAME      VALUE            ERROR          SIZE      DERIVATIVE \n",
      "   1  Constant     6.98262e+01   1.82237e+00   6.26563e-03   1.41940e-05\n",
      "   2  Mean         5.48033e+00   3.20039e-02   1.34772e-04   6.02864e-04\n",
      "   3  Sigma        1.35696e+00   2.62353e-02   2.28614e-05  -1.54563e-03\n"
     ]
    },
    {
     "data": {
      "image/png": "[encoded data removed]",
      "text/plain": [
       "<IPython.core.display.Image object>"
      ]
     },
     "metadata": {},
     "output_type": "display_data"
    }
   ],
   "source": [
    "gStyle.SetOptFit()\n",
    "setTDRStyle()\n",
    "c=TCanvas()\n",
    "hists[3].Draw()\n",
    "fresults=hists[3].Fit(\"gaus\",\"\",\"\",2,8);\n",
    "c.Draw()\n",
    "x[3]=(1.31061e+00/5.14678e+00)\n",
    "y[3]=(1.0/sqrt(5.0))"
   ]
  },
  {
   "cell_type": "code",
   "execution_count": 51,
   "metadata": {},
   "outputs": [
    {
     "name": "stdout",
     "output_type": "stream",
     "text": [
      " FCN=47.0684 FROM MIGRAD    STATUS=CONVERGED      67 CALLS          68 TOTAL\n",
      "                     EDM=9.26198e-07    STRATEGY= 1      ERROR MATRIX ACCURATE \n",
      "  EXT PARAMETER                                   STEP         FIRST   \n",
      "  NO.   NAME      VALUE            ERROR          SIZE      DERIVATIVE \n",
      "   1  Constant     8.36322e+01   2.40599e+00   6.12305e-03   3.66676e-04\n",
      "   2  Mean         6.34281e+00   3.03415e-02   9.89625e-05  -3.59721e-02\n",
      "   3  Sigma        1.11675e+00   3.17810e-02   2.60810e-05   1.43724e-01\n"
     ]
    },
    {
     "data": {
      "image/png": "[encoded data removed]",
      "text/plain": [
       "<IPython.core.display.Image object>"
      ]
     },
     "metadata": {},
     "output_type": "display_data"
    }
   ],
   "source": [
    "gStyle.SetOptFit()\n",
    "setTDRStyle()\n",
    "c=TCanvas()\n",
    "hists[4].Draw()\n",
    "fresults=hists[4].Fit(\"gaus\",\"\",\"\",4,8)\n",
    "c.Draw()\n",
    "x[4]=(1.03069e+00/6.03621e+00)\n",
    "y[4]=(1.0/sqrt(6.0))"
   ]
  },
  {
   "cell_type": "code",
   "execution_count": 52,
   "metadata": {},
   "outputs": [
    {
     "name": "stdout",
     "output_type": "stream",
     "text": [
      " FCN=56.5177 FROM MIGRAD    STATUS=CONVERGED      68 CALLS          69 TOTAL\n",
      "                     EDM=1.41899e-08    STRATEGY= 1      ERROR MATRIX ACCURATE \n",
      "  EXT PARAMETER                                   STEP         FIRST   \n",
      "  NO.   NAME      VALUE            ERROR          SIZE      DERIVATIVE \n",
      "   1  Constant     9.51893e+01   2.77638e+00   7.92307e-03   3.26607e-05\n",
      "   2  Mean         7.01731e+00   2.56190e-02   8.35043e-05  -5.90511e-03\n",
      "   3  Sigma        8.76434e-01   2.22349e-02   2.35758e-05   5.76311e-03\n"
     ]
    },
    {
     "data": {
      "image/png": "[encoded data removed]",
      "text/plain": [
       "<IPython.core.display.Image object>"
      ]
     },
     "metadata": {},
     "output_type": "display_data"
    }
   ],
   "source": [
    "gStyle.SetOptFit()\n",
    "setTDRStyle()\n",
    "c=TCanvas()\n",
    "hists[5].Draw()\n",
    "fresults=hists[5].Fit(\"gaus\",\"\",\"\",5.5,9);\n",
    "c.Draw()\n",
    "x[5]=(9.77725e-01/7.19604e+00)\n",
    "y[5]=(1.0/sqrt(7.0))"
   ]
  },
  {
   "cell_type": "code",
   "execution_count": 53,
   "metadata": {},
   "outputs": [
    {
     "name": "stdout",
     "output_type": "stream",
     "text": [
      " FCN=38.4309 FROM MIGRAD    STATUS=CONVERGED      68 CALLS          69 TOTAL\n",
      "                     EDM=1.05206e-07    STRATEGY= 1      ERROR MATRIX ACCURATE \n",
      "  EXT PARAMETER                                   STEP         FIRST   \n",
      "  NO.   NAME      VALUE            ERROR          SIZE      DERIVATIVE \n",
      "   1  Constant     1.07529e+02   3.18475e+00   7.32580e-03   9.95865e-05\n",
      "   2  Mean         7.44413e+00   2.16589e-02   6.41064e-05  -1.53193e-02\n",
      "   3  Sigma        8.00750e-01   2.17914e-02   2.22593e-05   3.45068e-02\n"
     ]
    },
    {
     "data": {
      "image/png": "[encoded data removed]",
      "text/plain": [
       "<IPython.core.display.Image object>"
      ]
     },
     "metadata": {},
     "output_type": "display_data"
    }
   ],
   "source": [
    "gStyle.SetOptFit()\n",
    "setTDRStyle()\n",
    "c=TCanvas()\n",
    "hists[6].Draw()\n",
    "fresults=hists[6].Fit(\"gaus\",\"\",\"\",6,9);\n",
    "c.Draw()\n",
    "x[6]=(9.44637e-01/7.68449e+00)\n",
    "y[6]=(1.0/sqrt(8.0))"
   ]
  },
  {
   "cell_type": "code",
   "execution_count": 54,
   "metadata": {},
   "outputs": [
    {
     "name": "stdout",
     "output_type": "stream",
     "text": [
      " FCN=55.4056 FROM MIGRAD    STATUS=CONVERGED      66 CALLS          67 TOTAL\n",
      "                     EDM=1.16711e-09    STRATEGY= 1      ERROR MATRIX ACCURATE \n",
      "  EXT PARAMETER                                   STEP         FIRST   \n",
      "  NO.   NAME      VALUE            ERROR          SIZE      DERIVATIVE \n",
      "   1  Constant     1.12707e+02   3.16711e+00   8.85903e-03   8.89834e-06\n",
      "   2  Mean         7.70074e+00   1.79905e-02   6.48855e-05  -1.21118e-03\n",
      "   3  Sigma        7.83418e-01   1.59062e-02   1.91073e-05   7.44630e-03\n"
     ]
    },
    {
     "data": {
      "image/png": "[encoded data removed]",
      "text/plain": [
       "<IPython.core.display.Image object>"
      ]
     },
     "metadata": {},
     "output_type": "display_data"
    }
   ],
   "source": [
    "gStyle.SetOptFit()\n",
    "setTDRStyle()\n",
    "c=TCanvas()\n",
    "hists[7].Draw()\n",
    "fresults=hists[7].Fit(\"gaus\",\"\",\"\",6,11);\n",
    "c.Draw()\n",
    "x[7]=(7.32823e-01/7.35892e+00)\n",
    "y[7]=(1.0/sqrt(9.0))"
   ]
  },
  {
   "cell_type": "code",
   "execution_count": 65,
   "metadata": {},
   "outputs": [],
   "source": [
    "gr2=TGraph(6)"
   ]
  },
  {
   "cell_type": "code",
   "execution_count": 72,
   "metadata": {},
   "outputs": [
    {
     "name": "stdout",
     "output_type": "stream",
     "text": [
      "gr2.SetPoint(0,0.500000,0.256181)\n",
      "gr2.SetPoint(1,0.447214,0.254647)\n",
      "gr2.SetPoint(2,0.408248,0.170751)\n",
      "gr2.SetPoint(3,0.377964,0.135870)\n",
      "gr2.SetPoint(4,0.353553,0.122928)\n",
      "gr2.SetPoint(5,0.333333,0.099583)\n"
     ]
    }
   ],
   "source": [
    "for i in range(2,8,1):\n",
    "    print(\"gr2.SetPoint(%d,%f,%f)\"%(i-2,y[i],x[i]))\n",
    "    #gr2.SetPoint (i,y[i],x[i])"
   ]
  },
  {
   "cell_type": "code",
   "execution_count": 57,
   "metadata": {},
   "outputs": [
    {
     "data": {
      "image/png": "[encoded data removed]",
      "text/plain": [
       "<IPython.core.display.Image object>"
      ]
     },
     "metadata": {},
     "output_type": "display_data"
    }
   ],
   "source": [
    "c=TCanvas()\n",
    "gr2.GetYaxis().SetRangeUser(0.0,0.5);\n",
    "#gr.GetXaxis().SetRange(18,19);\n",
    "gr2.Draw(\"A*\")\n",
    "c.Draw()"
   ]
  },
  {
   "cell_type": "code",
   "execution_count": null,
   "metadata": {},
   "outputs": [],
   "source": [
    "gr3=TGraph(6)\n",
    "gr3.SetPoint(0.053196,0.141421)\n",
    "gr3.SetPoint(0.094222,0.100000)\n",
    "gr3.SetPoint(0.089468,0.081650)\n",
    "gr3.SetPoint(0.061691,0.070711)\n",
    "gr3.SetPoint(0.017715,0.057735)"
   ]
  },
  {
   "cell_type": "code",
   "execution_count": 63,
   "metadata": {},
   "outputs": [
    {
     "ename": "SystemError",
     "evalue": "void TAttLine::SetLineColor(short lcolor) =>\n    problem in C++; program state has been reset",
     "output_type": "error",
     "traceback": [
      "\u001b[0;31m\u001b[0m",
      "\u001b[0;31mSystemError\u001b[0mTraceback (most recent call last)",
      "\u001b[0;32m<ipython-input-63-28ae2d788577>\u001b[0m in \u001b[0;36m<module>\u001b[0;34m()\u001b[0m\n\u001b[1;32m      1\u001b[0m \u001b[0mc2\u001b[0m\u001b[0;34m=\u001b[0m\u001b[0mTCanvas\u001b[0m\u001b[0;34m(\u001b[0m\u001b[0;34m)\u001b[0m\u001b[0;34m\u001b[0m\u001b[0m\n\u001b[0;32m----> 2\u001b[0;31m \u001b[0mgr1\u001b[0m\u001b[0;34m.\u001b[0m\u001b[0mSetLineColor\u001b[0m\u001b[0;34m(\u001b[0m\u001b[0mkBlue\u001b[0m\u001b[0;34m)\u001b[0m\u001b[0;34m\u001b[0m\u001b[0m\n\u001b[0m\u001b[1;32m      3\u001b[0m \u001b[0mgr2\u001b[0m\u001b[0;34m.\u001b[0m\u001b[0mSetLineColor\u001b[0m\u001b[0;34m(\u001b[0m\u001b[0mkRed\u001b[0m\u001b[0;34m)\u001b[0m\u001b[0;34m\u001b[0m\u001b[0m\n\u001b[1;32m      4\u001b[0m \u001b[0mmg\u001b[0m \u001b[0;34m=\u001b[0m\u001b[0mTMultiGraph\u001b[0m\u001b[0;34m(\u001b[0m\u001b[0;34m)\u001b[0m\u001b[0;34m\u001b[0m\u001b[0m\n\u001b[1;32m      5\u001b[0m \u001b[0mmg\u001b[0m\u001b[0;34m.\u001b[0m\u001b[0mAdd\u001b[0m\u001b[0;34m(\u001b[0m\u001b[0mgr1\u001b[0m\u001b[0;34m,\u001b[0m\u001b[0;34m\"p\"\u001b[0m\u001b[0;34m)\u001b[0m\u001b[0;34m\u001b[0m\u001b[0m\n",
      "\u001b[0;31mSystemError\u001b[0m: void TAttLine::SetLineColor(short lcolor) =>\n    problem in C++; program state has been reset"
     ]
    },
    {
     "name": "stderr",
     "output_type": "stream",
     "text": [
      "\n",
      " *** Break *** segmentation violation\n",
      "\n",
      "\n",
      "\n",
      "===========================================================\n",
      "There was a crash.\n",
      "This is the entire stack trace of all threads:\n",
      "===========================================================\n",
      "\n",
      "Thread 26 (Thread 0x7f99b91cf700 (LWP 13799)):\n",
      "#0  0x00007f99ebe78536 in futex_abstimed_wait_cancelable (private=0, abstime=0x0, expected=0, futex_word=0x55baabbc8670) at ../sysdeps/unix/sysv/linux/futex-internal.h:205\n",
      "#1  do_futex_wait (sem=sem\n",
      "entry=0x55baabbc8670, abstime=0x0) at sem_waitcommon.c:111\n",
      "#2  0x00007f99ebe785e4 in __new_sem_wait_slow (sem=0x55baabbc8670, abstime=0x0) at sem_waitcommon.c:181\n",
      "#3  0x000055baa9e36d85 in PyThread_acquire_lock ()\n",
      "#4  0x000055baa9e82a8a in PyEval_RestoreThread ()\n",
      "#5  0x000055baa9f2fd29 in ?? ()\n",
      "#6  0x000055baa9e5c3ca in PyEval_EvalFrameEx ()\n",
      "#7  0x000055baa9e5a535 in PyEval_EvalCodeEx ()\n",
      "#8  0x000055baa9e61f19 in PyEval_EvalFrameEx ()\n",
      "#9  0x000055baa9e5a535 in PyEval_EvalCodeEx ()\n",
      "#10 0x000055baa9e76ea8 in ?? ()\n",
      "#11 0x000055baa9e48673 in PyObject_Call ()\n",
      "#12 0x000055baa9e5e8a5 in PyEval_EvalFrameEx ()\n",
      "#13 0x000055baa9e61c1f in PyEval_EvalFrameEx ()\n",
      "#14 0x000055baa9e61c1f in PyEval_EvalFrameEx ()\n",
      "#15 0x000055baa9e5a535 in PyEval_EvalCodeEx ()\n",
      "#16 0x000055baa9e76cee in ?? ()\n",
      "#17 0x000055baa9e48673 in PyObject_Call ()\n",
      "#18 0x000055baa9e8cfee in ?? ()\n",
      "#19 0x000055baa9e48673 in PyObject_Call ()\n",
      "#20 0x000055baa9e66430 in PyEval_CallObjectWithKeywords ()\n",
      "#21 0x000055baa9f2f8b2 in ?? ()\n",
      "#22 0x00007f99ebe70494 in start_thread (arg=0x7f99b91cf700) at pthread_create.c:333\n",
      "#23 0x00007f99eb28daff in clone () at ../sysdeps/unix/sysv/linux/x86_64/clone.S:97\n",
      "\n",
      "Thread 25 (Thread 0x7f9913fff700 (LWP 6046)):\n",
      "#0  pthread_cond_wait\n",
      "\n",
      "GLIBC_2.3.2 () at ../sysdeps/unix/sysv/linux/x86_64/pthread_cond_wait.S:185\n",
      "#1  0x00007f99e7b3750c in std::condition_variable::wait(std::unique_lock<std::mutex>&) () from /usr/lib/x86_64-linux-gnu/libstdc++.so.6\n",
      "#2  0x00007f99a59dc727 in Eigen::NonBlockingThreadPoolTempl<tensorflow::thread::EigenEnvironment>::WaitForWork(Eigen::EventCount::Waiter*, tensorflow::thread::EigenEnvironment::Task*) () from /usr/local/lib/python2.7/dist-packages/tensorflow/python/../libtensorflow_framework.so\n",
      "#3  0x00007f99a59dd19e in Eigen::NonBlockingThreadPoolTempl<tensorflow::thread::EigenEnvironment>::WorkerLoop(int) () from /usr/local/lib/python2.7/dist-packages/tensorflow/python/../libtensorflow_framework.so\n",
      "#4  0x00007f99a59dbed2 in std::_Function_handler<void (), tensorflow::thread::EigenEnvironment::CreateThread(std::function<void ()>)::{lambda()#1}>::_M_invoke(std::_Any_data const&) () from /usr/local/lib/python2.7/dist-packages/tensorflow/python/../libtensorflow_framework.so\n",
      "#5  0x00007f99e7b3d200 in ?? () from /usr/lib/x86_64-linux-gnu/libstdc++.so.6\n",
      "#6  0x00007f99ebe70494 in start_thre"
     ]
    }
   ],
   "source": [
    "c2=TCanvas()\n",
    "gr1.SetLineColor(kBlue)\n",
    "gr2.SetLineColor(kRed)\n",
    "mg =TMultiGraph()\n",
    "mg.Add(gr1,\"p\")\n",
    "mg.Add(gr2,\"p\")\n",
    "mg.Draw(\"a\")\n",
    "c2.Draw()"
   ]
  },
  {
   "cell_type": "code",
   "execution_count": null,
   "metadata": {},
   "outputs": [],
   "source": []
  },
  {
   "cell_type": "code",
   "execution_count": null,
   "metadata": {},
   "outputs": [],
   "source": []
  }
 ],
 "metadata": {
  "kernelspec": {
   "display_name": "Python 2",
   "language": "python",
   "name": "python2"
  },
  "language_info": {
   "codemirror_mode": {
    "name": "ipython",
    "version": 2
   },
   "file_extension": ".py",
   "mimetype": "text/x-python",
   "name": "python",
   "nbconvert_exporter": "python",
   "pygments_lexer": "ipython2",
   "version": "2.7.13"
  }
 },
 "nbformat": 4,
 "nbformat_minor": 2
}
