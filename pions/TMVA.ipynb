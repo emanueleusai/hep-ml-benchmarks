{
 "cells": [
  {
   "cell_type": "code",
   "execution_count": 1,
   "metadata": {},
   "outputs": [],
   "source": [
    "TMVA::Tools::Instance();\n",
    "TString outfileName( \"TMVAReg.root\" );\n",
    "TFile* outputFile = TFile::Open( outfileName, \"RECREATE\" );\n",
    "\n",
    "TMVA::Factory *factory = new TMVA::Factory( \"TMVARegression\", outputFile,\n",
    "                                               \"!V:!Silent:Color:DrawProgressBar:AnalysisType=Regression\" );\n",
    "\n",
    "TMVA::DataLoader *dataloader=new TMVA::DataLoader(\"dataset\");\n",
    "\n",
    "for(UInt_t i=0;i<162;i++)\n",
    "dataloader->AddVariable( Form(\"img[%d]\",i));\n",
    " \n"
   ]
  },
  {
   "cell_type": "code",
   "execution_count": 2,
   "metadata": {},
   "outputs": [],
   "source": [
    "for(UInt_t i=0;i<162;i++)\n",
    "dataloader->AddVariable( Form(\"img[%d]\",i));\n",
    " \n",
    "dataloader->AddTarget( \"target\" );"
   ]
  },
  {
   "cell_type": "code",
   "execution_count": 3,
   "metadata": {},
   "outputs": [
    {
     "name": "stdout",
     "output_type": "stream",
     "text": [
      "DataSetInfo              : [dataset] : Added class \"Regression\"\n",
      "                         : Add Tree reg of type Regression with 36000 events\n"
     ]
    }
   ],
   "source": [
    "auto input = TFile::Open(\"regtrain.root\");\n",
    "\n",
    "TTree *reg = (TTree*)input->Get(\"reg\");\n",
    "\n",
    "// global event weights per tree (see below for setting event-wise weights)\n",
    "Double_t regWeight  = 1.0;\n",
    "\n",
    "dataloader->AddRegressionTree( reg, regWeight );\n",
    " "
   ]
  },
  {
   "cell_type": "code",
   "execution_count": null,
   "metadata": {},
   "outputs": [
    {
     "name": "stdout",
     "output_type": "stream",
     "text": [
      "                         : Dataset[dataset] : Class index : 0  name : Regression\n"
     ]
    }
   ],
   "source": [
    "dataloader->PrepareTrainingAndTestTree( \"\",\n",
    "                                         \"nTrain_Regression=36000:nTest_Regression=0:SplitMode=Random:NormMode=NumEvents:!V\" );\n",
    "  "
   ]
  },
  {
   "cell_type": "code",
   "execution_count": null,
   "metadata": {},
   "outputs": [],
   "source": [
    "TString layoutString(\"Layout=TANH|100,LINEAR\");\n",
    "\n",
    "TString training0(\"LearningRate=1e-5,Momentum=0.5,Repetitions=1,ConvergenceSteps=500,BatchSize=50,\"\n",
    "                        \"TestRepetitions=7,WeightDecay=0.01,Regularization=NONE,DropConfig=0.5+0.5+0.5+0.5,\"\n",
    "                        \"DropRepetitions=2, Multithreading=True\");\n",
    "\n",
    "TString trainingStrategyString(\"TrainingStrategy=\");\n",
    "trainingStrategyString += training0 ;\n",
    "\n",
    "//       TString trainingStrategyString\n",
    "//       (\"TrainingStrategy=LearningRate=1e-1,Momentum=0.3,Repetitions=3,ConvergenceSteps=20,BatchSize=30,TestRepetitions=7,WeightDecay=0.0,L1=false,DropFraction=0.0,DropRepetitions=5\");\n",
    "\n",
    "TString nnOptions(\"!H:V:ErrorStrategy=SUMOFSQUARES:VarTransform=G:WeightInitialization=XAVIERUNIFORM:Architecture=CPU\");\n",
    "nnOptions.Append(\":\");\n",
    "nnOptions.Append(layoutString);\n",
    "nnOptions.Append(\":\");\n",
    "nnOptions.Append(trainingStrategyString);\n",
    "\n",
    "factory->BookMethod(dataloader, TMVA::Types::kDNN, \"DNN_CPU\", nnOptions); // NN"
   ]
  },
  {
   "cell_type": "code",
   "execution_count": null,
   "metadata": {},
   "outputs": [],
   "source": [
    "factory->BookMethod( dataloader,  TMVA::Types::kBDT, \"BDTG\",\n",
    "                           \"!H:!V:NTrees=2000::BoostType=Grad:Shrinkage=0.1:UseBaggedBoost:BaggedSampleFraction=0.5:nCuts=20:MaxDepth=3:MaxDepth=4\" );\n"
   ]
  },
  {
   "cell_type": "code",
   "execution_count": null,
   "metadata": {},
   "outputs": [],
   "source": []
  }
 ],
 "metadata": {
  "kernelspec": {
   "display_name": "ROOT C++",
   "language": "c++",
   "name": "root"
  },
  "language_info": {
   "codemirror_mode": "text/x-c++src",
   "file_extension": ".C",
   "mimetype": " text/x-c++src",
   "name": "c++"
  }
 },
 "nbformat": 4,
 "nbformat_minor": 2
}
